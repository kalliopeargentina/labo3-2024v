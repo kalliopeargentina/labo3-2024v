{
 "cells": [
  {
   "cell_type": "code",
   "execution_count": 1,
   "metadata": {},
   "outputs": [],
   "source": [
    "import pandas as pd\n",
    "import os\n",
    "import json\n",
    "from datetime import datetime\n",
    "#fase = '07_semillerio'"
   ]
  },
  {
   "cell_type": "code",
   "execution_count": 219,
   "metadata": {},
   "outputs": [],
   "source": [
    "# with open('gen_config.json', 'r') as file:\n",
    "#     gen_config =json.load(file)"
   ]
  },
  {
   "cell_type": "code",
   "execution_count": 220,
   "metadata": {},
   "outputs": [
    {
     "name": "stdout",
     "output_type": "stream",
     "text": [
      "----------------------------------------------COMIENZA----------------------------------------------\n",
      "-------------------------------------------07_semillerio--------------------------------------------\n"
     ]
    }
   ],
   "source": [
    "# folder = gen_config['folder']\n",
    "\n",
    "# path_semillerio = gen_config['path_semillerio']\n",
    "\n",
    "# print(f\"{'COMIENZA':-^100}\")\n",
    "# print(f\"{fase:-^100}\")"
   ]
  },
  {
   "cell_type": "code",
   "execution_count": 10,
   "metadata": {},
   "outputs": [
    {
     "name": "stdout",
     "output_type": "stream",
     "text": [
      "['C:\\\\Users\\\\ccarl\\\\Downloads\\\\Laboratorio3\\\\ensemble\\\\0012-prediccion-rmse_scaled_CORRECT-product_id.csv', 'C:\\\\Users\\\\ccarl\\\\Downloads\\\\Laboratorio3\\\\ensemble\\\\0014-prediccion-rmse_scaled_CORRECT-product_id-No_Buyers.csv', 'C:\\\\Users\\\\ccarl\\\\Downloads\\\\Laboratorio3\\\\ensemble\\\\0015-prediccion-rmse_scaled_CORRECT-product_id_LSTM-No_Buyer.csv', 'C:\\\\Users\\\\ccarl\\\\Downloads\\\\Laboratorio3\\\\ensemble\\\\0016-prediccion-rmse_scaled_CORRECT-product_id_PCA_Decompose-No_Buyers.csv', 'C:\\\\Users\\\\ccarl\\\\Downloads\\\\Laboratorio3\\\\ensemble\\\\0017-prediccion-rmse_scaled_CORRECT2-product_id.csv', 'C:\\\\Users\\\\ccarl\\\\Downloads\\\\Laboratorio3\\\\ensemble\\\\0019-prediccion-rmse_scaled_CORRECT2-product_id_LSTM-No_Buyer_weights.csv', 'C:\\\\Users\\\\ccarl\\\\Downloads\\\\Laboratorio3\\\\ensemble\\\\0020-prediccion-rmse_scaled_CORRECT2-product_id_LSTM-No_Buyer_weights_PCA_Decompose.csv', 'C:\\\\Users\\\\ccarl\\\\Downloads\\\\Laboratorio3\\\\ensemble\\\\0022-prediccion-custom_scaled_Robust-product_id_LSTM-No_Buyer_weights (1).csv', 'C:\\\\Users\\\\ccarl\\\\Downloads\\\\Laboratorio3\\\\ensemble\\\\0022-prediccion-custom_scaled_Robust-product_id_LSTM-No_Buyer_weights.csv', 'C:\\\\Users\\\\ccarl\\\\Downloads\\\\Laboratorio3\\\\ensemble\\\\0027-prediccion-RSME_scaled_Robust-product_id_LSTM-Outliers.csv', 'C:\\\\Users\\\\ccarl\\\\Downloads\\\\Laboratorio3\\\\ensemble\\\\0028-prediccion-RSME_scaled_Robust-product_id_LSTM-Back_In_Black.csv', 'C:\\\\Users\\\\ccarl\\\\Downloads\\\\Laboratorio3\\\\ensemble\\\\all_predictions.csv', 'C:\\\\Users\\\\ccarl\\\\Downloads\\\\Laboratorio3\\\\ensemble\\\\all_predictions_manual.csv', 'C:\\\\Users\\\\ccarl\\\\Downloads\\\\Laboratorio3\\\\ensemble\\\\predicciones (1).csv', 'C:\\\\Users\\\\ccarl\\\\Downloads\\\\Laboratorio3\\\\ensemble\\\\predicciones (2).csv', 'C:\\\\Users\\\\ccarl\\\\Downloads\\\\Laboratorio3\\\\ensemble\\\\predicciones.csv', 'C:\\\\Users\\\\ccarl\\\\Downloads\\\\Laboratorio3\\\\ensemble\\\\predicciones_1 (1).csv', 'C:\\\\Users\\\\ccarl\\\\Downloads\\\\Laboratorio3\\\\ensemble\\\\predicciones_autoarima.csv', 'C:\\\\Users\\\\ccarl\\\\Downloads\\\\Laboratorio3\\\\ensemble\\\\predicciones_LSTMV2.csv', 'C:\\\\Users\\\\ccarl\\\\Downloads\\\\Laboratorio3\\\\ensemble\\\\predicciones_PLSTM.csv', 'C:\\\\Users\\\\ccarl\\\\Downloads\\\\Laboratorio3\\\\ensemble\\\\Productos_escaladosV2.csv', 'C:\\\\Users\\\\ccarl\\\\Downloads\\\\Laboratorio3\\\\ensemble\\\\year2019 (1).csv', 'C:\\\\Users\\\\ccarl\\\\Downloads\\\\Laboratorio3\\\\ensemble\\\\year2019.csv']\n"
     ]
    }
   ],
   "source": [
    "import glob\n",
    "\n",
    "# Ruta a la carpeta actual\n",
    "DATOS_DIR = 'C:\\\\Users\\\\ccarl\\\\Downloads\\\\Laboratorio3'\n",
    "carpeta = os.path.join(DATOS_DIR, 'ensemble')\n",
    "\n",
    "# Obtener una lista de todos los archivos CSV en la carpeta actual\n",
    "archivos_csv = glob.glob(os.path.join(carpeta, '*.csv'))\n",
    "\n",
    "print(archivos_csv)"
   ]
  },
  {
   "cell_type": "code",
   "execution_count": 11,
   "metadata": {},
   "outputs": [
    {
     "name": "stdout",
     "output_type": "stream",
     "text": [
      "     product_id           tn         tn_2         tn_3         tn_4  \\\n",
      "0         20001  1538.221200  1531.498900  1457.747700  1437.998500   \n",
      "1         20002  1013.240900   999.090500  1060.877000  1070.170500   \n",
      "2         20003   855.485050   869.894170   965.951230   969.229600   \n",
      "3         20004   579.577900   630.408400   615.538940   657.138200   \n",
      "4         20005   594.488160   606.844540   641.293800   680.896670   \n",
      "..          ...          ...          ...          ...          ...   \n",
      "775       21263     0.014174     0.012844     0.029746     0.030338   \n",
      "776       21265     0.046031     0.067473     0.060393     0.066038   \n",
      "777       21266     0.110083     0.116650     0.119863     0.119863   \n",
      "778       21267     0.061913     0.052463     0.077111     0.078617   \n",
      "779       21276     0.068122     0.048482     0.077559     0.071434   \n",
      "\n",
      "            tn_5         tn_6         tn_7         tn_8         tn_9  ...  \\\n",
      "0    1559.747700  1492.303000  1828.163600  1468.810300  1455.074800  ...   \n",
      "1    1013.150630  1160.851200  1252.461500  1129.773200  1097.478000  ...   \n",
      "2     886.303200   983.392100   976.817300   818.067800   921.868400  ...   \n",
      "3     626.672400   671.865540   669.977400   645.451100   634.773900  ...   \n",
      "4     609.114800   683.490400   740.971070   677.222400   650.016900  ...   \n",
      "..           ...          ...          ...          ...          ...  ...   \n",
      "775    -0.004260     0.035902     0.035902     0.027203     0.036579  ...   \n",
      "776     0.052393     0.044877     0.047727     0.061014     0.055173  ...   \n",
      "777     0.035302     0.041579     0.041579     0.035782     0.041546  ...   \n",
      "778     0.052079     0.075450     0.081705     0.099690     0.101281  ...   \n",
      "779     0.030710     0.036009     0.038948     0.044351     0.060391  ...   \n",
      "\n",
      "           tn_14        tn_15        tn_16        tn_17        tn_18  \\\n",
      "0    1402.430811  1488.803766  1423.584695  1476.202581  1488.554631   \n",
      "1    1018.785335  1237.546628  1199.216541  1124.737752  1465.089571   \n",
      "2     895.000993   881.870602   889.782420   834.146618   896.648261   \n",
      "3     657.358186   655.590500   673.950767   645.049620   734.090543   \n",
      "4     628.819895   621.425943   637.097891   623.849714   526.392205   \n",
      "..           ...          ...          ...          ...          ...   \n",
      "775     0.047202     0.001428     0.053789     0.077647     0.000247   \n",
      "776     0.087830     0.084568     0.086637     0.089541     0.089541   \n",
      "777     0.093713     0.090769     0.089351     0.094659     0.094659   \n",
      "778     0.088010     0.021687     0.071247     0.092835     0.092835   \n",
      "779     0.020855    -0.012498     0.007270     0.045447    -0.014063   \n",
      "\n",
      "           tn_19        tn_20        tn_21        tn_22        tn_23  \n",
      "0    1500.782494  1499.664150  1195.685903  1454.732720  1454.732720  \n",
      "1    1184.422983  1183.416992   897.305623  1175.437142  1175.437142  \n",
      "2     753.199147   827.466720   906.387649   784.976407   784.976407  \n",
      "3     575.559533   578.223986   634.310898   627.215328   627.215328  \n",
      "4     542.084998   532.277580   565.090777   668.270104   668.270104  \n",
      "..           ...          ...          ...          ...          ...  \n",
      "775     0.020029     0.021039     0.078824     0.029993     0.029993  \n",
      "776     0.050586     0.000000     0.062365     0.089541     0.089541  \n",
      "777     0.049092     0.039309     0.061083     0.094659     0.094659  \n",
      "778     0.000000     0.054676     0.046212     0.092835     0.092835  \n",
      "779     0.007318     0.000000     0.018271     0.045447     0.045447  \n",
      "\n",
      "[780 rows x 24 columns]\n"
     ]
    }
   ],
   "source": [
    "df_sem = pd.DataFrame(columns=['product_id'])\n",
    "for i, archivo in enumerate(archivos_csv):\n",
    "    df_arch = pd.read_csv(archivo)\n",
    "    # Crear sufijos únicos para cada merge\n",
    "    suffix = f'_{i+1}'\n",
    "    df_sem = df_sem.merge(df_arch, on='product_id', how='outer', suffixes=('', suffix))\n",
    "\n",
    "print(df_sem)"
   ]
  },
  {
   "cell_type": "code",
   "execution_count": 12,
   "metadata": {},
   "outputs": [],
   "source": [
    "#promedios=df_sem.iloc[:,1:].mean(axis=1)"
   ]
  },
  {
   "cell_type": "code",
   "execution_count": 13,
   "metadata": {},
   "outputs": [
    {
     "name": "stdout",
     "output_type": "stream",
     "text": [
      "     product_id      tn_prom\n",
      "0         20001  1488.889915\n",
      "1         20002  1146.241175\n",
      "2         20003   864.313980\n",
      "3         20004   636.510099\n",
      "4         20005   620.768215\n",
      "..          ...          ...\n",
      "775       21263     0.053134\n",
      "776       21265     0.201523\n",
      "777       21266     0.183234\n",
      "778       21267     0.162511\n",
      "779       21276     0.046210\n",
      "\n",
      "[780 rows x 2 columns]\n"
     ]
    }
   ],
   "source": [
    "df_sem_final = pd.DataFrame({\n",
    "    'product_id': df_sem['product_id'],\n",
    "    'tn_prom': df_sem.iloc[:,1:].mean(axis=1)\n",
    "})\n",
    "\n",
    "print(df_sem_final)"
   ]
  },
  {
   "cell_type": "code",
   "execution_count": 14,
   "metadata": {},
   "outputs": [
    {
     "name": "stdout",
     "output_type": "stream",
     "text": [
      "Archivo guardado en: C:\\Users\\ccarl\\Downloads\\Laboratorio320240710_215225_sem_final.csv\n"
     ]
    }
   ],
   "source": [
    "# Nombre base del archivo\n",
    "path_semillerio = \"sem_final.csv\"\n",
    "\n",
    "# Crear el nombre del archivo con la marca de tiempo\n",
    "file_name = f\"{datetime.now().strftime('%Y%m%d_%H%M%S')}_{path_semillerio}\"\n",
    "\n",
    "# Ruta completa del archivo usando concatenación de cadenas\n",
    "file_path = DATOS_DIR + file_name\n",
    "\n",
    "# Guardar el DataFrame como un archivo CSV\n",
    "df_sem_final.to_csv(file_path, index=False)\n",
    "\n",
    "print(f\"Archivo guardado en: {file_path}\")"
   ]
  }
 ],
 "metadata": {
  "kernelspec": {
   "display_name": "faa",
   "language": "python",
   "name": "python3"
  },
  "language_info": {
   "codemirror_mode": {
    "name": "ipython",
    "version": 3
   },
   "file_extension": ".py",
   "mimetype": "text/x-python",
   "name": "python",
   "nbconvert_exporter": "python",
   "pygments_lexer": "ipython3",
   "version": "3.10.13"
  }
 },
 "nbformat": 4,
 "nbformat_minor": 2
}
