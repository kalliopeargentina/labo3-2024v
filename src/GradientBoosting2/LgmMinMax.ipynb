{
 "cells": [
  {
   "cell_type": "code",
   "execution_count": 1,
   "id": "70c83d21-afd1-4674-b872-e20806041c6f",
   "metadata": {},
   "outputs": [
    {
     "name": "stderr",
     "output_type": "stream",
     "text": [
      "C:\\ProgramData\\anaconda3\\Lib\\site-packages\\dask\\dataframe\\_pyarrow_compat.py:23: UserWarning: You are using pyarrow version 13.0.0 which is known to be insecure. See https://www.cve.org/CVERecord?id=CVE-2023-47248 for further details. Please upgrade to pyarrow>=14.0.1 or install pyarrow-hotfix to patch your current version.\n",
      "  warnings.warn(\n"
     ]
    }
   ],
   "source": [
    "import pandas as pd\n",
    "import numpy as np\n",
    "import matplotlib.pyplot as plt\n",
    "\n",
    "from sklearn.preprocessing import MinMaxScaler\n",
    "from sklearn.model_selection import train_test_split\n",
    "import lightgbm as lgb"
   ]
  },
  {
   "cell_type": "code",
   "execution_count": 2,
   "id": "1ef68ef2-b725-4482-8ca2-3ca6657f4036",
   "metadata": {},
   "outputs": [],
   "source": [
    "df_tb_productos = pd.read_csv('tb_productos.txt', sep='\\t')\n",
    "df_sell_in = pd.read_csv('sell-in.txt', sep='\\t')\n",
    "df_predecir = pd.read_csv('productos_a_predecir.txt', sep='\\t')\n",
    "df_tb_stocks = pd.read_csv('tb_stocks.txt', sep='\\t')"
   ]
  },
  {
   "cell_type": "code",
   "execution_count": 3,
   "id": "365caeb0",
   "metadata": {},
   "outputs": [],
   "source": [
    "# Join tb_productos to sell_in on product_id\n",
    "df_sell_in_merged = pd.merge(df_sell_in, df_tb_productos, on='product_id', how='left')\n",
    "# Join tb_stocks to sell_in_merged on both product_id and periodo\n",
    "df_final = pd.merge(df_sell_in_merged, df_tb_stocks, on=['product_id', 'periodo'], how='left')\n",
    "df_final['fecha'] = pd.to_datetime(df_final['periodo'], format='%Y%m')"
   ]
  },
  {
   "cell_type": "code",
   "execution_count": 4,
   "id": "68bb49ee-2ffa-437b-b9e6-f67cc0d10714",
   "metadata": {},
   "outputs": [],
   "source": [
    "df_sell_in = df_sell_in[df_sell_in['periodo']>=2019] #Tomo los ultimos 12 meses para predecir"
   ]
  },
  {
   "cell_type": "code",
   "execution_count": 5,
   "id": "164480fc-d6fa-4310-b1d5-f2b6293aad23",
   "metadata": {},
   "outputs": [],
   "source": [
    "# Join tb_productos to sell_in on product_id\n",
    "df_sell_in_merged = pd.merge(df_sell_in, df_tb_productos, on='product_id', how='left')\n",
    "# Join tb_stocks to sell_in_merged on both product_id and periodo\n",
    "df_final = pd.merge(df_sell_in_merged, df_tb_stocks, on=['product_id', 'periodo'], how='left')"
   ]
  },
  {
   "cell_type": "code",
   "execution_count": 6,
   "id": "c21d5bf9-c760-4e4c-a930-d3e2e3152911",
   "metadata": {},
   "outputs": [],
   "source": [
    "productos_a_predecir = df_predecir['product_id'].unique()\n",
    "\n",
    "df_final = df_sell_in[df_sell_in['product_id'].isin(productos_a_predecir)]"
   ]
  },
  {
   "cell_type": "code",
   "execution_count": 7,
   "id": "5e270c47-6ef9-422c-8ecd-c4cd179ce5b4",
   "metadata": {
    "scrolled": true
   },
   "outputs": [
    {
     "name": "stderr",
     "output_type": "stream",
     "text": [
      "C:\\Users\\djoglar\\AppData\\Local\\Temp\\ipykernel_22408\\1590532408.py:1: SettingWithCopyWarning: \n",
      "A value is trying to be set on a copy of a slice from a DataFrame.\n",
      "Try using .loc[row_indexer,col_indexer] = value instead\n",
      "\n",
      "See the caveats in the documentation: https://pandas.pydata.org/pandas-docs/stable/user_guide/indexing.html#returning-a-view-versus-a-copy\n",
      "  df_final['fecha'] = pd.to_datetime(df_final['periodo'], format='%Y%m')\n"
     ]
    }
   ],
   "source": [
    "df_final['fecha'] = pd.to_datetime(df_final['periodo'], format='%Y%m')"
   ]
  },
  {
   "cell_type": "code",
   "execution_count": 8,
   "id": "2058b361-e942-48a9-b243-5ef52380744d",
   "metadata": {},
   "outputs": [],
   "source": [
    "df_final = df_final.groupby(['product_id','fecha'])['tn'].sum().reset_index()"
   ]
  },
  {
   "cell_type": "code",
   "execution_count": 9,
   "id": "227d3b33-88b2-49aa-b3db-7f89da988e0d",
   "metadata": {},
   "outputs": [
    {
     "name": "stdout",
     "output_type": "stream",
     "text": [
      "       product_id      fecha          tn\n",
      "0           20001 2017-01-01   934.77222\n",
      "1           20001 2017-02-01   798.01620\n",
      "2           20001 2017-03-01  1303.35771\n",
      "3           20001 2017-04-01  1069.96130\n",
      "4           20001 2017-05-01  1502.20132\n",
      "...           ...        ...         ...\n",
      "22344       21276 2019-08-01     0.01265\n",
      "22345       21276 2019-09-01     0.01856\n",
      "22346       21276 2019-10-01     0.02079\n",
      "22347       21276 2019-11-01     0.03341\n",
      "22348       21276 2019-12-01     0.00892\n",
      "\n",
      "[22349 rows x 3 columns]\n"
     ]
    }
   ],
   "source": [
    "df_final_filtrado = df_final[df_final['product_id'].isin(productos_a_predecir)]\n",
    "df_final_filtrado['fecha'] = pd.to_datetime(df_final_filtrado['fecha'])\n",
    "ultima_fecha = df_final_filtrado['fecha'].max()\n",
    "\n",
    "print(df_final_filtrado)"
   ]
  },
  {
   "cell_type": "code",
   "execution_count": 11,
   "id": "d7a2f30a-af56-4308-9cf5-26ff25380a40",
   "metadata": {},
   "outputs": [],
   "source": [
    "df_final_filtrado['year'] = df_final_filtrado['fecha'].dt.year\n",
    "df_final_filtrado['month'] = df_final_filtrado['fecha'].dt.month\n",
    "df_final_filtrado = df_final_filtrado.drop(['fecha'], axis=1)"
   ]
  },
  {
   "cell_type": "code",
   "execution_count": 12,
   "id": "0e1d72bd-9746-4a27-b52c-61fff611c8de",
   "metadata": {},
   "outputs": [],
   "source": [
    "scalers = {}\n",
    "\n",
    "# Función para escalar y devolver una serie\n",
    "def minmax_scale_group(group):\n",
    "    scaler = MinMaxScaler()\n",
    "    scaled_values = scaler.fit_transform(group.values.reshape(-1, 1)).flatten()\n",
    "    scalers[group.name] = scaler  # Almacenar el escalador para este grupo\n",
    "    return pd.Series(scaled_values, index=group.index)\n",
    "\n",
    "df_final_filtrado['valor_escalado'] = df_final_filtrado.groupby('product_id')['tn'].transform(minmax_scale_group)"
   ]
  },
  {
   "cell_type": "code",
   "execution_count": 13,
   "id": "95cd83c9-28ed-4ec6-a183-a1de1727cbc4",
   "metadata": {},
   "outputs": [
    {
     "data": {
      "text/html": [
       "<div>\n",
       "<style scoped>\n",
       "    .dataframe tbody tr th:only-of-type {\n",
       "        vertical-align: middle;\n",
       "    }\n",
       "\n",
       "    .dataframe tbody tr th {\n",
       "        vertical-align: top;\n",
       "    }\n",
       "\n",
       "    .dataframe thead th {\n",
       "        text-align: right;\n",
       "    }\n",
       "</style>\n",
       "<table border=\"1\" class=\"dataframe\">\n",
       "  <thead>\n",
       "    <tr style=\"text-align: right;\">\n",
       "      <th></th>\n",
       "      <th>product_id</th>\n",
       "      <th>tn</th>\n",
       "      <th>year</th>\n",
       "      <th>month</th>\n",
       "      <th>valor_escalado</th>\n",
       "    </tr>\n",
       "  </thead>\n",
       "  <tbody>\n",
       "    <tr>\n",
       "      <th>0</th>\n",
       "      <td>20001</td>\n",
       "      <td>934.77222</td>\n",
       "      <td>2017</td>\n",
       "      <td>1</td>\n",
       "      <td>0.091342</td>\n",
       "    </tr>\n",
       "    <tr>\n",
       "      <th>1</th>\n",
       "      <td>20001</td>\n",
       "      <td>798.01620</td>\n",
       "      <td>2017</td>\n",
       "      <td>2</td>\n",
       "      <td>0.000000</td>\n",
       "    </tr>\n",
       "    <tr>\n",
       "      <th>2</th>\n",
       "      <td>20001</td>\n",
       "      <td>1303.35771</td>\n",
       "      <td>2017</td>\n",
       "      <td>3</td>\n",
       "      <td>0.337528</td>\n",
       "    </tr>\n",
       "  </tbody>\n",
       "</table>\n",
       "</div>"
      ],
      "text/plain": [
       "   product_id          tn  year  month  valor_escalado\n",
       "0       20001   934.77222  2017      1        0.091342\n",
       "1       20001   798.01620  2017      2        0.000000\n",
       "2       20001  1303.35771  2017      3        0.337528"
      ]
     },
     "execution_count": 13,
     "metadata": {},
     "output_type": "execute_result"
    }
   ],
   "source": [
    "df_final_filtrado.head(3)"
   ]
  },
  {
   "cell_type": "code",
   "execution_count": 14,
   "id": "564dc136-cc44-45c6-a34f-270ee0482812",
   "metadata": {},
   "outputs": [],
   "source": [
    "dataset_final = df_final_filtrado.drop(['tn'], axis=1)"
   ]
  },
  {
   "cell_type": "code",
   "execution_count": null,
   "id": "83e7e95f-e767-4e23-b0cf-1058627df013",
   "metadata": {},
   "outputs": [],
   "source": []
  },
  {
   "cell_type": "code",
   "execution_count": 15,
   "id": "04abc6ac-2c17-4016-82c1-961252031169",
   "metadata": {},
   "outputs": [],
   "source": [
    "X = dataset_final.drop(['valor_escalado'], axis=1)\n",
    "y = dataset_final.valor_escalado"
   ]
  },
  {
   "cell_type": "code",
   "execution_count": 16,
   "id": "3969a442-45f2-4a0f-855f-60effb1adeac",
   "metadata": {},
   "outputs": [],
   "source": [
    "X_train, X_test, y_train, y_test = train_test_split(X, y, test_size=2, shuffle=False)"
   ]
  },
  {
   "cell_type": "code",
   "execution_count": 17,
   "id": "46611bc8-d4ed-4662-a9f3-c454eba752cf",
   "metadata": {},
   "outputs": [
    {
     "name": "stdout",
     "output_type": "stream",
     "text": [
      "[LightGBM] [Info] Auto-choosing row-wise multi-threading, the overhead of testing was 0.000112 seconds.\n",
      "You can set `force_row_wise=true` to remove the overhead.\n",
      "And if memory is not enough, you can set `force_col_wise=true`.\n",
      "[LightGBM] [Info] Total Bins 272\n",
      "[LightGBM] [Info] Number of data points in the train set: 22347, number of used features: 3\n",
      "[LightGBM] [Info] Start training from score 0.414666\n",
      "Training until validation scores don't improve for 10 rounds\n",
      "Early stopping, best iteration is:\n",
      "[35]\tvalid_0's rmse: 0.0951565\n"
     ]
    }
   ],
   "source": [
    "# Crear dataset de LightGBM\n",
    "train_data = lgb.Dataset(X_train, label=y_train)\n",
    "test_data = lgb.Dataset(X_test, label=y_test, reference=train_data)\n",
    "\n",
    "# Definir parámetros del modelo\n",
    "params = {\n",
    "    'objective': 'regression',\n",
    "    'metric': 'rmse',\n",
    "}\n",
    "\n",
    "# Entrenar el modelo\n",
    "model = lgb.train(params, \n",
    "                  train_data, \n",
    "                  valid_sets=[test_data],\n",
    "                  num_boost_round=100,\n",
    "                  callbacks=[lgb.early_stopping(stopping_rounds=10)])"
   ]
  },
  {
   "cell_type": "code",
   "execution_count": 18,
   "id": "f23a7cc0-bd1d-4e27-b4e9-22da6b293f4d",
   "metadata": {
    "scrolled": true
   },
   "outputs": [],
   "source": [
    "# Obtener la última fecha disponible\n",
    "\n",
    "# Calcular la fecha del segundo mes siguiente\n",
    "fecha_prediccion = ultima_fecha + pd.DateOffset(months=2)\n",
    "\n",
    "# Agregar la columna de fecha a df_predecir\n",
    "df_predecir['fecha'] = fecha_prediccion\n",
    "\n",
    "\n",
    "# Extraer características de la fecha futura\n",
    "df_predecir['year'] = df_predecir['fecha'].dt.year\n",
    "df_predecir['month'] = df_predecir['fecha'].dt.month\n",
    "\n",
    "X_future = df_predecir.drop(['fecha'], axis=1)\n",
    "\n",
    "# Realizar la predicción\n",
    "df_predecir['pred'] = model.predict(X_future)"
   ]
  },
  {
   "cell_type": "code",
   "execution_count": 19,
   "id": "3dc33150-d353-42d6-806b-8421005f0849",
   "metadata": {},
   "outputs": [
    {
     "data": {
      "text/html": [
       "<div>\n",
       "<style scoped>\n",
       "    .dataframe tbody tr th:only-of-type {\n",
       "        vertical-align: middle;\n",
       "    }\n",
       "\n",
       "    .dataframe tbody tr th {\n",
       "        vertical-align: top;\n",
       "    }\n",
       "\n",
       "    .dataframe thead th {\n",
       "        text-align: right;\n",
       "    }\n",
       "</style>\n",
       "<table border=\"1\" class=\"dataframe\">\n",
       "  <thead>\n",
       "    <tr style=\"text-align: right;\">\n",
       "      <th></th>\n",
       "      <th>product_id</th>\n",
       "      <th>fecha</th>\n",
       "      <th>year</th>\n",
       "      <th>month</th>\n",
       "      <th>pred</th>\n",
       "    </tr>\n",
       "  </thead>\n",
       "  <tbody>\n",
       "    <tr>\n",
       "      <th>0</th>\n",
       "      <td>20001</td>\n",
       "      <td>2020-02-01</td>\n",
       "      <td>2020</td>\n",
       "      <td>2</td>\n",
       "      <td>0.29123</td>\n",
       "    </tr>\n",
       "    <tr>\n",
       "      <th>1</th>\n",
       "      <td>20002</td>\n",
       "      <td>2020-02-01</td>\n",
       "      <td>2020</td>\n",
       "      <td>2</td>\n",
       "      <td>0.29123</td>\n",
       "    </tr>\n",
       "    <tr>\n",
       "      <th>2</th>\n",
       "      <td>20003</td>\n",
       "      <td>2020-02-01</td>\n",
       "      <td>2020</td>\n",
       "      <td>2</td>\n",
       "      <td>0.29123</td>\n",
       "    </tr>\n",
       "    <tr>\n",
       "      <th>3</th>\n",
       "      <td>20004</td>\n",
       "      <td>2020-02-01</td>\n",
       "      <td>2020</td>\n",
       "      <td>2</td>\n",
       "      <td>0.29123</td>\n",
       "    </tr>\n",
       "    <tr>\n",
       "      <th>4</th>\n",
       "      <td>20005</td>\n",
       "      <td>2020-02-01</td>\n",
       "      <td>2020</td>\n",
       "      <td>2</td>\n",
       "      <td>0.29123</td>\n",
       "    </tr>\n",
       "    <tr>\n",
       "      <th>5</th>\n",
       "      <td>20006</td>\n",
       "      <td>2020-02-01</td>\n",
       "      <td>2020</td>\n",
       "      <td>2</td>\n",
       "      <td>0.29123</td>\n",
       "    </tr>\n",
       "  </tbody>\n",
       "</table>\n",
       "</div>"
      ],
      "text/plain": [
       "   product_id      fecha  year  month     pred\n",
       "0       20001 2020-02-01  2020      2  0.29123\n",
       "1       20002 2020-02-01  2020      2  0.29123\n",
       "2       20003 2020-02-01  2020      2  0.29123\n",
       "3       20004 2020-02-01  2020      2  0.29123\n",
       "4       20005 2020-02-01  2020      2  0.29123\n",
       "5       20006 2020-02-01  2020      2  0.29123"
      ]
     },
     "execution_count": 19,
     "metadata": {},
     "output_type": "execute_result"
    }
   ],
   "source": [
    "df_predecir.head(6)"
   ]
  },
  {
   "cell_type": "code",
   "execution_count": 20,
   "id": "aa75b16f-39ca-4560-87c3-d86f5b036ddf",
   "metadata": {},
   "outputs": [],
   "source": [
    "# Función para desescalar y devolver una serie\n",
    "def inverse_minmax_scale_group(group):\n",
    "    scaler = scalers[group.name]\n",
    "    inversed_values = scaler.inverse_transform(group.values.reshape(-1, 1)).flatten()\n",
    "    return pd.Series(inversed_values, index=group.index)\n",
    "\n",
    "# Aplicar la desescalado a cada grupo de productos\n",
    "df_predecir['tn'] = df_predecir.groupby('product_id')['pred'].transform(inverse_minmax_scale_group)"
   ]
  },
  {
   "cell_type": "code",
   "execution_count": 21,
   "id": "1912bb24-48f4-46f0-9b84-de59f6c9672f",
   "metadata": {},
   "outputs": [
    {
     "data": {
      "text/html": [
       "<div>\n",
       "<style scoped>\n",
       "    .dataframe tbody tr th:only-of-type {\n",
       "        vertical-align: middle;\n",
       "    }\n",
       "\n",
       "    .dataframe tbody tr th {\n",
       "        vertical-align: top;\n",
       "    }\n",
       "\n",
       "    .dataframe thead th {\n",
       "        text-align: right;\n",
       "    }\n",
       "</style>\n",
       "<table border=\"1\" class=\"dataframe\">\n",
       "  <thead>\n",
       "    <tr style=\"text-align: right;\">\n",
       "      <th></th>\n",
       "      <th>product_id</th>\n",
       "      <th>fecha</th>\n",
       "      <th>year</th>\n",
       "      <th>month</th>\n",
       "      <th>pred</th>\n",
       "      <th>tn</th>\n",
       "    </tr>\n",
       "  </thead>\n",
       "  <tbody>\n",
       "    <tr>\n",
       "      <th>0</th>\n",
       "      <td>20001</td>\n",
       "      <td>2020-02-01</td>\n",
       "      <td>2020</td>\n",
       "      <td>2</td>\n",
       "      <td>0.29123</td>\n",
       "      <td>1234.040326</td>\n",
       "    </tr>\n",
       "    <tr>\n",
       "      <th>1</th>\n",
       "      <td>20002</td>\n",
       "      <td>2020-02-01</td>\n",
       "      <td>2020</td>\n",
       "      <td>2</td>\n",
       "      <td>0.29123</td>\n",
       "      <td>935.057206</td>\n",
       "    </tr>\n",
       "    <tr>\n",
       "      <th>2</th>\n",
       "      <td>20003</td>\n",
       "      <td>2020-02-01</td>\n",
       "      <td>2020</td>\n",
       "      <td>2</td>\n",
       "      <td>0.29123</td>\n",
       "      <td>943.092043</td>\n",
       "    </tr>\n",
       "  </tbody>\n",
       "</table>\n",
       "</div>"
      ],
      "text/plain": [
       "   product_id      fecha  year  month     pred           tn\n",
       "0       20001 2020-02-01  2020      2  0.29123  1234.040326\n",
       "1       20002 2020-02-01  2020      2  0.29123   935.057206\n",
       "2       20003 2020-02-01  2020      2  0.29123   943.092043"
      ]
     },
     "execution_count": 21,
     "metadata": {},
     "output_type": "execute_result"
    }
   ],
   "source": [
    "df_predecir.head(3)"
   ]
  },
  {
   "cell_type": "code",
   "execution_count": 22,
   "id": "617832a4-b610-4518-9690-71790c250186",
   "metadata": {},
   "outputs": [],
   "source": [
    "# Especificar las columnas a mantener\n",
    "columnas_a_mantener = ['product_id','tn']\n",
    "\n",
    "# Seleccionar solo las columnas especificadas\n",
    "df_predecir = df_predecir.loc[:, columnas_a_mantener]"
   ]
  },
  {
   "cell_type": "code",
   "execution_count": 23,
   "id": "68c38614-2162-41c0-b8f8-aea56c336dd9",
   "metadata": {},
   "outputs": [],
   "source": [
    "# Convertir la lista a un DataFrame\n",
    "df_predictions = pd.DataFrame(df_predecir)\n",
    "df_predictions['tn'] = df_predictions['tn'].clip(lower=0)\n",
    "df_predictions = df_predictions.fillna(0)\n",
    "df_predictions.to_csv('predicciones_escaladasMinMaxV2.csv', index=False, header=True)"
   ]
  },
  {
   "cell_type": "code",
   "execution_count": null,
   "id": "57dd2038-6ba8-48d0-91d5-86fec7eba022",
   "metadata": {},
   "outputs": [],
   "source": []
  },
  {
   "cell_type": "code",
   "execution_count": null,
   "id": "c2fb1939-164c-4e60-8b01-e7e5107fc285",
   "metadata": {},
   "outputs": [],
   "source": []
  }
 ],
 "metadata": {
  "kernelspec": {
   "display_name": "Python 3 (ipykernel)",
   "language": "python",
   "name": "python3"
  },
  "language_info": {
   "codemirror_mode": {
    "name": "ipython",
    "version": 3
   },
   "file_extension": ".py",
   "mimetype": "text/x-python",
   "name": "python",
   "nbconvert_exporter": "python",
   "pygments_lexer": "ipython3",
   "version": "3.11.7"
  }
 },
 "nbformat": 4,
 "nbformat_minor": 5
}
