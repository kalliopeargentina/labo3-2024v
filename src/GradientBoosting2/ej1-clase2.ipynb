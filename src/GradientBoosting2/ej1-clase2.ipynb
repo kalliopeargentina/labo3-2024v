{
 "cells": [
  {
   "cell_type": "code",
   "execution_count": 1,
   "id": "70c83d21-afd1-4674-b872-e20806041c6f",
   "metadata": {},
   "outputs": [],
   "source": [
    "import pandas as pd\n"
   ]
  },
  {
   "cell_type": "code",
   "execution_count": 78,
   "id": "1ef68ef2-b725-4482-8ca2-3ca6657f4036",
   "metadata": {},
   "outputs": [],
   "source": [
    "\n",
    "df_sell_in = pd.read_csv('data/sell-in.txt', sep='\\t')\n",
    "df_prods = pd.read_csv('data/productos_a_predecir.txt', sep='\\t')\n"
   ]
  },
  {
   "cell_type": "code",
   "execution_count": 4,
   "id": "1f189f38-76b5-4bb9-85b1-b4be864e7e5d",
   "metadata": {},
   "outputs": [],
   "source": [
    "df_marzo = df_sell_in[df_sell_in['periodo']==201903]"
   ]
  },
  {
   "cell_type": "code",
   "execution_count": 5,
   "id": "2e0d1864-df55-4631-ad8a-9c5f38ad572c",
   "metadata": {},
   "outputs": [],
   "source": [
    "df_mayo = df_sell_in[df_sell_in['periodo']==201905]"
   ]
  },
  {
   "cell_type": "code",
   "execution_count": 6,
   "id": "b66df42c-b9a0-476b-9958-35ac7fb5e0a2",
   "metadata": {},
   "outputs": [],
   "source": [
    "def multinacional_metric(y_true, y_pred):\n",
    "     return abs(sum(y_true - y_pred)) / sum(y_true)"
   ]
  },
  {
   "cell_type": "code",
   "execution_count": 7,
   "id": "a112d31b-0af0-4287-bbe9-ab21f2887e2d",
   "metadata": {},
   "outputs": [
    {
     "data": {
      "text/html": [
       "<div>\n",
       "<style scoped>\n",
       "    .dataframe tbody tr th:only-of-type {\n",
       "        vertical-align: middle;\n",
       "    }\n",
       "\n",
       "    .dataframe tbody tr th {\n",
       "        vertical-align: top;\n",
       "    }\n",
       "\n",
       "    .dataframe thead th {\n",
       "        text-align: right;\n",
       "    }\n",
       "</style>\n",
       "<table border=\"1\" class=\"dataframe\">\n",
       "  <thead>\n",
       "    <tr style=\"text-align: right;\">\n",
       "      <th></th>\n",
       "      <th>periodo</th>\n",
       "      <th>customer_id</th>\n",
       "      <th>product_id</th>\n",
       "      <th>plan_precios_cuidados</th>\n",
       "      <th>cust_request_qty</th>\n",
       "      <th>cust_request_tn</th>\n",
       "      <th>tn</th>\n",
       "    </tr>\n",
       "  </thead>\n",
       "  <tbody>\n",
       "    <tr>\n",
       "      <th>2352823</th>\n",
       "      <td>201905</td>\n",
       "      <td>10005</td>\n",
       "      <td>20524</td>\n",
       "      <td>0</td>\n",
       "      <td>1</td>\n",
       "      <td>0.01514</td>\n",
       "      <td>0.01514</td>\n",
       "    </tr>\n",
       "    <tr>\n",
       "      <th>2352824</th>\n",
       "      <td>201905</td>\n",
       "      <td>10118</td>\n",
       "      <td>20524</td>\n",
       "      <td>0</td>\n",
       "      <td>1</td>\n",
       "      <td>0.02271</td>\n",
       "      <td>0.02271</td>\n",
       "    </tr>\n",
       "    <tr>\n",
       "      <th>2352825</th>\n",
       "      <td>201905</td>\n",
       "      <td>10080</td>\n",
       "      <td>20524</td>\n",
       "      <td>0</td>\n",
       "      <td>1</td>\n",
       "      <td>0.02271</td>\n",
       "      <td>0.02271</td>\n",
       "    </tr>\n",
       "  </tbody>\n",
       "</table>\n",
       "</div>"
      ],
      "text/plain": [
       "         periodo  customer_id  product_id  plan_precios_cuidados  \\\n",
       "2352823   201905        10005       20524                      0   \n",
       "2352824   201905        10118       20524                      0   \n",
       "2352825   201905        10080       20524                      0   \n",
       "\n",
       "         cust_request_qty  cust_request_tn       tn  \n",
       "2352823                 1          0.01514  0.01514  \n",
       "2352824                 1          0.02271  0.02271  \n",
       "2352825                 1          0.02271  0.02271  "
      ]
     },
     "execution_count": 7,
     "metadata": {},
     "output_type": "execute_result"
    }
   ],
   "source": [
    "df_mayo.head(3)"
   ]
  },
  {
   "cell_type": "code",
   "execution_count": 8,
   "id": "41729c88-8788-4b30-8f2e-267da27f68b9",
   "metadata": {},
   "outputs": [],
   "source": [
    "df_mayo = df_mayo.drop(columns=['customer_id', 'plan_precios_cuidados','cust_request_qty',\t'cust_request_tn'], inplace=False)"
   ]
  },
  {
   "cell_type": "code",
   "execution_count": 9,
   "id": "a7f1d01e-9ba9-4983-ac78-ef468af5471b",
   "metadata": {},
   "outputs": [],
   "source": [
    " df_marzo.drop(columns=['plan_precios_cuidados','cust_request_qty','cust_request_tn'], inplace=False)df_marzo ="
   ]
  },
  {
   "cell_type": "code",
   "execution_count": 50,
   "id": "992998d6-639f-4b9c-8f2b-df06982ec407",
   "metadata": {},
   "outputs": [],
   "source": [
    "df_mayo = df_mayo.groupby(['product_id']).mean()\n",
    "df_marzo = df_marzo.groupby(['product_id']).mean()"
   ]
  },
  {
   "cell_type": "code",
   "execution_count": 51,
   "id": "d44d0173-b919-4aa3-8b82-d04aebf2756c",
   "metadata": {},
   "outputs": [],
   "source": [
    "df_mayo = df_mayo.rename(columns={'tn': 'tn_actual'})\n",
    "df_marzo = df_marzo.rename(columns={'tn': 'tn_pred'})"
   ]
  },
  {
   "cell_type": "code",
   "execution_count": 52,
   "id": "f0abb181-2abd-451a-ad75-0b0d17b0f9cb",
   "metadata": {},
   "outputs": [],
   "source": [
    "df_pred = pd.merge(df_mayo, df_marzo, how=\"left\", on=[\"product_id\"])"
   ]
  },
  {
   "cell_type": "code",
   "execution_count": 53,
   "id": "a757133f-273e-4a49-b459-8afc0747d8fa",
   "metadata": {},
   "outputs": [
    {
     "data": {
      "text/plain": [
       "0.13065835342682558"
      ]
     },
     "execution_count": 53,
     "metadata": {},
     "output_type": "execute_result"
    }
   ],
   "source": [
    "multinacional_metric(df_pred['tn_actual'].fillna(0),df_pred['tn_pred'].fillna(0))"
   ]
  },
  {
   "cell_type": "code",
   "execution_count": 83,
   "id": "40fc9d7b",
   "metadata": {},
   "outputs": [
    {
     "data": {
      "text/html": [
       "<div>\n",
       "<style scoped>\n",
       "    .dataframe tbody tr th:only-of-type {\n",
       "        vertical-align: middle;\n",
       "    }\n",
       "\n",
       "    .dataframe tbody tr th {\n",
       "        vertical-align: top;\n",
       "    }\n",
       "\n",
       "    .dataframe thead th {\n",
       "        text-align: right;\n",
       "    }\n",
       "</style>\n",
       "<table border=\"1\" class=\"dataframe\">\n",
       "  <thead>\n",
       "    <tr style=\"text-align: right;\">\n",
       "      <th></th>\n",
       "      <th>product_id</th>\n",
       "      <th>promedio</th>\n",
       "    </tr>\n",
       "  </thead>\n",
       "  <tbody>\n",
       "    <tr>\n",
       "      <th>1812744</th>\n",
       "      <td>20524</td>\n",
       "      <td>0.120771</td>\n",
       "    </tr>\n",
       "    <tr>\n",
       "      <th>1812745</th>\n",
       "      <td>20524</td>\n",
       "      <td>0.120771</td>\n",
       "    </tr>\n",
       "    <tr>\n",
       "      <th>1812746</th>\n",
       "      <td>20524</td>\n",
       "      <td>0.120771</td>\n",
       "    </tr>\n",
       "  </tbody>\n",
       "</table>\n",
       "</div>"
      ],
      "text/plain": [
       "         product_id  promedio\n",
       "1812744       20524  0.120771\n",
       "1812745       20524  0.120771\n",
       "1812746       20524  0.120771"
      ]
     },
     "execution_count": 83,
     "metadata": {},
     "output_type": "execute_result"
    }
   ],
   "source": [
    "df_seis_meses = df_sell_in[((df_sell_in['periodo'] == 201810) | (df_sell_in['periodo'] == 201810) | (df_sell_in['periodo'] == 201811) | (df_sell_in['periodo'] == 201812) | (df_sell_in['periodo'] == 201901)| (df_sell_in['periodo'] == 201902)| (df_sell_in['periodo'] == 201903))]\n",
    "df_prom = pd.DataFrame(df_seis_meses['product_id'])\n",
    "df_seis_meses = df_seis_meses.drop(columns=['plan_precios_cuidados','periodo','cust_request_qty','cust_request_tn'], inplace=False)\n",
    "promedios = df_seis_meses.groupby('product_id')['tn'].mean()\n",
    "df_prom['promedio'] = df_prom['product_id'].map(promedios)\n",
    "\n",
    "\n",
    "\n"
   ]
  }
 ],
 "metadata": {
  "kernelspec": {
   "display_name": "Python 3 (ipykernel)",
   "language": "python",
   "name": "python3"
  },
  "language_info": {
   "codemirror_mode": {
    "name": "ipython",
    "version": 3
   },
   "file_extension": ".py",
   "mimetype": "text/x-python",
   "name": "python",
   "nbconvert_exporter": "python",
   "pygments_lexer": "ipython3",
   "version": "3.10.11"
  }
 },
 "nbformat": 4,
 "nbformat_minor": 5
}
