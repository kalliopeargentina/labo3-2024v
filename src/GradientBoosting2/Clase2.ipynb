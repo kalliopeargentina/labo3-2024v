{
 "cells": [
  {
   "cell_type": "code",
   "execution_count": 2,
   "id": "70c83d21-afd1-4674-b872-e20806041c6f",
   "metadata": {},
   "outputs": [],
   "source": [
    "import pandas as pd"
   ]
  },
  {
   "cell_type": "code",
   "execution_count": 158,
   "id": "b66df42c-b9a0-476b-9958-35ac7fb5e0a2",
   "metadata": {},
   "outputs": [],
   "source": [
    "def multinacional_metric(y_true, y_pred):\n",
    "     return abs(sum(y_true - y_pred)) / sum(y_true)"
   ]
  },
  {
   "cell_type": "code",
   "execution_count": 155,
   "id": "1ef68ef2-b725-4482-8ca2-3ca6657f4036",
   "metadata": {},
   "outputs": [],
   "source": [
    "df_tb_productos = pd.read_csv('tb_productos.txt', sep='\\t')\n",
    "df_sell_in = pd.read_csv('sell-in.txt', sep='\\t')\n",
    "df_predecir = pd.read_csv('productos_a_predecir.txt', sep='\\t')"
   ]
  },
  {
   "cell_type": "code",
   "execution_count": null,
   "id": "164480fc-d6fa-4310-b1d5-f2b6293aad23",
   "metadata": {},
   "outputs": [],
   "source": []
  },
  {
   "cell_type": "code",
   "execution_count": null,
   "id": "dc7180ff-dbbc-406d-a763-00bc3c1a1b5b",
   "metadata": {},
   "outputs": [],
   "source": []
  },
  {
   "cell_type": "code",
   "execution_count": null,
   "id": "ddda9b02-44d1-4048-af0a-a69cd2b5aeaf",
   "metadata": {},
   "outputs": [],
   "source": [
    "#PRIMERA PARTE"
   ]
  },
  {
   "cell_type": "code",
   "execution_count": 156,
   "id": "1f189f38-76b5-4bb9-85b1-b4be864e7e5d",
   "metadata": {},
   "outputs": [],
   "source": [
    "df_marzo = df_sell_in[df_sell_in['periodo']==201903]"
   ]
  },
  {
   "cell_type": "code",
   "execution_count": 157,
   "id": "2e0d1864-df55-4631-ad8a-9c5f38ad572c",
   "metadata": {},
   "outputs": [],
   "source": [
    "df_mayo = df_sell_in[df_sell_in['periodo']==201905]"
   ]
  },
  {
   "cell_type": "code",
   "execution_count": 161,
   "id": "2c4be2ae-d1fe-4219-9557-d771a0cea0f6",
   "metadata": {},
   "outputs": [],
   "source": [
    "mayo_tn = df_mayo.groupby('product_id')['tn'].sum().reset_index()"
   ]
  },
  {
   "cell_type": "code",
   "execution_count": 162,
   "id": "f59734bd-262e-4708-be48-ea70b3ce7070",
   "metadata": {},
   "outputs": [],
   "source": [
    "marzo_tn = df_marzo.groupby('product_id')['tn'].sum().reset_index()"
   ]
  },
  {
   "cell_type": "code",
   "execution_count": 163,
   "id": "d44d0173-b919-4aa3-8b82-d04aebf2756c",
   "metadata": {},
   "outputs": [],
   "source": [
    "mayo_tn = mayo_tn.rename(columns={'tn': 'tn_actual'})\n",
    "marzo_tn = marzo_tn.rename(columns={'tn': 'tn_pred'})"
   ]
  },
  {
   "cell_type": "code",
   "execution_count": 164,
   "id": "f0abb181-2abd-451a-ad75-0b0d17b0f9cb",
   "metadata": {},
   "outputs": [],
   "source": [
    "df_pred = pd.merge(mayo_tn, marzo_tn, how=\"left\", on=[\"product_id\"])"
   ]
  },
  {
   "cell_type": "code",
   "execution_count": 165,
   "id": "a757133f-273e-4a49-b459-8afc0747d8fa",
   "metadata": {},
   "outputs": [
    {
     "data": {
      "text/plain": [
       "0.06281789350589442"
      ]
     },
     "execution_count": 165,
     "metadata": {},
     "output_type": "execute_result"
    }
   ],
   "source": [
    "multinacional_metric(df_pred['tn_actual'].fillna(0),df_pred['tn_pred'].fillna(0))"
   ]
  },
  {
   "cell_type": "code",
   "execution_count": null,
   "id": "2011f1fc-6871-4fac-8188-6ff5bbb6a2df",
   "metadata": {},
   "outputs": [],
   "source": [
    "#USAR LOS ULTIMOS 6 MESES Y PROMEDIAR PARA ESTIMAR"
   ]
  },
  {
   "cell_type": "code",
   "execution_count": 193,
   "id": "1536e9cf-9620-4ffb-9c56-4bb1d8cd263d",
   "metadata": {},
   "outputs": [
    {
     "data": {
      "text/plain": [
       "0.02615791041789335"
      ]
     },
     "execution_count": 193,
     "metadata": {},
     "output_type": "execute_result"
    }
   ],
   "source": [
    "df_seismeses = df_sell_in[(df_sell_in['periodo']>=201810) & (df_sell_in['periodo']<=201903)]\n",
    "df_seismeses = df_seismeses.groupby(['periodo','product_id'])['tn'].sum().reset_index()\n",
    "promedio_por_producto = df_seismeses.groupby('product_id')['tn'].mean().reset_index()\n",
    "promedio_por_producto.rename(columns={'tn': 'tn_pred_seis'}, inplace=True)\n",
    "df_pred_seis = pd.merge(mayo_tn, promedio_por_producto, how=\"left\", on=[\"product_id\"])\n",
    "multinacional_metric(df_pred_seis['tn_actual'].fillna(0),df_pred_seis['tn_pred_seis'].fillna(0))"
   ]
  },
  {
   "cell_type": "code",
   "execution_count": null,
   "id": "2d00e6a9-5b0e-432d-878f-3f5eba9509d8",
   "metadata": {},
   "outputs": [],
   "source": [
    "#SEGUNDA PARTE"
   ]
  },
  {
   "cell_type": "code",
   "execution_count": null,
   "id": "f1ecdf17-ccee-49c8-9322-87fb9e6b4e9c",
   "metadata": {},
   "outputs": [],
   "source": [
    "#PREDECIR FEBRERO 2020"
   ]
  },
  {
   "cell_type": "code",
   "execution_count": 174,
   "id": "56f93f17-25cf-485a-8916-4708b568d58c",
   "metadata": {},
   "outputs": [],
   "source": [
    "df_diciembre = df_sell_in[df_sell_in['periodo']==201912]"
   ]
  },
  {
   "cell_type": "code",
   "execution_count": 176,
   "id": "9febbf06-a080-444c-a61a-ec6c562141b0",
   "metadata": {},
   "outputs": [],
   "source": [
    "df_diciembre = df_diciembre.groupby('product_id')['tn'].sum().reset_index()"
   ]
  },
  {
   "cell_type": "code",
   "execution_count": 177,
   "id": "a0094f69-f5ba-4e87-9f14-1f127e29c426",
   "metadata": {},
   "outputs": [],
   "source": [
    "df_dic_feb = pd.merge(df_predecir, df_diciembre, how=\"left\", on=[\"product_id\"])"
   ]
  },
  {
   "cell_type": "code",
   "execution_count": 178,
   "id": "686f6910-b938-424c-9e0d-8ba471347189",
   "metadata": {},
   "outputs": [],
   "source": [
    "df_dic_feb.to_csv('diciembre.csv',sep=',', index=False)  "
   ]
  },
  {
   "cell_type": "code",
   "execution_count": 188,
   "id": "32afdd42-0dfe-486f-bdf2-9dfd60325aa8",
   "metadata": {},
   "outputs": [
    {
     "data": {
      "text/html": [
       "<div>\n",
       "<style scoped>\n",
       "    .dataframe tbody tr th:only-of-type {\n",
       "        vertical-align: middle;\n",
       "    }\n",
       "\n",
       "    .dataframe tbody tr th {\n",
       "        vertical-align: top;\n",
       "    }\n",
       "\n",
       "    .dataframe thead th {\n",
       "        text-align: right;\n",
       "    }\n",
       "</style>\n",
       "<table border=\"1\" class=\"dataframe\">\n",
       "  <thead>\n",
       "    <tr style=\"text-align: right;\">\n",
       "      <th></th>\n",
       "      <th>product_id</th>\n",
       "      <th>tn</th>\n",
       "    </tr>\n",
       "  </thead>\n",
       "  <tbody>\n",
       "    <tr>\n",
       "      <th>0</th>\n",
       "      <td>20001</td>\n",
       "      <td>1504.68856</td>\n",
       "    </tr>\n",
       "    <tr>\n",
       "      <th>1</th>\n",
       "      <td>20002</td>\n",
       "      <td>1087.30855</td>\n",
       "    </tr>\n",
       "    <tr>\n",
       "      <th>2</th>\n",
       "      <td>20003</td>\n",
       "      <td>892.50129</td>\n",
       "    </tr>\n",
       "    <tr>\n",
       "      <th>3</th>\n",
       "      <td>20004</td>\n",
       "      <td>637.90002</td>\n",
       "    </tr>\n",
       "    <tr>\n",
       "      <th>4</th>\n",
       "      <td>20005</td>\n",
       "      <td>593.24443</td>\n",
       "    </tr>\n",
       "    <tr>\n",
       "      <th>...</th>\n",
       "      <td>...</td>\n",
       "      <td>...</td>\n",
       "    </tr>\n",
       "    <tr>\n",
       "      <th>775</th>\n",
       "      <td>21263</td>\n",
       "      <td>0.01270</td>\n",
       "    </tr>\n",
       "    <tr>\n",
       "      <th>776</th>\n",
       "      <td>21265</td>\n",
       "      <td>0.05007</td>\n",
       "    </tr>\n",
       "    <tr>\n",
       "      <th>777</th>\n",
       "      <td>21266</td>\n",
       "      <td>0.05121</td>\n",
       "    </tr>\n",
       "    <tr>\n",
       "      <th>778</th>\n",
       "      <td>21267</td>\n",
       "      <td>0.01569</td>\n",
       "    </tr>\n",
       "    <tr>\n",
       "      <th>779</th>\n",
       "      <td>21276</td>\n",
       "      <td>0.00892</td>\n",
       "    </tr>\n",
       "  </tbody>\n",
       "</table>\n",
       "<p>780 rows × 2 columns</p>\n",
       "</div>"
      ],
      "text/plain": [
       "     product_id          tn\n",
       "0         20001  1504.68856\n",
       "1         20002  1087.30855\n",
       "2         20003   892.50129\n",
       "3         20004   637.90002\n",
       "4         20005   593.24443\n",
       "..          ...         ...\n",
       "775       21263     0.01270\n",
       "776       21265     0.05007\n",
       "777       21266     0.05121\n",
       "778       21267     0.01569\n",
       "779       21276     0.00892\n",
       "\n",
       "[780 rows x 2 columns]"
      ]
     },
     "execution_count": 188,
     "metadata": {},
     "output_type": "execute_result"
    }
   ],
   "source": [
    "df_dic_feb"
   ]
  },
  {
   "cell_type": "code",
   "execution_count": null,
   "id": "c23862a4-eaca-4b83-9d8f-eedd07021951",
   "metadata": {},
   "outputs": [],
   "source": [
    "#PREDECIR USANDO 6 MESES"
   ]
  },
  {
   "cell_type": "code",
   "execution_count": 192,
   "id": "72e2fb7d-391d-485b-8d25-6bffa0c7defe",
   "metadata": {},
   "outputs": [],
   "source": [
    "df_seismeses_2 = df_sell_in[(df_sell_in['periodo']>=201907) & (df_sell_in['periodo']<=201912)]\n",
    "df_seismeses_2 = df_seismeses_2.groupby(['periodo','product_id'])['tn'].sum().reset_index()\n",
    "seismeses_2 = df_seismeses_2.groupby('product_id')['tn'].mean().reset_index()\n",
    "df_seismeses_2 = pd.merge(df_predecir, seismeses_2, how=\"left\", on=[\"product_id\"])\n",
    "df_seismeses_2.to_csv('juniodiciembre.csv',sep=',', index=False)  "
   ]
  },
  {
   "cell_type": "code",
   "execution_count": null,
   "id": "fe6ce57f-6a04-451c-82aa-eeb960ce80d9",
   "metadata": {},
   "outputs": [],
   "source": [
    "#1 año MEJOR QUE DIÓ"
   ]
  },
  {
   "cell_type": "code",
   "execution_count": 191,
   "id": "32bd11f4-b077-43c2-a914-2a38668cd7d0",
   "metadata": {},
   "outputs": [],
   "source": [
    "df_year = df_sell_in[(df_sell_in['periodo']>=201900) & (df_sell_in['periodo']<=201912)]\n",
    "year_pred = df_year.groupby(['periodo','product_id'])['tn'].sum().reset_index()\n",
    "year_pred = year_pred.groupby('product_id')['tn'].mean().reset_index()\n",
    "year_pred = pd.merge(df_predecir, year_pred, how=\"left\", on=[\"product_id\"])\n",
    "year_pred.to_csv('year2019.csv',sep=',', index=False)  "
   ]
  },
  {
   "cell_type": "code",
   "execution_count": 190,
   "id": "8251648c-9d90-468f-8d19-4a1f30482307",
   "metadata": {
    "scrolled": true
   },
   "outputs": [],
   "source": [
    "#all\n",
    "df_all = df_sell_in[df_sell_in['periodo']<=201912]\n",
    "all_pred = df_all.groupby(['periodo','product_id'])['tn'].sum().reset_index()\n",
    "all_pred = all_pred.groupby('product_id')['tn'].mean().reset_index()\n",
    "all_pred = pd.merge(df_predecir, all_pred, how=\"left\", on=[\"product_id\"])\n",
    "all_pred.to_csv('all2019.csv',sep=',', index=False)  "
   ]
  },
  {
   "cell_type": "code",
   "execution_count": null,
   "id": "4ed6e130-d256-4efb-96d3-88d282c0b00c",
   "metadata": {},
   "outputs": [],
   "source": []
  },
  {
   "cell_type": "code",
   "execution_count": null,
   "id": "1e5ce752-6b12-4f66-8ba7-fffcea566deb",
   "metadata": {},
   "outputs": [],
   "source": [
    "#PRUEBAS!---"
   ]
  },
  {
   "cell_type": "code",
   "execution_count": 194,
   "id": "120c5404-1bd3-427b-adae-37b067cbb62b",
   "metadata": {},
   "outputs": [
    {
     "data": {
      "text/plain": [
       "125.24974374928281"
      ]
     },
     "execution_count": 194,
     "metadata": {},
     "output_type": "execute_result"
    }
   ],
   "source": [
    "\n",
    "df_febrero2019 = df_sell_in[df_sell_in['periodo']==201902] #SUPONGO QUE FEBRERO ES 2020\n",
    "df_febrero2019 = df_febrero2019.groupby('product_id')['tn'].mean().reset_index()\n",
    "df_febrero2019 = df_febrero2019.rename(columns={'tn': 'tn_actual'})\n",
    "\n",
    "df_pred_2019 = pd.merge(df_febrero2019, all_pred, how=\"left\", on=[\"product_id\"])\n",
    "\n",
    "multinacional_metric(df_pred_2019['tn_actual'].fillna(0),df_pred_2019['tn'].fillna(0))"
   ]
  },
  {
   "cell_type": "code",
   "execution_count": 195,
   "id": "55db650a-6422-4925-8b96-85787a695703",
   "metadata": {},
   "outputs": [],
   "source": [
    "df_2017 = df_sell_in[df_sell_in['periodo']<=201712]\n",
    "df_2017 = df_2017.groupby(['periodo','product_id'])['tn'].sum().reset_index()\n",
    "df_2017 = df_2017.groupby('product_id')['tn'].mean().reset_index()\n",
    "df_2017 = pd.merge(df_predecir, df_2017, how=\"left\", on=[\"product_id\"])\n",
    "df_2017 = df_2017.fillna(0)\n",
    "df_2017.to_csv('all2017.csv',sep=',', index=False)  "
   ]
  },
  {
   "cell_type": "code",
   "execution_count": 196,
   "id": "234e0e72-944a-4ae9-b5b1-411f178cdfe1",
   "metadata": {},
   "outputs": [
    {
     "data": {
      "text/html": [
       "<div>\n",
       "<style scoped>\n",
       "    .dataframe tbody tr th:only-of-type {\n",
       "        vertical-align: middle;\n",
       "    }\n",
       "\n",
       "    .dataframe tbody tr th {\n",
       "        vertical-align: top;\n",
       "    }\n",
       "\n",
       "    .dataframe thead th {\n",
       "        text-align: right;\n",
       "    }\n",
       "</style>\n",
       "<table border=\"1\" class=\"dataframe\">\n",
       "  <thead>\n",
       "    <tr style=\"text-align: right;\">\n",
       "      <th></th>\n",
       "      <th>product_id</th>\n",
       "      <th>tn</th>\n",
       "    </tr>\n",
       "  </thead>\n",
       "  <tbody>\n",
       "    <tr>\n",
       "      <th>0</th>\n",
       "      <td>20001</td>\n",
       "      <td>1234.417246</td>\n",
       "    </tr>\n",
       "    <tr>\n",
       "      <th>1</th>\n",
       "      <td>20002</td>\n",
       "      <td>765.303166</td>\n",
       "    </tr>\n",
       "    <tr>\n",
       "      <th>2</th>\n",
       "      <td>20003</td>\n",
       "      <td>1007.067587</td>\n",
       "    </tr>\n",
       "    <tr>\n",
       "      <th>3</th>\n",
       "      <td>20004</td>\n",
       "      <td>733.870823</td>\n",
       "    </tr>\n",
       "    <tr>\n",
       "      <th>4</th>\n",
       "      <td>20005</td>\n",
       "      <td>686.620974</td>\n",
       "    </tr>\n",
       "    <tr>\n",
       "      <th>...</th>\n",
       "      <td>...</td>\n",
       "      <td>...</td>\n",
       "    </tr>\n",
       "    <tr>\n",
       "      <th>775</th>\n",
       "      <td>21263</td>\n",
       "      <td>0.000000</td>\n",
       "    </tr>\n",
       "    <tr>\n",
       "      <th>776</th>\n",
       "      <td>21265</td>\n",
       "      <td>0.000000</td>\n",
       "    </tr>\n",
       "    <tr>\n",
       "      <th>777</th>\n",
       "      <td>21266</td>\n",
       "      <td>0.000000</td>\n",
       "    </tr>\n",
       "    <tr>\n",
       "      <th>778</th>\n",
       "      <td>21267</td>\n",
       "      <td>0.000000</td>\n",
       "    </tr>\n",
       "    <tr>\n",
       "      <th>779</th>\n",
       "      <td>21276</td>\n",
       "      <td>0.000000</td>\n",
       "    </tr>\n",
       "  </tbody>\n",
       "</table>\n",
       "<p>780 rows × 2 columns</p>\n",
       "</div>"
      ],
      "text/plain": [
       "     product_id           tn\n",
       "0         20001  1234.417246\n",
       "1         20002   765.303166\n",
       "2         20003  1007.067587\n",
       "3         20004   733.870823\n",
       "4         20005   686.620974\n",
       "..          ...          ...\n",
       "775       21263     0.000000\n",
       "776       21265     0.000000\n",
       "777       21266     0.000000\n",
       "778       21267     0.000000\n",
       "779       21276     0.000000\n",
       "\n",
       "[780 rows x 2 columns]"
      ]
     },
     "execution_count": 196,
     "metadata": {},
     "output_type": "execute_result"
    }
   ],
   "source": [
    "df_2017"
   ]
  }
 ],
 "metadata": {
  "kernelspec": {
   "display_name": "Python 3 (ipykernel)",
   "language": "python",
   "name": "python3"
  },
  "language_info": {
   "codemirror_mode": {
    "name": "ipython",
    "version": 3
   },
   "file_extension": ".py",
   "mimetype": "text/x-python",
   "name": "python",
   "nbconvert_exporter": "python",
   "pygments_lexer": "ipython3",
   "version": "3.11.7"
  }
 },
 "nbformat": 4,
 "nbformat_minor": 5
}
