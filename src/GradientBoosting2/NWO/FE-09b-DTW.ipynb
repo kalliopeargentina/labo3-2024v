{
 "cells": [
  {
   "cell_type": "markdown",
   "id": "77d162f9",
   "metadata": {},
   "source": [
    "### Imports"
   ]
  },
  {
   "cell_type": "code",
   "execution_count": 1,
   "id": "3e936de2",
   "metadata": {},
   "outputs": [
    {
     "name": "stderr",
     "output_type": "stream",
     "text": [
      "d:\\Dropbox\\Python\\LaboIII\\labo3-2024v\\.venv\\lib\\site-packages\\dask\\dataframe\\__init__.py:42: FutureWarning: \n",
      "Dask dataframe query planning is disabled because dask-expr is not installed.\n",
      "\n",
      "You can install it with `pip install dask[dataframe]` or `conda install dask`.\n",
      "This will raise in a future version.\n",
      "\n",
      "  warnings.warn(msg, FutureWarning)\n"
     ]
    }
   ],
   "source": [
    "import pandas as pd\n",
    "import polars as pl\n",
    "import numpy as np\n",
    "#import matplotlib.pyplot as plt\n",
    "#from feature_baggingV2 import FeatureBaggingWithHyperparamTuning\n",
    "import statsmodels.api as sm\n",
    "from sklearn.model_selection import train_test_split\n",
    "#import lightgbm as lgb\n",
    "import datetime\n",
    "from sklearn.preprocessing import RobustScaler\n",
    "#from keras.models import Sequential\n",
    "#from keras.layers import LSTM, Dense\n",
    "import labolibrary as labo\n",
    "\n",
    "import os, sys, gc, time, warnings, pickle, psutil, random\n",
    "\n",
    "import warnings\n",
    "warnings.filterwarnings(\"ignore\")\n",
    "\n",
    "\n",
    "from sklearn.model_selection import train_test_split\n",
    "from sktime.clustering.k_means import TimeSeriesKMeans\n",
    "from sktime.clustering.utils.plotting._plot_partitions import plot_cluster_algorithm\n",
    "from sktime.datasets import load_arrow_head"
   ]
  },
  {
   "cell_type": "markdown",
   "id": "ab055280",
   "metadata": {},
   "source": [
    "### Función para escalar/desescalar y métrica"
   ]
  },
  {
   "cell_type": "code",
   "execution_count": 2,
   "id": "a2c58a2b",
   "metadata": {},
   "outputs": [],
   "source": [
    "#DATOS_DIR = '~/buckets/b1/datasets/'\n",
    "DATOS_DIR = '../data/'\n",
    "\n",
    "# Leer datos\n",
    "df_final = pd.read_parquet(DATOS_DIR+'FE_dataset-PCA-Decompose.parquet') \n",
    "df_final.columns = df_final.columns.str.replace(' ', '_').str.replace(r'[^A-Za-z0-9_]', '', regex=True)\n"
   ]
  },
  {
   "cell_type": "code",
   "execution_count": 3,
   "id": "825fb7a0",
   "metadata": {},
   "outputs": [],
   "source": [
    "# Ensure periodo is not the index for fitting the model\n",
    "df_final.reset_index(inplace=True)\n",
    "df_final['cluster'].fillna(99, inplace=True)\n",
    "# Create a pivot table to reshape the dataframe\n",
    "pivot_df = df_final.pivot(index='periodo', columns=['product_id', 'customer_id','cluster'], values='tn')\n",
    "\n",
    "pivot_df.fillna(0, inplace=True)"
   ]
  },
  {
   "cell_type": "code",
   "execution_count": 4,
   "id": "3a138b0a",
   "metadata": {},
   "outputs": [
    {
     "name": "stdout",
     "output_type": "stream",
     "text": [
      "Iteration 0, inertia 22545448.78392304.\n",
      "Iteration 1, inertia 19747027.853266224.\n",
      "Iteration 2, inertia 19483644.25306578.\n",
      "Iteration 3, inertia 19302297.759698823.\n",
      "Iteration 4, inertia 19183771.720519777.\n",
      "Iteration 5, inertia 19075895.201405022.\n",
      "Iteration 6, inertia 18935101.337240875.\n",
      "Iteration 7, inertia 18824707.778399542.\n",
      "Iteration 8, inertia 18754459.65610337.\n",
      "Iteration 9, inertia 18709384.996970456.\n",
      "Iteration 10, inertia 18679629.087549094.\n",
      "Iteration 11, inertia 18661397.47500557.\n",
      "Iteration 12, inertia 18649965.650034938.\n",
      "Iteration 0, inertia 24691609.505517684.\n",
      "Iteration 1, inertia 19777576.11766885.\n",
      "Iteration 2, inertia 19532052.269500513.\n",
      "Iteration 3, inertia 19403515.426485643.\n",
      "Iteration 4, inertia 19334307.335184302.\n",
      "Iteration 5, inertia 19266901.39642516.\n",
      "Iteration 6, inertia 19205949.432534423.\n",
      "Iteration 7, inertia 19143203.092805266.\n",
      "Iteration 8, inertia 19087276.68419864.\n",
      "Iteration 9, inertia 19015527.38019772.\n",
      "Iteration 10, inertia 18923985.517054982.\n",
      "Iteration 11, inertia 18777416.51894266.\n",
      "Iteration 12, inertia 18640778.476685327.\n",
      "Iteration 13, inertia 18546760.26722934.\n",
      "Iteration 14, inertia 18493034.24921916.\n",
      "Iteration 15, inertia 18457222.306388073.\n",
      "Iteration 16, inertia 18434769.443868946.\n",
      "Iteration 17, inertia 18419140.059388053.\n",
      "Iteration 18, inertia 18405829.131950248.\n"
     ]
    }
   ],
   "source": [
    "\n",
    "# Transpose and reshape the pivot table to get the right format for clustering\n",
    "ts_data = pivot_df.T.values.reshape(pivot_df.shape[1], pivot_df.shape[0], 1)\n",
    "\n",
    "\n",
    "\n",
    "model = TimeSeriesKMeans(n_clusters=50, metric=\"dtw\",\n",
    "                        init_algorithm = 'kmeans++',\n",
    "                        n_init=2, max_iter=200, tol=10000,\n",
    "                        verbose = True,\n",
    "                        random_state=42\n",
    "                        )\n",
    "\n",
    "# Fit the model and predict clusters\n",
    "clusters_dtw = model.fit_predict(ts_data)\n",
    "\n",
    "# Create a DataFrame for the clusters with the same index as the pivot table columns\n",
    "cluster_df = pd.DataFrame({'dtw_cluster': clusters_dtw}, index=pivot_df.columns)\n"
   ]
  },
  {
   "cell_type": "code",
   "execution_count": 5,
   "id": "f3fbe9ba",
   "metadata": {},
   "outputs": [],
   "source": [
    "cluster_df.reset_index(inplace=True)"
   ]
  },
  {
   "cell_type": "code",
   "execution_count": 6,
   "id": "ea61575f",
   "metadata": {},
   "outputs": [],
   "source": [
    "df_final = df_final.merge(cluster_df, on=['product_id', 'customer_id','cluster'], how='left')"
   ]
  },
  {
   "cell_type": "code",
   "execution_count": 7,
   "id": "61c3e36d",
   "metadata": {},
   "outputs": [],
   "source": [
    "\n",
    "df_final.set_index('periodo', inplace=True)"
   ]
  },
  {
   "cell_type": "code",
   "execution_count": 8,
   "id": "1001a982",
   "metadata": {},
   "outputs": [],
   "source": [
    "df_final.to_parquet(DATOS_DIR+'FE_dataset-PCA-Decompose-Cluster-DTW.parquet')"
   ]
  },
  {
   "cell_type": "code",
   "execution_count": 9,
   "id": "8c7fbe19",
   "metadata": {},
   "outputs": [
    {
     "data": {
      "text/plain": [
       "0"
      ]
     },
     "execution_count": 9,
     "metadata": {},
     "output_type": "execute_result"
    }
   ],
   "source": [
    "import gc\n",
    "gc.collect()"
   ]
  },
  {
   "cell_type": "code",
   "execution_count": 10,
   "id": "a6f89663",
   "metadata": {},
   "outputs": [
    {
     "data": {
      "text/plain": [
       "dtw_cluster\n",
       "0     2949223\n",
       "1           3\n",
       "2          22\n",
       "3          22\n",
       "4          22\n",
       "5          22\n",
       "6          22\n",
       "7          22\n",
       "8          22\n",
       "9          22\n",
       "10         22\n",
       "11         22\n",
       "12         22\n",
       "13         22\n",
       "14         22\n",
       "15         22\n",
       "16         22\n",
       "17         22\n",
       "18         44\n",
       "19         66\n",
       "20     137445\n",
       "21         22\n",
       "22         22\n",
       "23          7\n",
       "24         14\n",
       "25         22\n",
       "26       1890\n",
       "27         22\n",
       "28         22\n",
       "29         20\n",
       "30         22\n",
       "31         22\n",
       "32        176\n",
       "33         66\n",
       "34         22\n",
       "35         22\n",
       "36         44\n",
       "37         88\n",
       "38         22\n",
       "39         22\n",
       "40         14\n",
       "41        132\n",
       "42         22\n",
       "43         22\n",
       "44         44\n",
       "45       4657\n",
       "46         44\n",
       "47         18\n",
       "48         22\n",
       "49        782\n",
       "dtype: int64"
      ]
     },
     "execution_count": 10,
     "metadata": {},
     "output_type": "execute_result"
    }
   ],
   "source": [
    "\n",
    "df_final = df_final.loc['2018-01-01':'2019-10-01']\n",
    "df_final.groupby(['dtw_cluster']).size()"
   ]
  }
 ],
 "metadata": {
  "kernelspec": {
   "display_name": "Python 3 (ipykernel)",
   "language": "python",
   "name": "python3"
  },
  "language_info": {
   "codemirror_mode": {
    "name": "ipython",
    "version": 3
   },
   "file_extension": ".py",
   "mimetype": "text/x-python",
   "name": "python",
   "nbconvert_exporter": "python",
   "pygments_lexer": "ipython3",
   "version": "3.10.11"
  }
 },
 "nbformat": 4,
 "nbformat_minor": 5
}
