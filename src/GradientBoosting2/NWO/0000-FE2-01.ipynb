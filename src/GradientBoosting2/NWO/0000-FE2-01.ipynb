{
 "cells": [
  {
   "cell_type": "code",
   "execution_count": null,
   "metadata": {},
   "outputs": [],
   "source": [
    "import pandas as pd\n",
    "import numpy as np\n",
    "from fastdtw import fastdtw\n",
    "from scipy.spatial.distance import euclidean\n",
    "from sklearn.neighbors import KNeighborsClassifier\n",
    "from scipy.sparse import lil_matrix\n",
    "from tqdm import tqdm\n"
   ]
  },
  {
   "cell_type": "code",
   "execution_count": null,
   "metadata": {},
   "outputs": [],
   "source": [
    "#DATOS_DIR = '~/buckets/b1/datasets/'\n",
    "DATOS_DIR = '../data/'\n",
    "\n",
    "# Leer datos\n",
    "df = pd.read_parquet(DATOS_DIR+'FE_dataset-CARLA.parquet') \n",
    "df.columns = df.columns.str.replace(' ', '_').str.replace(r'[^A-Za-z0-9_]', '', regex=True)\n",
    "\n"
   ]
  },
  {
   "cell_type": "code",
   "execution_count": null,
   "metadata": {},
   "outputs": [],
   "source": [
    "\n",
    "\n",
    "# Pivot the dataframe to create time series for each (product_id, customer_id) pair\n",
    "pivoted_df = df.pivot_table(index=df.index, columns=['product_id', 'customer_id'], values='tn_2')\n",
    "pivoted_df = pivoted_df.fillna(0)  # Fill NaNs with 0 for missing periods\n",
    "\n"
   ]
  },
  {
   "cell_type": "code",
   "execution_count": null,
   "metadata": {},
   "outputs": [],
   "source": [
    "# Example of applying DTW\n",
    "def compute_dtw(ts1, ts2):\n",
    "    distance, path = fastdtw(ts1, ts2, dist=2)\n",
    "    return distance\n",
    "\n",
    "\n",
    "\n",
    "# Create a list to store DTW features\n",
    "dtw_features = []\n",
    "\n",
    "# Get all pairs of (product_id, customer_id) time series\n",
    "columns = pivoted_df.columns\n",
    "\n",
    "for i in range(len(columns)):\n",
    "    for j in range(i+1, len(columns)):\n",
    "        ts1 = pivoted_df[columns[i]].values\n",
    "        ts2 = pivoted_df[columns[j]].values\n",
    "        distance = compute_dtw(ts1, ts2)\n",
    "        dtw_features.append({\n",
    "            'product_id_1': columns[i][0],\n",
    "            'customer_id_1': columns[i][1],\n",
    "            'product_id_2': columns[j][0],\n",
    "            'customer_id_2': columns[j][1],\n",
    "            'dtw_distance': distance\n",
    "        })\n",
    "        \n",
    "# Convert DTW features to a DataFrame\n",
    "dtw_df = pd.DataFrame(dtw_features)\n",
    "\n",
    "dtw_df.to_parquet(DATOS_DIR+'dtw_features.parquet')"
   ]
  },
  {
   "cell_type": "code",
   "execution_count": null,
   "metadata": {},
   "outputs": [],
   "source": [
    "# Perform k-means clustering using the DTW distance matrix\n",
    "n_clusters = 3  # Choose the number of clusters\n",
    "kmeans = KMeans(n_clusters=n_clusters, random_state=0)\n",
    "kmeans.fit(dtw_distances)\n",
    "\n",
    "# Create a dataframe for the DTW distances and cluster labels\n",
    "dtw_features_df = pd.DataFrame(dtw_distances, index=keys, columns=[f'dtw_feature_{i}' for i in range(len(keys))])\n",
    "dtw_features_df['predicted_class'] = kmeans.labels_\n"
   ]
  },
  {
   "cell_type": "code",
   "execution_count": null,
   "metadata": {},
   "outputs": [],
   "source": [
    "\n",
    "# Merge the cluster labels and DTW features back into the original dataframe\n",
    "df_merged = df.reset_index().merge(dtw_features_df[['predicted_class']], left_on=['product_id', 'customer_id'], right_index=True)\n",
    "for i in range(len(keys)):\n",
    "    df_merged = df_merged.merge(dtw_features_df[[f'dtw_feature_{i}']], left_on=['product_id', 'customer_id'], right_index=True)\n",
    "\n",
    "# Setting 'periodo' back as the index\n",
    "df_merged.set_index('periodo', inplace=True)"
   ]
  },
  {
   "cell_type": "code",
   "execution_count": null,
   "metadata": {},
   "outputs": [],
   "source": [
    "df_merged.to_parquet(DATOS_DIR+'/FE_dataset-DTW.parquet', engine='pyarrow')  \n",
    "\n",
    "# Display results\n",
    "print(df_merged.head())\n",
    "\n",
    "import ace_tools as tools; tools.display_dataframe_to_user(name=\"Time Series with DTW Features and Predicted Classes\", dataframe=df_merged)"
   ]
  }
 ],
 "metadata": {
  "kernelspec": {
   "display_name": ".venv",
   "language": "python",
   "name": "python3"
  },
  "language_info": {
   "codemirror_mode": {
    "name": "ipython",
    "version": 3
   },
   "file_extension": ".py",
   "mimetype": "text/x-python",
   "name": "python",
   "nbconvert_exporter": "python",
   "pygments_lexer": "ipython3",
   "version": "3.10.11"
  }
 },
 "nbformat": 4,
 "nbformat_minor": 2
}
