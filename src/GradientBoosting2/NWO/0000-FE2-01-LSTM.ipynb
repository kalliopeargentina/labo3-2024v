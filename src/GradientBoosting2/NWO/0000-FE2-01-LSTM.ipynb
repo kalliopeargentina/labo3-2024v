{
 "cells": [
  {
   "cell_type": "code",
   "execution_count": 1,
   "metadata": {},
   "outputs": [],
   "source": [
    "import pandas as pd\n",
    "import numpy as np\n",
    "import fastdtw as dtw\n",
    "from sklearn.cluster import AgglomerativeClustering\n",
    "from joblib import Parallel, delayed\n",
    "from tqdm import tqdm\n",
    "from tqdm.notebook import tqdm\n",
    "from sklearn.decomposition import PCA\n",
    "import multiprocessing\n",
    "import polars as pl\n",
    "import numpy as np\n",
    "import tensorflow as tf\n",
    "from tensorflow.keras.models import Sequential\n",
    "from tensorflow.keras.layers import LSTM, Dense"
   ]
  },
  {
   "cell_type": "code",
   "execution_count": 2,
   "metadata": {},
   "outputs": [],
   "source": [
    "#DATOS_DIR = '~/buckets/b1/datasets/'\n",
    "DATOS_DIR = '../data/'\n",
    "\n",
    "# Leer datos\n",
    "df = pd.read_parquet(DATOS_DIR+'FE_7_dataset.parquet') \n",
    "df.columns = df.columns.str.replace(' ', '_').str.replace(r'[^A-Za-z0-9_]', '', regex=True)\n",
    "\n"
   ]
  },
  {
   "cell_type": "code",
   "execution_count": 3,
   "metadata": {},
   "outputs": [],
   "source": [
    "\n",
    "df = df[df['product_id'] < 20013]\n",
    "#df = df.drop(columns=['periodo_min_y', 'periodo_max_y', 'periodo_min_x', 'periodo_max_x'])\n",
    "df = df.reset_index()\n"
   ]
  },
  {
   "cell_type": "code",
   "execution_count": 4,
   "metadata": {},
   "outputs": [],
   "source": [
    "df['periodo'] = pd.to_datetime(df['periodo'].astype(str))\n",
    "df = pl.from_pandas(df)\n",
    "\n"
   ]
  },
  {
   "cell_type": "code",
   "execution_count": 9,
   "metadata": {},
   "outputs": [
    {
     "name": "stderr",
     "output_type": "stream",
     "text": [
      "Processing products:   0%|          | 0/12 [00:00<?, ?it/s]"
     ]
    },
    {
     "name": "stderr",
     "output_type": "stream",
     "text": [
      "Processing products: 100%|██████████| 12/12 [00:01<00:00, 11.49it/s]\n"
     ]
    }
   ],
   "source": [
    "import numpy as np\n",
    "import tensorflow as tf\n",
    "from tensorflow.keras.models import Sequential\n",
    "from tensorflow.keras.layers import LSTM, Dense\n",
    "import polars as pl\n",
    "from tqdm import tqdm\n",
    "import logging\n",
    "\n",
    "# Setup logging\n",
    "logging.basicConfig(level=logging.INFO)\n",
    "\n",
    "# Assuming 'df' is your existing dataframe\n",
    "df = df.sort(['product_id', 'customer_id', 'periodo'])\n",
    "\n",
    "def create_lstm_features(df, customer_id):\n",
    "    # Filter data for a specific customer\n",
    "    customer_data = df.filter(pl.col('customer_id') == customer_id)\n",
    "    \n",
    "    # Ensure data is sorted by 'periodo'\n",
    "    customer_data = customer_data.sort('periodo')\n",
    "\n",
    "    # Prepare the data for LSTM\n",
    "    series = customer_data.drop(columns=['tn_2', 'periodo']).to_numpy()\n",
    "    target = customer_data['tn_2'].to_numpy()\n",
    "    periods = customer_data['periodo'].to_numpy()\n",
    "    \n",
    "    n_features = series.shape[1]\n",
    "    \n",
    "    X, y, time_index = [], [], []\n",
    "    for i in range(len(series) - n_features):\n",
    "        seq_x, seq_y = series[i:i + n_features], target[i + n_features]\n",
    "        X.append(seq_x)\n",
    "        y.append(seq_y)\n",
    "        time_index.append(periods[i + n_features])\n",
    "    \n",
    "    X, y = np.array(X), np.array(y)\n",
    "    X = X.reshape((X.shape[0], X.shape[1], X.shape[2]))\n",
    "    \n",
    "    # Define LSTM model\n",
    "    model = Sequential()\n",
    "    model.add(LSTM(50, activation='relu', input_shape=(X.shape[1], X.shape[2])))\n",
    "    model.add(Dense(1))\n",
    "    model.compile(optimizer='adam', loss='mse')\n",
    "    \n",
    "    # Fit the model\n",
    "    model.fit(X, y, epochs=10, verbose=1)  # Reduce epochs for quicker debugging\n",
    "    \n",
    "    # Generate LSTM features\n",
    "    lstm_features = model.predict(X, verbose=0)\n",
    "    \n",
    "    return lstm_features, time_index\n",
    "\n",
    "# Apply the function to all customers\n",
    "customer_ids = df.select(pl.col('customer_id')).unique().to_series().to_list()\n",
    "product_ids = df.select(pl.col('product_id')).unique().to_series().to_list()\n",
    "lstm_features_list = []\n",
    "\n",
    "for proid in tqdm(product_ids, desc=\"Processing products\"):\n",
    "    df_p = df.filter(pl.col('product_id') == proid)\n",
    "    for cid in customer_ids:\n",
    "        customer_data = df_p.filter(pl.col('customer_id') == cid)\n",
    "        if customer_data.shape[0] >= len(df.columns) - 2:  # Ensure enough data points\n",
    "            logging.info(f\"Processing product_id: {proid}, customer_id: {cid}\")\n",
    "            lstm_features, time_index = create_lstm_features(df_p, cid)\n",
    "            for idx, feature in enumerate(lstm_features):\n",
    "                lstm_features_list.append((proid, cid, feature[0], time_index[idx]))\n",
    "\n",
    "# Convert list to DataFrame\n",
    "lstm_features_df = pl.DataFrame({\n",
    "    'product_id': [item[0] for item in lstm_features_list],\n",
    "    'customer_id': [item[1] for item in lstm_features_list],\n",
    "    'lstm_feature': [item[2] for item in lstm_features_list],\n",
    "    'periodo': [item[3] for item in lstm_features_list]\n",
    "})\n"
   ]
  },
  {
   "cell_type": "code",
   "execution_count": null,
   "metadata": {},
   "outputs": [
    {
     "name": "stderr",
     "output_type": "stream",
     "text": [
      "Processing products:   0%|          | 0/12 [00:00<?, ?it/s]"
     ]
    },
    {
     "name": "stderr",
     "output_type": "stream",
     "text": [
      "Processing products: 100%|██████████| 12/12 [00:01<00:00, 11.49it/s]\n"
     ]
    }
   ],
   "source": [
    "import numpy as np\n",
    "import tensorflow as tf\n",
    "from tensorflow.keras.models import Sequential\n",
    "from tensorflow.keras.layers import LSTM, Dense\n",
    "import polars as pl\n",
    "from tqdm import tqdm\n",
    "\n",
    "# Assuming 'df' is your existing dataframe\n",
    "df = df.sort(['product_id', 'customer_id', 'periodo'])\n",
    "\n",
    "def create_lstm_features(df, customer_id):\n",
    "    # Filter data for a specific customer\n",
    "    customer_data = df.filter(pl.col('customer_id') == customer_id)\n",
    "    \n",
    "    # Prepare the data for LSTM\n",
    "    series = customer_data.drop(columns=['tn_2']).to_numpy()\n",
    "    target = customer_data['tn_2'].to_numpy()\n",
    "    \n",
    "    n_features = series.shape[1]\n",
    "    \n",
    "    X, y = [], []\n",
    "    for i in range(len(series) - n_features):\n",
    "        seq_x, seq_y = series[i:i + n_features], target[i + n_features]\n",
    "        X.append(seq_x)\n",
    "        y.append(seq_y)\n",
    "    \n",
    "    X, y = np.array(X), np.array(y)\n",
    "    X = X.reshape((X.shape[0], X.shape[1], X.shape[2]))\n",
    "    \n",
    "    # Define LSTM model\n",
    "    model = Sequential()\n",
    "    model.add(LSTM(50, activation='relu', input_shape=(n_features, X.shape[2])))\n",
    "    model.add(Dense(1))\n",
    "    model.compile(optimizer='adam', loss='mse')\n",
    "    \n",
    "    # Fit the model\n",
    "    model.fit(X, y, epochs=50, verbose=0)\n",
    "    \n",
    "    # Generate LSTM features\n",
    "    lstm_features = model.predict(X, verbose=0)\n",
    "    \n",
    "    return lstm_features\n",
    "\n",
    "# Apply the function to all customers\n",
    "customer_ids = df.select(pl.col('customer_id')).unique().to_series().to_list()\n",
    "product_ids = df.select(pl.col('product_id')).unique().to_series().to_list()\n",
    "lstm_features_list = []\n",
    "\n",
    "for proid in tqdm(product_ids, desc=\"Processing products\"):\n",
    "    df_p = df.filter(pl.col('product_id') == proid)\n",
    "    for cid in customer_ids:\n",
    "        if df_p.filter(pl.col('customer_id') == cid).shape[0] >= len(df.columns) - 1:  # Ensure enough data points\n",
    "            lstm_features = create_lstm_features(df_p, cid)\n",
    "            for idx, feature in enumerate(lstm_features):\n",
    "                lstm_features_list.append((proid, cid, feature[0], idx))\n",
    "\n",
    "# Convert list to DataFrame\n",
    "lstm_features_df = pl.DataFrame({\n",
    "    'product_id': [item[0] for item in lstm_features_list],\n",
    "    'customer_id': [item[1] for item in lstm_features_list],\n",
    "    'lstm_feature': [item[2] for item in lstm_features_list],\n",
    "    'time_index': [item[3] for item in lstm_features_list]\n",
    "})\n"
   ]
  },
  {
   "cell_type": "code",
   "execution_count": null,
   "metadata": {},
   "outputs": [],
   "source": [
    "\n",
    "df.to_parquet(DATOS_DIR+'/FE_10_dataset-LSTM.parquet', engine='pyarrow')  \n"
   ]
  }
 ],
 "metadata": {
  "kernelspec": {
   "display_name": ".venv",
   "language": "python",
   "name": "python3"
  },
  "language_info": {
   "codemirror_mode": {
    "name": "ipython",
    "version": 3
   },
   "file_extension": ".py",
   "mimetype": "text/x-python",
   "name": "python",
   "nbconvert_exporter": "python",
   "pygments_lexer": "ipython3",
   "version": "3.10.11"
  }
 },
 "nbformat": 4,
 "nbformat_minor": 2
}
