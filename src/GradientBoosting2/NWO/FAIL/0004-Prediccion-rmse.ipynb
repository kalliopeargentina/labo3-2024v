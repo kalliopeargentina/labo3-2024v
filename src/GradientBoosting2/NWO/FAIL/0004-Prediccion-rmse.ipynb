{
 "cells": [
  {
   "cell_type": "code",
   "execution_count": 9,
   "metadata": {},
   "outputs": [],
   "source": [
    "import pandas as pd\n",
    "import numpy as np\n",
    "import matplotlib.pyplot as plt\n",
    "import labolibrary as labo\n",
    "\n",
    "from sklearn.preprocessing import MinMaxScaler\n"
   ]
  },
  {
   "cell_type": "code",
   "execution_count": 10,
   "metadata": {},
   "outputs": [],
   "source": [
    "\n",
    "#DATOS_DIR = '~/buckets/b1/datasets/'\n",
    "DATOS_DIR = '../data/'\n",
    "\n",
    "# Definir la métrica personalizada\n",
    "def multinacional_metric(y_true, y_pred):\n",
    "    return abs(sum(y_true - y_pred)) / sum(y_true)\n",
    "# Función para escalar y devolver una serie\n",
    "def minmax_scale_group(group):\n",
    "    scaler = MinMaxScaler()\n",
    "    scaled_values = scaler.fit_transform(group.values.reshape(-1, 1)).flatten()\n",
    "    scalers[group.name] = scaler  # Almacenar el escalador para este grupo\n",
    "    return pd.Series(scaled_values, index=group.index)\n",
    "\n",
    "# Función para desescalar y devolver una serie\n",
    "def inverse_minmax_scale_group(group):\n",
    "    scaler = scalers[group.name]\n",
    "    inversed_values = scaler.inverse_transform(group.values.reshape(-1, 1)).flatten()\n",
    "    return pd.Series(inversed_values, index=group.index)\n",
    "\n",
    "# Leer datos\n",
    "df_final = pd.read_parquet(DATOS_DIR+'FE_dataset-CARLA.parquet') \n",
    "df_final.columns = df_final.columns.str.replace(' ', '_').str.replace(r'[^A-Za-z0-9_]', '', regex=True)\n",
    "\n",
    "### Filtrar datos\n",
    "df_true = df_final.loc['2019-12-01':'2020-01-01']\n",
    "df_final = df_final.loc['2018-01-01':'2020-01-01']\n"
   ]
  },
  {
   "cell_type": "code",
   "execution_count": 11,
   "metadata": {},
   "outputs": [],
   "source": [
    "\n",
    "### Agrupar y escalar\n",
    "\n",
    "scalers = {}\n",
    "\n",
    "df_final['tn'] = df_final.groupby('product_id')['tn'].transform(minmax_scale_group) #escalado\n",
    "df_final['tn_2'] = df_final.groupby('product_id')['tn_2'].transform(minmax_scale_group) #escalado\n"
   ]
  },
  {
   "cell_type": "code",
   "execution_count": 12,
   "metadata": {},
   "outputs": [
    {
     "name": "stdout",
     "output_type": "stream",
     "text": [
      "[LightGBM] [Info] Auto-choosing col-wise multi-threading, the overhead of testing was 1.053562 seconds.\n",
      "You can set `force_col_wise=true` to remove the overhead.\n",
      "[LightGBM] [Info] Total Bins 80111\n",
      "[LightGBM] [Info] Number of data points in the train set: 257834, number of used features: 798\n",
      "[LightGBM] [Info] Start training from score -3.636623\n",
      "Training until validation scores don't improve for 10 rounds\n",
      "Early stopping, best iteration is:\n",
      "[432]\tvalidation's rmse: 0.0175115\n",
      "[LightGBM] [Warning] Categorical features with more bins than the configured maximum bin number found.\n",
      "[LightGBM] [Warning] For categorical features, max_bin and max_bin_by_feature may be ignored with a large number of categories.\n",
      "[LightGBM] [Info] Auto-choosing col-wise multi-threading, the overhead of testing was 0.486211 seconds.\n",
      "You can set `force_col_wise=true` to remove the overhead.\n",
      "[LightGBM] [Info] Total Bins 80130\n",
      "[LightGBM] [Info] Number of data points in the train set: 515667, number of used features: 808\n",
      "[LightGBM] [Info] Start training from score -3.675188\n",
      "Training until validation scores don't improve for 10 rounds\n",
      "Early stopping, best iteration is:\n",
      "[525]\tvalidation's rmse: 0.016616\n",
      "[LightGBM] [Warning] Categorical features with more bins than the configured maximum bin number found.\n",
      "[LightGBM] [Warning] For categorical features, max_bin and max_bin_by_feature may be ignored with a large number of categories.\n",
      "[LightGBM] [Info] Auto-choosing col-wise multi-threading, the overhead of testing was 0.946695 seconds.\n",
      "You can set `force_col_wise=true` to remove the overhead.\n",
      "[LightGBM] [Info] Total Bins 115304\n",
      "[LightGBM] [Info] Number of data points in the train set: 773500, number of used features: 985\n",
      "[LightGBM] [Info] Start training from score -3.706744\n",
      "Training until validation scores don't improve for 10 rounds\n",
      "Early stopping, best iteration is:\n",
      "[276]\tvalidation's rmse: 0.0170223\n",
      "[LightGBM] [Warning] Categorical features with more bins than the configured maximum bin number found.\n",
      "[LightGBM] [Warning] For categorical features, max_bin and max_bin_by_feature may be ignored with a large number of categories.\n",
      "[LightGBM] [Info] Auto-choosing col-wise multi-threading, the overhead of testing was 1.302350 seconds.\n",
      "You can set `force_col_wise=true` to remove the overhead.\n",
      "[LightGBM] [Info] Total Bins 115787\n",
      "[LightGBM] [Info] Number of data points in the train set: 1031333, number of used features: 1011\n",
      "[LightGBM] [Info] Start training from score -3.715841\n",
      "Training until validation scores don't improve for 10 rounds\n",
      "Early stopping, best iteration is:\n",
      "[276]\tvalidation's rmse: 0.0204289\n",
      "[LightGBM] [Warning] Categorical features with more bins than the configured maximum bin number found.\n",
      "[LightGBM] [Warning] For categorical features, max_bin and max_bin_by_feature may be ignored with a large number of categories.\n",
      "[LightGBM] [Info] Auto-choosing col-wise multi-threading, the overhead of testing was 1.503959 seconds.\n",
      "You can set `force_col_wise=true` to remove the overhead.\n",
      "[LightGBM] [Info] Total Bins 115898\n",
      "[LightGBM] [Info] Number of data points in the train set: 1289166, number of used features: 1047\n",
      "[LightGBM] [Info] Start training from score -3.714213\n",
      "Training until validation scores don't improve for 10 rounds\n",
      "Early stopping, best iteration is:\n",
      "[191]\tvalidation's rmse: 0.0201966\n",
      "Overall rmse metric:  0.0004889372558751706\n"
     ]
    }
   ],
   "source": [
    "\n",
    "# Correr Modelo\n",
    "params={\n",
    "        'boosting_type': 'gbdt',\n",
    "        'objective': 'tweedie',\n",
    "        'tweedie_variance_power': 1.1,\n",
    "        'metric':'rmse',\n",
    "        #'n_jobs': -1,\n",
    "        #'seed': 113,\n",
    "        #'learning_rate': 0.2,\n",
    "        #'bagging_fraction': 0.85,\n",
    "        #'bagging_freq': 1, \n",
    "        #'colsample_bytree': 0.85,\n",
    "        #'colsample_bynode': 0.85,\n",
    "        #'min_data_per_leaf': 25,\n",
    "        #'num_leaves': 200,\n",
    "        #'lambda_l1': 0.5,\n",
    "        #'lambda_l2': 0.5\n",
    "}\n",
    "model, average_metric = labo.train_lightgbm_model(df_final,params,metric='rmse')\n",
    "print(\"Overall rmse metric: \", average_metric)\n",
    "\n",
    "\n"
   ]
  },
  {
   "cell_type": "code",
   "execution_count": 13,
   "metadata": {},
   "outputs": [],
   "source": [
    "def predict_next_month(model, last_data_points):\n",
    "    predictions = []\n",
    "    last_month = last_data_points.index.max() + 1\n",
    "    last_data_points.index = [last_month] * len(last_data_points)  # Set index to the next month\n",
    "    \n",
    "    predictions = model.predict(last_data_points, num_iteration=model.best_iteration)\n",
    "    \n",
    "    prediction_df = last_data_points[['product_id']].copy()\n",
    "    prediction_df['tn_2'] = predictions\n",
    "    prediction_df.index = [last_month] * len(last_data_points)\n",
    "\n",
    "    return prediction_df"
   ]
  },
  {
   "cell_type": "code",
   "execution_count": 14,
   "metadata": {},
   "outputs": [],
   "source": [
    "# Predict values for the entire dataset using the trained models\n",
    "# Prepare last data points for prediction\n",
    "last_data_points = df_final[df_final.index == df_final.index.max()].copy()\n",
    "last_data_points.drop(columns=['tn_2'], inplace=True)\n"
   ]
  },
  {
   "cell_type": "code",
   "execution_count": 15,
   "metadata": {},
   "outputs": [
    {
     "name": "stdout",
     "output_type": "stream",
     "text": [
      "Overall custom metric:  0.0004889372558751706\n"
     ]
    }
   ],
   "source": [
    "# Predict the next month's value using the trained model\n",
    "predictions = predict_next_month(model, last_data_points)\n",
    "\n",
    "preds = predictions.groupby('product_id')['tn_2'].transform(inverse_minmax_scale_group)\n",
    "predictions['tn'] = preds\n",
    "predictions.drop(columns=['tn_2'], inplace=True)\n",
    "predictions = predictions.reset_index()\n",
    "predictions =  predictions.groupby('product_id')['tn'].sum()\n",
    "predictions.columns = ['product_id', 'tn']\n",
    "predictions.to_csv(DATOS_DIR+'/pred/0004-prediccion-rmse.csv', index=True,header=True)\n",
    "print(\"Overall custom metric: \", average_metric)\n"
   ]
  },
  {
   "cell_type": "code",
   "execution_count": 16,
   "metadata": {},
   "outputs": [
    {
     "name": "stdout",
     "output_type": "stream",
     "text": [
      "Error:  0.05356530217294413\n"
     ]
    }
   ],
   "source": [
    "\n",
    "print(\"Error: \" ,abs(sum(df_true.groupby('product_id')['tn'].sum().values-predictions.values))/sum(df_true.groupby('product_id')['tn'].sum().values))"
   ]
  }
 ],
 "metadata": {
  "kernelspec": {
   "display_name": "Python 3",
   "language": "python",
   "name": "python3"
  },
  "language_info": {
   "codemirror_mode": {
    "name": "ipython",
    "version": 3
   },
   "file_extension": ".py",
   "mimetype": "text/x-python",
   "name": "python",
   "nbconvert_exporter": "python",
   "pygments_lexer": "ipython3",
   "version": "3.10.11"
  }
 },
 "nbformat": 4,
 "nbformat_minor": 2
}
