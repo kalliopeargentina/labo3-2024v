{
 "cells": [
  {
   "cell_type": "code",
   "execution_count": 25,
   "metadata": {},
   "outputs": [],
   "source": [
    "import pandas as pd\n",
    "import numpy as np\n",
    "import matplotlib.pyplot as plt\n",
    "import labolibrary as labo\n",
    "\n",
    "from sklearn.preprocessing import MinMaxScaler\n"
   ]
  },
  {
   "cell_type": "code",
   "execution_count": 26,
   "metadata": {},
   "outputs": [],
   "source": [
    "\n",
    "#DATOS_DIR = '~/buckets/b1/datasets/'\n",
    "DATOS_DIR = '../data/'\n",
    "\n",
    "# Definir la métrica personalizada\n",
    "def multinacional_metric(y_true, y_pred):\n",
    "    return abs(sum(y_true - y_pred)) / sum(y_true)\n",
    "# Función para escalar y devolver una serie\n",
    "def minmax_scale_group(group):\n",
    "    scaler = MinMaxScaler()\n",
    "    scaled_values = scaler.fit_transform(group.values.reshape(-1, 1)).flatten()\n",
    "    scalers[group.name] = scaler  # Almacenar el escalador para este grupo\n",
    "    return pd.Series(scaled_values, index=group.index)\n",
    "\n",
    "# Función para desescalar y devolver una serie\n",
    "def inverse_minmax_scale_group(group):\n",
    "    scaler = scalers[group.name]\n",
    "    inversed_values = scaler.inverse_transform(group.values.reshape(-1, 1)).flatten()\n",
    "    return pd.Series(inversed_values, index=group.index)\n",
    "\n",
    "# Leer datos\n",
    "df_final = pd.read_parquet(DATOS_DIR+'FE_dataset-CARLA.parquet') \n",
    "df_final.columns = df_final.columns.str.replace(' ', '_').str.replace(r'[^A-Za-z0-9_]', '', regex=True)\n",
    "\n",
    "### Filtrar datos\n",
    "df_true = df_final.loc['2019-12-01':'2020-01-01']\n",
    "df_final = df_final.loc['2018-01-01':'2019-10-01']\n"
   ]
  },
  {
   "cell_type": "code",
   "execution_count": 27,
   "metadata": {},
   "outputs": [],
   "source": [
    "\n",
    "### Agrupar y escalar\n",
    "\n",
    "scalers = {}\n",
    "\n",
    "df_final['tn'] = df_final.groupby('product_id')['tn'].transform(minmax_scale_group) #escalado\n",
    "df_final['tn_2'] = df_final.groupby('product_id')['tn_2'].transform(minmax_scale_group) #escalado\n"
   ]
  },
  {
   "cell_type": "code",
   "execution_count": 28,
   "metadata": {},
   "outputs": [
    {
     "name": "stdout",
     "output_type": "stream",
     "text": [
      "[LightGBM] [Warning] Categorical features with more bins than the configured maximum bin number found.\n",
      "[LightGBM] [Warning] For categorical features, max_bin and max_bin_by_feature may be ignored with a large number of categories.\n",
      "[LightGBM] [Info] Using self-defined objective function\n",
      "[LightGBM] [Info] Auto-choosing col-wise multi-threading, the overhead of testing was 0.314397 seconds.\n",
      "You can set `force_col_wise=true` to remove the overhead.\n",
      "[LightGBM] [Info] Total Bins 80118\n",
      "[LightGBM] [Info] Number of data points in the train set: 237898, number of used features: 790\n",
      "[LightGBM] [Info] Using self-defined objective function\n"
     ]
    },
    {
     "name": "stderr",
     "output_type": "stream",
     "text": [
      "d:\\Dropbox\\Python\\LaboIII\\labo3-2024v\\.venv\\lib\\site-packages\\lightgbm\\callback.py:329: UserWarning: Early stopping is not available in dart mode\n",
      "  _log_warning(\"Early stopping is not available in dart mode\")\n"
     ]
    },
    {
     "name": "stdout",
     "output_type": "stream",
     "text": [
      "[LightGBM] [Warning] Categorical features with more bins than the configured maximum bin number found.\n",
      "[LightGBM] [Warning] For categorical features, max_bin and max_bin_by_feature may be ignored with a large number of categories.\n",
      "[LightGBM] [Info] Using self-defined objective function\n",
      "[LightGBM] [Info] Auto-choosing col-wise multi-threading, the overhead of testing was 0.462536 seconds.\n",
      "You can set `force_col_wise=true` to remove the overhead.\n",
      "[LightGBM] [Info] Total Bins 80132\n",
      "[LightGBM] [Info] Number of data points in the train set: 475795, number of used features: 807\n",
      "[LightGBM] [Info] Using self-defined objective function\n"
     ]
    },
    {
     "name": "stderr",
     "output_type": "stream",
     "text": [
      "d:\\Dropbox\\Python\\LaboIII\\labo3-2024v\\.venv\\lib\\site-packages\\lightgbm\\callback.py:329: UserWarning: Early stopping is not available in dart mode\n",
      "  _log_warning(\"Early stopping is not available in dart mode\")\n"
     ]
    },
    {
     "name": "stdout",
     "output_type": "stream",
     "text": [
      "[LightGBM] [Warning] Categorical features with more bins than the configured maximum bin number found.\n",
      "[LightGBM] [Warning] For categorical features, max_bin and max_bin_by_feature may be ignored with a large number of categories.\n",
      "[LightGBM] [Info] Using self-defined objective function\n",
      "[LightGBM] [Info] Auto-choosing col-wise multi-threading, the overhead of testing was 0.934709 seconds.\n",
      "You can set `force_col_wise=true` to remove the overhead.\n",
      "[LightGBM] [Info] Total Bins 113756\n",
      "[LightGBM] [Info] Number of data points in the train set: 713692, number of used features: 984\n",
      "[LightGBM] [Info] Using self-defined objective function\n"
     ]
    },
    {
     "name": "stderr",
     "output_type": "stream",
     "text": [
      "d:\\Dropbox\\Python\\LaboIII\\labo3-2024v\\.venv\\lib\\site-packages\\lightgbm\\callback.py:329: UserWarning: Early stopping is not available in dart mode\n",
      "  _log_warning(\"Early stopping is not available in dart mode\")\n"
     ]
    },
    {
     "name": "stdout",
     "output_type": "stream",
     "text": [
      "[LightGBM] [Warning] Categorical features with more bins than the configured maximum bin number found.\n",
      "[LightGBM] [Warning] For categorical features, max_bin and max_bin_by_feature may be ignored with a large number of categories.\n",
      "[LightGBM] [Info] Using self-defined objective function\n",
      "[LightGBM] [Info] Auto-choosing col-wise multi-threading, the overhead of testing was 4.179861 seconds.\n",
      "You can set `force_col_wise=true` to remove the overhead.\n",
      "[LightGBM] [Info] Total Bins 115770\n",
      "[LightGBM] [Info] Number of data points in the train set: 951589, number of used features: 993\n",
      "[LightGBM] [Info] Using self-defined objective function\n"
     ]
    },
    {
     "name": "stderr",
     "output_type": "stream",
     "text": [
      "d:\\Dropbox\\Python\\LaboIII\\labo3-2024v\\.venv\\lib\\site-packages\\lightgbm\\callback.py:329: UserWarning: Early stopping is not available in dart mode\n",
      "  _log_warning(\"Early stopping is not available in dart mode\")\n"
     ]
    },
    {
     "name": "stdout",
     "output_type": "stream",
     "text": [
      "[LightGBM] [Warning] Categorical features with more bins than the configured maximum bin number found.\n",
      "[LightGBM] [Warning] For categorical features, max_bin and max_bin_by_feature may be ignored with a large number of categories.\n",
      "[LightGBM] [Info] Using self-defined objective function\n",
      "[LightGBM] [Info] Auto-choosing col-wise multi-threading, the overhead of testing was 1.365507 seconds.\n",
      "You can set `force_col_wise=true` to remove the overhead.\n",
      "[LightGBM] [Info] Total Bins 115849\n",
      "[LightGBM] [Info] Number of data points in the train set: 1189486, number of used features: 1026\n",
      "[LightGBM] [Info] Using self-defined objective function\n"
     ]
    },
    {
     "name": "stderr",
     "output_type": "stream",
     "text": [
      "d:\\Dropbox\\Python\\LaboIII\\labo3-2024v\\.venv\\lib\\site-packages\\lightgbm\\callback.py:329: UserWarning: Early stopping is not available in dart mode\n",
      "  _log_warning(\"Early stopping is not available in dart mode\")\n"
     ]
    },
    {
     "name": "stdout",
     "output_type": "stream",
     "text": [
      "Overall custom metric:  0.2764194970848789\n"
     ]
    }
   ],
   "source": [
    "def custom_objective(y_pred, dataset):\n",
    "    y_true = dataset.get_label()\n",
    "    diff = y_pred - y_true\n",
    "    norm = np.sum(np.abs(diff)) / np.sum(np.abs(y_true))\n",
    "    grad = np.sign(diff) * norm\n",
    "    hess = np.ones_like(y_true) * norm  # Second derivative is approximated as a constant here\n",
    "    return grad, hess\n",
    "# Correr Modelo\n",
    "params={\n",
    "        'boosting_type': 'gbdt',\n",
    "        'objective': custom_objective,\n",
    "        'metric':'None',\n",
    "        #'n_jobs': -1,\n",
    "        'seed': 113,\n",
    "        #'learning_rate': 0.2,\n",
    "        #'bagging_fraction': 0.85,\n",
    "        #'bagging_freq': 1, \n",
    "        #'feature_fraction': 0.8,\n",
    "        #'colsample_bytree': 0.85,\n",
    "        #'colsample_bynode': 0.85,\n",
    "        #'min_data_per_leaf': 25,\n",
    "        #'num_leaves': 200,\n",
    "        #'lambda_l1': 0.5,\n",
    "        #'lambda_l2': 0.5\n",
    "}\n",
    "model, average_metric = labo.train_lightgbm_model(df_final,params)\n",
    "print(\"Overall custom metric: \", average_metric)\n",
    "\n",
    "\n"
   ]
  },
  {
   "cell_type": "code",
   "execution_count": 29,
   "metadata": {},
   "outputs": [],
   "source": [
    "def predict_next_month(model, last_data_points):\n",
    "    predictions = []\n",
    "    last_month = last_data_points.index.max() + 1\n",
    "    last_data_points.index = [last_month] * len(last_data_points)  # Set index to the next month\n",
    "    \n",
    "    predictions = model.predict(last_data_points, num_iteration=model.best_iteration)\n",
    "    \n",
    "    prediction_df = last_data_points[['product_id']].copy()\n",
    "    prediction_df['tn_2'] = predictions\n",
    "    prediction_df.index = [last_month] * len(last_data_points)\n",
    "\n",
    "    return prediction_df"
   ]
  },
  {
   "cell_type": "code",
   "execution_count": 30,
   "metadata": {},
   "outputs": [],
   "source": [
    "# Predict values for the entire dataset using the trained models\n",
    "# Prepare last data points for prediction\n",
    "last_data_points = df_final[df_final.index == df_final.index.max()].copy()\n",
    "last_data_points.drop(columns=['tn_2'], inplace=True)\n"
   ]
  },
  {
   "cell_type": "code",
   "execution_count": 31,
   "metadata": {},
   "outputs": [
    {
     "name": "stdout",
     "output_type": "stream",
     "text": [
      "Overall custom metric:  0.2764194970848789\n"
     ]
    }
   ],
   "source": [
    "# Predict the next month's value using the trained model\n",
    "predictions = predict_next_month(model, last_data_points)\n",
    "\n",
    "preds = predictions.groupby('product_id')['tn_2'].transform(inverse_minmax_scale_group)\n",
    "predictions['tn'] = preds\n",
    "predictions.drop(columns=['tn_2'], inplace=True)\n",
    "predictions = predictions.reset_index()\n",
    "predictions =  predictions.groupby('product_id')['tn'].sum()\n",
    "predictions.columns = ['product_id', 'tn']\n",
    "predictions.to_csv(DATOS_DIR+'/pred/0002-predicciones-tn2-custom.csv', index=True,header=True)\n",
    "print(\"Overall custom metric: \", average_metric)\n"
   ]
  },
  {
   "cell_type": "code",
   "execution_count": 32,
   "metadata": {},
   "outputs": [
    {
     "name": "stdout",
     "output_type": "stream",
     "text": [
      "Error:  0.6795516282269598\n"
     ]
    }
   ],
   "source": [
    "\n",
    "print(\"Error: \" ,abs(sum(df_true.groupby('product_id')['tn'].sum().values-predictions.values))/sum(df_true.groupby('product_id')['tn'].sum().values))"
   ]
  }
 ],
 "metadata": {
  "kernelspec": {
   "display_name": "Python 3",
   "language": "python",
   "name": "python3"
  },
  "language_info": {
   "codemirror_mode": {
    "name": "ipython",
    "version": 3
   },
   "file_extension": ".py",
   "mimetype": "text/x-python",
   "name": "python",
   "nbconvert_exporter": "python",
   "pygments_lexer": "ipython3",
   "version": "3.10.11"
  }
 },
 "nbformat": 4,
 "nbformat_minor": 2
}
