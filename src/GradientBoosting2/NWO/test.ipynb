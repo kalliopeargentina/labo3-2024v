{
 "cells": [
  {
   "cell_type": "code",
   "execution_count": 3,
   "metadata": {},
   "outputs": [
    {
     "name": "stdout",
     "output_type": "stream",
     "text": [
      "Aggregated CSV saved as 'averaged_tn.csv' in ../../ensemble\n"
     ]
    }
   ],
   "source": [
    "import os\n",
    "import polars as pl\n",
    "\n",
    "DATOS_DIR = '../../'     \n",
    "def read_and_aggregate_csv(directory):\n",
    "    # Read all CSV files in the specified directory\n",
    "    csv_files = [f for f in os.listdir(directory) if f.endswith('.csv')]\n",
    "    dataframes = []\n",
    "\n",
    "    for file in csv_files:\n",
    "        df = pl.read_csv(os.path.join(directory, file))\n",
    "        dataframes.append(df)\n",
    "    \n",
    "    # Concatenate all dataframes\n",
    "    combined_df = pl.concat(dataframes)\n",
    "    \n",
    "    # Group by product_id and average the tn values\n",
    "    result_df = combined_df.group_by('product_id').agg(pl.col('tn').mean().alias('tn'))\n",
    "    \n",
    "    # Save the result to a new CSV file\n",
    "    result_df.write_csv(os.path.join(directory, 'averaged_tn.csv'))\n",
    "    print(f\"Aggregated CSV saved as 'averaged_tn.csv' in {directory}\")\n",
    "\n",
    "# Specify the directory containing the CSV files\n",
    "directory = DATOS_DIR+'ensemble'\n",
    "read_and_aggregate_csv(directory)\n"
   ]
  }
 ],
 "metadata": {
  "kernelspec": {
   "display_name": "Python 3",
   "language": "python",
   "name": "python3"
  },
  "language_info": {
   "codemirror_mode": {
    "name": "ipython",
    "version": 3
   },
   "file_extension": ".py",
   "mimetype": "text/x-python",
   "name": "python",
   "nbconvert_exporter": "python",
   "pygments_lexer": "ipython3",
   "version": "3.10.11"
  }
 },
 "nbformat": 4,
 "nbformat_minor": 2
}
