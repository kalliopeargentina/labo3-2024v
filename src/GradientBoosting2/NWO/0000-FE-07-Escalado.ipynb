{
 "cells": [
  {
   "cell_type": "markdown",
   "id": "77d162f9",
   "metadata": {},
   "source": [
    "### Imports"
   ]
  },
  {
   "cell_type": "code",
   "execution_count": 1,
   "id": "3e936de2",
   "metadata": {},
   "outputs": [
    {
     "name": "stderr",
     "output_type": "stream",
     "text": [
      "d:\\Dropbox\\Python\\LaboIII\\labo3-2024v\\.venv\\lib\\site-packages\\dask\\dataframe\\__init__.py:42: FutureWarning: \n",
      "Dask dataframe query planning is disabled because dask-expr is not installed.\n",
      "\n",
      "You can install it with `pip install dask[dataframe]` or `conda install dask`.\n",
      "This will raise in a future version.\n",
      "\n",
      "  warnings.warn(msg, FutureWarning)\n"
     ]
    }
   ],
   "source": [
    "import pandas as pd\n",
    "import polars as pl\n",
    "import numpy as np\n",
    "#import matplotlib.pyplot as plt\n",
    "#from feature_baggingV2 import FeatureBaggingWithHyperparamTuning\n",
    "import statsmodels.api as sm\n",
    "from sklearn.model_selection import train_test_split\n",
    "#import lightgbm as lgb\n",
    "import datetime\n",
    "from sklearn.preprocessing import RobustScaler\n",
    "#from keras.models import Sequential\n",
    "#from keras.layers import LSTM, Dense\n",
    "import labolibrary as labo\n",
    "\n",
    "import os, sys, gc, time, warnings, pickle, psutil, random\n",
    "\n",
    "import warnings\n",
    "warnings.filterwarnings(\"ignore\")"
   ]
  },
  {
   "cell_type": "markdown",
   "id": "ab055280",
   "metadata": {},
   "source": [
    "### Función para escalar/desescalar y métrica"
   ]
  },
  {
   "cell_type": "code",
   "execution_count": 2,
   "id": "2b5cf70e",
   "metadata": {},
   "outputs": [],
   "source": [
    "# Function to center, scale, and return a series\n",
    "def scale_group(group):\n",
    "    scaler = RobustScaler()\n",
    "    scaled_values = scaler.fit_transform(group.values.reshape(-1, 1)).flatten()\n",
    "    scalers[group.name] = scaler  # Store the scaler for this group\n",
    "    return pd.Series(scaled_values, index=group.index, name=group.name)\n",
    "\n",
    "# Function to inverse transform (de-scale) and decenter, and return a series\n",
    "def inverse_scale_group(group):\n",
    "    group_name = group.name\n",
    "    scaler = scalers[group_name]\n",
    "    inversed_centered_values = scaler.inverse_transform(group.values.reshape(-1, 1)).flatten()\n",
    "    original_values = inversed_centered_values\n",
    "    return pd.Series(original_values, index=group.index, name=group_name)"
   ]
  },
  {
   "cell_type": "markdown",
   "id": "9d682256",
   "metadata": {},
   "source": [
    "### Archivos"
   ]
  },
  {
   "cell_type": "code",
   "execution_count": 3,
   "id": "d1bb9988",
   "metadata": {},
   "outputs": [],
   "source": [
    "#DATOS_DIR = '~/buckets/b1/datasets/'\n",
    "DATOS_DIR = '../data/'\n",
    "df_sell_in = pd.read_csv(DATOS_DIR+'sell-in.txt', sep='\\t')\n",
    "df_predecir = pd.read_csv(DATOS_DIR+'productos_a_predecir.txt', sep='\\t')\n",
    "df_tb_stocks = pd.read_csv(DATOS_DIR+'tb_stocks.txt', sep='\\t')\n",
    "df_tb_productos = pd.read_csv(DATOS_DIR+'tb_productos_descripcion.txt', sep='\\t')"
   ]
  },
  {
   "cell_type": "markdown",
   "id": "a81dfad9",
   "metadata": {},
   "source": [
    "### Preprocesamiento"
   ]
  },
  {
   "cell_type": "code",
   "execution_count": 4,
   "id": "5eeced7e-f3b8-4b67-8e9b-4d17e0f98c24",
   "metadata": {
    "scrolled": true
   },
   "outputs": [],
   "source": [
    "#AGREGAR VENTAS EN CERO\n",
    "\n",
    "df_group = pl.DataFrame(df_sell_in)\n",
    "df_group = df_group.group_by(['periodo','product_id','customer_id']).agg(pl.sum('tn').alias('tn_sum'))\n",
    "\n",
    "# Fechas de inicio y fin de cada producto\n",
    "df_fechas = df_group.group_by('product_id').agg([\n",
    "                                            pl.min('periodo').alias('periodo_min'),\n",
    "                                            pl.max('periodo').alias('periodo_max')])\n",
    "\n",
    "\n",
    "a = df_group.group_by(['product_id','customer_id']).agg(pl.count('periodo').alias('periodo_count'))\n",
    "a = a.filter(pl.col('periodo_count') >= 6)\n",
    "df_group = df_group.join(a, on=['product_id', 'customer_id'], how='inner')\n",
    "\n"
   ]
  },
  {
   "cell_type": "code",
   "execution_count": 5,
   "id": "9b2a6f39",
   "metadata": {},
   "outputs": [
    {
     "data": {
      "text/html": [
       "<div><style>\n",
       ".dataframe > thead > tr,\n",
       ".dataframe > tbody > tr {\n",
       "  text-align: right;\n",
       "  white-space: pre-wrap;\n",
       "}\n",
       "</style>\n",
       "<small>shape: (173_790, 3)</small><table border=\"1\" class=\"dataframe\"><thead><tr><th>product_id</th><th>customer_id</th><th>periodo_count</th></tr><tr><td>i64</td><td>i64</td><td>u32</td></tr></thead><tbody><tr><td>20410</td><td>10009</td><td>36</td></tr><tr><td>20465</td><td>10009</td><td>36</td></tr><tr><td>20197</td><td>10009</td><td>36</td></tr><tr><td>20161</td><td>10007</td><td>36</td></tr><tr><td>21016</td><td>10009</td><td>36</td></tr><tr><td>&hellip;</td><td>&hellip;</td><td>&hellip;</td></tr><tr><td>20439</td><td>10198</td><td>6</td></tr><tr><td>20074</td><td>10405</td><td>6</td></tr><tr><td>21030</td><td>10279</td><td>6</td></tr><tr><td>20105</td><td>10196</td><td>6</td></tr><tr><td>20101</td><td>10166</td><td>6</td></tr></tbody></table></div>"
      ],
      "text/plain": [
       "shape: (173_790, 3)\n",
       "┌────────────┬─────────────┬───────────────┐\n",
       "│ product_id ┆ customer_id ┆ periodo_count │\n",
       "│ ---        ┆ ---         ┆ ---           │\n",
       "│ i64        ┆ i64         ┆ u32           │\n",
       "╞════════════╪═════════════╪═══════════════╡\n",
       "│ 20410      ┆ 10009       ┆ 36            │\n",
       "│ 20465      ┆ 10009       ┆ 36            │\n",
       "│ 20197      ┆ 10009       ┆ 36            │\n",
       "│ 20161      ┆ 10007       ┆ 36            │\n",
       "│ 21016      ┆ 10009       ┆ 36            │\n",
       "│ …          ┆ …           ┆ …             │\n",
       "│ 20439      ┆ 10198       ┆ 6             │\n",
       "│ 20074      ┆ 10405       ┆ 6             │\n",
       "│ 21030      ┆ 10279       ┆ 6             │\n",
       "│ 20105      ┆ 10196       ┆ 6             │\n",
       "│ 20101      ┆ 10166       ┆ 6             │\n",
       "└────────────┴─────────────┴───────────────┘"
      ]
     },
     "execution_count": 5,
     "metadata": {},
     "output_type": "execute_result"
    }
   ],
   "source": [
    "\n",
    "\n",
    "\n",
    "df_group.group_by(['product_id','customer_id']).agg(pl.count('periodo').alias('periodo_count')).sort('periodo_count', descending=True)"
   ]
  },
  {
   "cell_type": "code",
   "execution_count": 6,
   "id": "1f9a7b46-ead6-475d-bd70-bab95acc0167",
   "metadata": {},
   "outputs": [],
   "source": [
    "# Obtener valores únicos de customer_id, product_id y periodo\n",
    "unique_customer_ids = df_sell_in['customer_id'].unique()\n",
    "unique_product_ids = df_sell_in['product_id'].unique()\n",
    "unique_periodos = df_sell_in['periodo'].unique()\n",
    "\n",
    "df_customers = pl.DataFrame({'customer_id': unique_customer_ids})\n",
    "df_products = pl.DataFrame({'product_id': unique_product_ids})\n",
    "df_periods = pl.DataFrame({'periodo': unique_periodos})\n",
    "\n",
    "# Creo las combinaciones con cross join\n",
    "df_all_combinations = df_customers.join(df_products, how = 'cross').join(df_periods, how= 'cross')"
   ]
  },
  {
   "cell_type": "code",
   "execution_count": 7,
   "id": "8adf0986-c368-4f3c-a28d-ac3b976d9e95",
   "metadata": {},
   "outputs": [
    {
     "data": {
      "text/html": [
       "<div><style>\n",
       ".dataframe > thead > tr,\n",
       ".dataframe > tbody > tr {\n",
       "  text-align: right;\n",
       "  white-space: pre-wrap;\n",
       "}\n",
       "</style>\n",
       "<small>shape: (26_499_636, 5)</small><table border=\"1\" class=\"dataframe\"><thead><tr><th>customer_id</th><th>product_id</th><th>periodo</th><th>periodo_min</th><th>periodo_max</th></tr><tr><td>i64</td><td>i64</td><td>i64</td><td>i64</td><td>i64</td></tr></thead><tbody><tr><td>10234</td><td>20524</td><td>201701</td><td>201701</td><td>201912</td></tr><tr><td>10234</td><td>20524</td><td>201702</td><td>201701</td><td>201912</td></tr><tr><td>10234</td><td>20524</td><td>201703</td><td>201701</td><td>201912</td></tr><tr><td>10234</td><td>20524</td><td>201704</td><td>201701</td><td>201912</td></tr><tr><td>10234</td><td>20524</td><td>201705</td><td>201701</td><td>201912</td></tr><tr><td>&hellip;</td><td>&hellip;</td><td>&hellip;</td><td>&hellip;</td><td>&hellip;</td></tr><tr><td>10572</td><td>20770</td><td>201908</td><td>201912</td><td>201912</td></tr><tr><td>10572</td><td>20770</td><td>201909</td><td>201912</td><td>201912</td></tr><tr><td>10572</td><td>20770</td><td>201910</td><td>201912</td><td>201912</td></tr><tr><td>10572</td><td>20770</td><td>201911</td><td>201912</td><td>201912</td></tr><tr><td>10572</td><td>20770</td><td>201912</td><td>201912</td><td>201912</td></tr></tbody></table></div>"
      ],
      "text/plain": [
       "shape: (26_499_636, 5)\n",
       "┌─────────────┬────────────┬─────────┬─────────────┬─────────────┐\n",
       "│ customer_id ┆ product_id ┆ periodo ┆ periodo_min ┆ periodo_max │\n",
       "│ ---         ┆ ---        ┆ ---     ┆ ---         ┆ ---         │\n",
       "│ i64         ┆ i64        ┆ i64     ┆ i64         ┆ i64         │\n",
       "╞═════════════╪════════════╪═════════╪═════════════╪═════════════╡\n",
       "│ 10234       ┆ 20524      ┆ 201701  ┆ 201701      ┆ 201912      │\n",
       "│ 10234       ┆ 20524      ┆ 201702  ┆ 201701      ┆ 201912      │\n",
       "│ 10234       ┆ 20524      ┆ 201703  ┆ 201701      ┆ 201912      │\n",
       "│ 10234       ┆ 20524      ┆ 201704  ┆ 201701      ┆ 201912      │\n",
       "│ 10234       ┆ 20524      ┆ 201705  ┆ 201701      ┆ 201912      │\n",
       "│ …           ┆ …          ┆ …       ┆ …           ┆ …           │\n",
       "│ 10572       ┆ 20770      ┆ 201908  ┆ 201912      ┆ 201912      │\n",
       "│ 10572       ┆ 20770      ┆ 201909  ┆ 201912      ┆ 201912      │\n",
       "│ 10572       ┆ 20770      ┆ 201910  ┆ 201912      ┆ 201912      │\n",
       "│ 10572       ┆ 20770      ┆ 201911  ┆ 201912      ┆ 201912      │\n",
       "│ 10572       ┆ 20770      ┆ 201912  ┆ 201912      ┆ 201912      │\n",
       "└─────────────┴────────────┴─────────┴─────────────┴─────────────┘"
      ]
     },
     "execution_count": 7,
     "metadata": {},
     "output_type": "execute_result"
    }
   ],
   "source": [
    "#Lo uno con los inicios y fin de cada producto\n",
    "df_all_combinations_2 = df_all_combinations.join(df_fechas, on = 'product_id', how='left')\n",
    "df_all_combinations_2\n"
   ]
  },
  {
   "cell_type": "code",
   "execution_count": 8,
   "id": "32ac8522-92f2-44b8-9057-8a79aa3177b2",
   "metadata": {},
   "outputs": [
    {
     "data": {
      "text/html": [
       "<div><style>\n",
       ".dataframe > thead > tr,\n",
       ".dataframe > tbody > tr {\n",
       "  text-align: right;\n",
       "  white-space: pre-wrap;\n",
       "}\n",
       "</style>\n",
       "<small>shape: (18_818_634, 5)</small><table border=\"1\" class=\"dataframe\"><thead><tr><th>customer_id</th><th>product_id</th><th>periodo</th><th>periodo_min</th><th>periodo_max</th></tr><tr><td>i64</td><td>i64</td><td>i64</td><td>i64</td><td>i64</td></tr></thead><tbody><tr><td>10234</td><td>20524</td><td>201701</td><td>201701</td><td>201912</td></tr><tr><td>10234</td><td>20524</td><td>201702</td><td>201701</td><td>201912</td></tr><tr><td>10234</td><td>20524</td><td>201703</td><td>201701</td><td>201912</td></tr><tr><td>10234</td><td>20524</td><td>201704</td><td>201701</td><td>201912</td></tr><tr><td>10234</td><td>20524</td><td>201705</td><td>201701</td><td>201912</td></tr><tr><td>&hellip;</td><td>&hellip;</td><td>&hellip;</td><td>&hellip;</td><td>&hellip;</td></tr><tr><td>10572</td><td>20728</td><td>201911</td><td>201911</td><td>201912</td></tr><tr><td>10572</td><td>20728</td><td>201912</td><td>201911</td><td>201912</td></tr><tr><td>10572</td><td>20792</td><td>201912</td><td>201912</td><td>201912</td></tr><tr><td>10572</td><td>20854</td><td>201912</td><td>201912</td><td>201912</td></tr><tr><td>10572</td><td>20770</td><td>201912</td><td>201912</td><td>201912</td></tr></tbody></table></div>"
      ],
      "text/plain": [
       "shape: (18_818_634, 5)\n",
       "┌─────────────┬────────────┬─────────┬─────────────┬─────────────┐\n",
       "│ customer_id ┆ product_id ┆ periodo ┆ periodo_min ┆ periodo_max │\n",
       "│ ---         ┆ ---        ┆ ---     ┆ ---         ┆ ---         │\n",
       "│ i64         ┆ i64        ┆ i64     ┆ i64         ┆ i64         │\n",
       "╞═════════════╪════════════╪═════════╪═════════════╪═════════════╡\n",
       "│ 10234       ┆ 20524      ┆ 201701  ┆ 201701      ┆ 201912      │\n",
       "│ 10234       ┆ 20524      ┆ 201702  ┆ 201701      ┆ 201912      │\n",
       "│ 10234       ┆ 20524      ┆ 201703  ┆ 201701      ┆ 201912      │\n",
       "│ 10234       ┆ 20524      ┆ 201704  ┆ 201701      ┆ 201912      │\n",
       "│ 10234       ┆ 20524      ┆ 201705  ┆ 201701      ┆ 201912      │\n",
       "│ …           ┆ …          ┆ …       ┆ …           ┆ …           │\n",
       "│ 10572       ┆ 20728      ┆ 201911  ┆ 201911      ┆ 201912      │\n",
       "│ 10572       ┆ 20728      ┆ 201912  ┆ 201911      ┆ 201912      │\n",
       "│ 10572       ┆ 20792      ┆ 201912  ┆ 201912      ┆ 201912      │\n",
       "│ 10572       ┆ 20854      ┆ 201912  ┆ 201912      ┆ 201912      │\n",
       "│ 10572       ┆ 20770      ┆ 201912  ┆ 201912      ┆ 201912      │\n",
       "└─────────────┴────────────┴─────────┴─────────────┴─────────────┘"
      ]
     },
     "execution_count": 8,
     "metadata": {},
     "output_type": "execute_result"
    }
   ],
   "source": [
    "#filtro los que no estan dentro del rango de inicio y fin\n",
    "filtered_df = df_all_combinations_2.filter((df_all_combinations_2['periodo'] >= df_all_combinations_2['periodo_min']) & (df_all_combinations_2['periodo'] <= df_all_combinations_2['periodo_max']))\n",
    "filtered_df"
   ]
  },
  {
   "cell_type": "code",
   "execution_count": 9,
   "id": "6d31781e-0474-473a-bc56-0a2f227b021a",
   "metadata": {},
   "outputs": [],
   "source": [
    "df_sell = pl.DataFrame(df_sell_in)\n"
   ]
  },
  {
   "cell_type": "code",
   "execution_count": 10,
   "id": "29bed7ca-9039-4af4-9f09-b47a8c42a2f8",
   "metadata": {},
   "outputs": [],
   "source": [
    "# Calcular si cada combinación de product_id y customer_id ha comprado\n",
    "df_grouped_2 = df_sell.group_by([\"product_id\", \"customer_id\"]).agg(pl.count(\"periodo\").alias(\"count\"))"
   ]
  },
  {
   "cell_type": "code",
   "execution_count": 11,
   "id": "8fa0cc4e-897f-4783-9316-f2932bcf759c",
   "metadata": {},
   "outputs": [],
   "source": [
    "#Join final con sell in\n",
    "df_complete = filtered_df.join(df_sell, \n",
    "                 left_on=['customer_id', 'product_id','periodo'],\n",
    "                 right_on=['customer_id', 'product_id','periodo'],\n",
    "                 how='left'\n",
    "                )\n",
    "df_complete = df_complete.drop(\"plan_precios_cuidados\") #Lo elimino porque sino con fill null se coloca en cero\n",
    "df_complete = df_complete.fill_null(0)\n",
    "\n"
   ]
  },
  {
   "cell_type": "code",
   "execution_count": 12,
   "id": "d458a578-906f-49ca-893f-0b75570d062e",
   "metadata": {},
   "outputs": [],
   "source": [
    "df_complete = df_complete.join(df_grouped_2,left_on=['customer_id', 'product_id'],\n",
    "                 right_on=['customer_id', 'product_id'],                 how='left'\n",
    "                )"
   ]
  },
  {
   "cell_type": "code",
   "execution_count": 13,
   "id": "600d403e",
   "metadata": {},
   "outputs": [
    {
     "data": {
      "text/html": [
       "<div><style>\n",
       ".dataframe > thead > tr,\n",
       ".dataframe > tbody > tr {\n",
       "  text-align: right;\n",
       "  white-space: pre-wrap;\n",
       "}\n",
       "</style>\n",
       "<small>shape: (5_704_069, 9)</small><table border=\"1\" class=\"dataframe\"><thead><tr><th>customer_id</th><th>product_id</th><th>periodo</th><th>periodo_min</th><th>periodo_max</th><th>cust_request_qty</th><th>cust_request_tn</th><th>tn</th><th>count</th></tr><tr><td>i64</td><td>i64</td><td>i64</td><td>i64</td><td>i64</td><td>i64</td><td>f64</td><td>f64</td><td>u32</td></tr></thead><tbody><tr><td>10234</td><td>20524</td><td>201701</td><td>201701</td><td>201912</td><td>2</td><td>0.053</td><td>0.053</td><td>8</td></tr><tr><td>10234</td><td>20524</td><td>201702</td><td>201701</td><td>201912</td><td>0</td><td>0.0</td><td>0.0</td><td>8</td></tr><tr><td>10234</td><td>20524</td><td>201703</td><td>201701</td><td>201912</td><td>1</td><td>0.01514</td><td>0.01514</td><td>8</td></tr><tr><td>10234</td><td>20524</td><td>201704</td><td>201701</td><td>201912</td><td>0</td><td>0.0</td><td>0.0</td><td>8</td></tr><tr><td>10234</td><td>20524</td><td>201705</td><td>201701</td><td>201912</td><td>0</td><td>0.0</td><td>0.0</td><td>8</td></tr><tr><td>&hellip;</td><td>&hellip;</td><td>&hellip;</td><td>&hellip;</td><td>&hellip;</td><td>&hellip;</td><td>&hellip;</td><td>&hellip;</td><td>&hellip;</td></tr><tr><td>10550</td><td>20411</td><td>201908</td><td>201701</td><td>201912</td><td>0</td><td>0.0</td><td>0.0</td><td>6</td></tr><tr><td>10550</td><td>20411</td><td>201909</td><td>201701</td><td>201912</td><td>1</td><td>0.00197</td><td>0.00197</td><td>6</td></tr><tr><td>10550</td><td>20411</td><td>201910</td><td>201701</td><td>201912</td><td>1</td><td>0.00491</td><td>0.00491</td><td>6</td></tr><tr><td>10550</td><td>20411</td><td>201911</td><td>201701</td><td>201912</td><td>1</td><td>0.00197</td><td>0.00197</td><td>6</td></tr><tr><td>10550</td><td>20411</td><td>201912</td><td>201701</td><td>201912</td><td>1</td><td>0.00491</td><td>0.00491</td><td>6</td></tr></tbody></table></div>"
      ],
      "text/plain": [
       "shape: (5_704_069, 9)\n",
       "┌─────────────┬────────────┬─────────┬─────────────┬───┬────────────┬────────────┬─────────┬───────┐\n",
       "│ customer_id ┆ product_id ┆ periodo ┆ periodo_min ┆ … ┆ cust_reque ┆ cust_reque ┆ tn      ┆ count │\n",
       "│ ---         ┆ ---        ┆ ---     ┆ ---         ┆   ┆ st_qty     ┆ st_tn      ┆ ---     ┆ ---   │\n",
       "│ i64         ┆ i64        ┆ i64     ┆ i64         ┆   ┆ ---        ┆ ---        ┆ f64     ┆ u32   │\n",
       "│             ┆            ┆         ┆             ┆   ┆ i64        ┆ f64        ┆         ┆       │\n",
       "╞═════════════╪════════════╪═════════╪═════════════╪═══╪════════════╪════════════╪═════════╪═══════╡\n",
       "│ 10234       ┆ 20524      ┆ 201701  ┆ 201701      ┆ … ┆ 2          ┆ 0.053      ┆ 0.053   ┆ 8     │\n",
       "│ 10234       ┆ 20524      ┆ 201702  ┆ 201701      ┆ … ┆ 0          ┆ 0.0        ┆ 0.0     ┆ 8     │\n",
       "│ 10234       ┆ 20524      ┆ 201703  ┆ 201701      ┆ … ┆ 1          ┆ 0.01514    ┆ 0.01514 ┆ 8     │\n",
       "│ 10234       ┆ 20524      ┆ 201704  ┆ 201701      ┆ … ┆ 0          ┆ 0.0        ┆ 0.0     ┆ 8     │\n",
       "│ 10234       ┆ 20524      ┆ 201705  ┆ 201701      ┆ … ┆ 0          ┆ 0.0        ┆ 0.0     ┆ 8     │\n",
       "│ …           ┆ …          ┆ …       ┆ …           ┆ … ┆ …          ┆ …          ┆ …       ┆ …     │\n",
       "│ 10550       ┆ 20411      ┆ 201908  ┆ 201701      ┆ … ┆ 0          ┆ 0.0        ┆ 0.0     ┆ 6     │\n",
       "│ 10550       ┆ 20411      ┆ 201909  ┆ 201701      ┆ … ┆ 1          ┆ 0.00197    ┆ 0.00197 ┆ 6     │\n",
       "│ 10550       ┆ 20411      ┆ 201910  ┆ 201701      ┆ … ┆ 1          ┆ 0.00491    ┆ 0.00491 ┆ 6     │\n",
       "│ 10550       ┆ 20411      ┆ 201911  ┆ 201701      ┆ … ┆ 1          ┆ 0.00197    ┆ 0.00197 ┆ 6     │\n",
       "│ 10550       ┆ 20411      ┆ 201912  ┆ 201701      ┆ … ┆ 1          ┆ 0.00491    ┆ 0.00491 ┆ 6     │\n",
       "└─────────────┴────────────┴─────────┴─────────────┴───┴────────────┴────────────┴─────────┴───────┘"
      ]
     },
     "execution_count": 13,
     "metadata": {},
     "output_type": "execute_result"
    }
   ],
   "source": [
    "df_complete.filter(pl.col(\"count\") >= 6 ) "
   ]
  },
  {
   "cell_type": "code",
   "execution_count": 14,
   "id": "4ec4582c-b703-493f-a37e-b934e3570bd0",
   "metadata": {},
   "outputs": [
    {
     "data": {
      "text/html": [
       "<div><style>\n",
       ".dataframe > thead > tr,\n",
       ".dataframe > tbody > tr {\n",
       "  text-align: right;\n",
       "  white-space: pre-wrap;\n",
       "}\n",
       "</style>\n",
       "<small>shape: (9_133_945, 9)</small><table border=\"1\" class=\"dataframe\"><thead><tr><th>customer_id</th><th>product_id</th><th>periodo</th><th>periodo_min</th><th>periodo_max</th><th>cust_request_qty</th><th>cust_request_tn</th><th>tn</th><th>count</th></tr><tr><td>i64</td><td>i64</td><td>i64</td><td>i64</td><td>i64</td><td>i64</td><td>f64</td><td>f64</td><td>u32</td></tr></thead><tbody><tr><td>10234</td><td>20524</td><td>201701</td><td>201701</td><td>201912</td><td>2</td><td>0.053</td><td>0.053</td><td>8</td></tr><tr><td>10234</td><td>20524</td><td>201702</td><td>201701</td><td>201912</td><td>0</td><td>0.0</td><td>0.0</td><td>8</td></tr><tr><td>10234</td><td>20524</td><td>201703</td><td>201701</td><td>201912</td><td>1</td><td>0.01514</td><td>0.01514</td><td>8</td></tr><tr><td>10234</td><td>20524</td><td>201704</td><td>201701</td><td>201912</td><td>0</td><td>0.0</td><td>0.0</td><td>8</td></tr><tr><td>10234</td><td>20524</td><td>201705</td><td>201701</td><td>201912</td><td>0</td><td>0.0</td><td>0.0</td><td>8</td></tr><tr><td>&hellip;</td><td>&hellip;</td><td>&hellip;</td><td>&hellip;</td><td>&hellip;</td><td>&hellip;</td><td>&hellip;</td><td>&hellip;</td><td>&hellip;</td></tr><tr><td>10538</td><td>20218</td><td>201911</td><td>201801</td><td>201912</td><td>0</td><td>0.0</td><td>0.0</td><td>2</td></tr><tr><td>10538</td><td>20218</td><td>201912</td><td>201801</td><td>201912</td><td>1</td><td>0.32432</td><td>0.32432</td><td>2</td></tr><tr><td>10538</td><td>20958</td><td>201910</td><td>201910</td><td>201912</td><td>1</td><td>0.11466</td><td>0.11466</td><td>2</td></tr><tr><td>10538</td><td>20958</td><td>201911</td><td>201910</td><td>201912</td><td>0</td><td>0.0</td><td>0.0</td><td>2</td></tr><tr><td>10538</td><td>20958</td><td>201912</td><td>201910</td><td>201912</td><td>1</td><td>0.11466</td><td>0.11466</td><td>2</td></tr></tbody></table></div>"
      ],
      "text/plain": [
       "shape: (9_133_945, 9)\n",
       "┌─────────────┬────────────┬─────────┬─────────────┬───┬────────────┬────────────┬─────────┬───────┐\n",
       "│ customer_id ┆ product_id ┆ periodo ┆ periodo_min ┆ … ┆ cust_reque ┆ cust_reque ┆ tn      ┆ count │\n",
       "│ ---         ┆ ---        ┆ ---     ┆ ---         ┆   ┆ st_qty     ┆ st_tn      ┆ ---     ┆ ---   │\n",
       "│ i64         ┆ i64        ┆ i64     ┆ i64         ┆   ┆ ---        ┆ ---        ┆ f64     ┆ u32   │\n",
       "│             ┆            ┆         ┆             ┆   ┆ i64        ┆ f64        ┆         ┆       │\n",
       "╞═════════════╪════════════╪═════════╪═════════════╪═══╪════════════╪════════════╪═════════╪═══════╡\n",
       "│ 10234       ┆ 20524      ┆ 201701  ┆ 201701      ┆ … ┆ 2          ┆ 0.053      ┆ 0.053   ┆ 8     │\n",
       "│ 10234       ┆ 20524      ┆ 201702  ┆ 201701      ┆ … ┆ 0          ┆ 0.0        ┆ 0.0     ┆ 8     │\n",
       "│ 10234       ┆ 20524      ┆ 201703  ┆ 201701      ┆ … ┆ 1          ┆ 0.01514    ┆ 0.01514 ┆ 8     │\n",
       "│ 10234       ┆ 20524      ┆ 201704  ┆ 201701      ┆ … ┆ 0          ┆ 0.0        ┆ 0.0     ┆ 8     │\n",
       "│ 10234       ┆ 20524      ┆ 201705  ┆ 201701      ┆ … ┆ 0          ┆ 0.0        ┆ 0.0     ┆ 8     │\n",
       "│ …           ┆ …          ┆ …       ┆ …           ┆ … ┆ …          ┆ …          ┆ …       ┆ …     │\n",
       "│ 10538       ┆ 20218      ┆ 201911  ┆ 201801      ┆ … ┆ 0          ┆ 0.0        ┆ 0.0     ┆ 2     │\n",
       "│ 10538       ┆ 20218      ┆ 201912  ┆ 201801      ┆ … ┆ 1          ┆ 0.32432    ┆ 0.32432 ┆ 2     │\n",
       "│ 10538       ┆ 20958      ┆ 201910  ┆ 201910      ┆ … ┆ 1          ┆ 0.11466    ┆ 0.11466 ┆ 2     │\n",
       "│ 10538       ┆ 20958      ┆ 201911  ┆ 201910      ┆ … ┆ 0          ┆ 0.0        ┆ 0.0     ┆ 2     │\n",
       "│ 10538       ┆ 20958      ┆ 201912  ┆ 201910      ┆ … ┆ 1          ┆ 0.11466    ┆ 0.11466 ┆ 2     │\n",
       "└─────────────┴────────────┴─────────┴─────────────┴───┴────────────┴────────────┴─────────┴───────┘"
      ]
     },
     "execution_count": 14,
     "metadata": {},
     "output_type": "execute_result"
    }
   ],
   "source": [
    "df_complete = df_complete.filter(pl.col(\"count\") >= 2 ) \n",
    "df_complete "
   ]
  },
  {
   "cell_type": "code",
   "execution_count": 15,
   "id": "fa9e1b89",
   "metadata": {},
   "outputs": [],
   "source": [
    "\n",
    "\n",
    "# Create a copy of the original dataframe to perform operations\n",
    "df_group_copy = df_complete.clone()\n",
    "\n",
    "# Ensure 'periodo' is treated as a string for filtering\n",
    "df_group_copy = df_group_copy.with_columns([\n",
    "    pl.col('periodo').cast(pl.Utf8)\n",
    "])\n",
    "\n",
    "# Define the date range\n",
    "start_period = \"201906\"\n",
    "end_period = \"201911\"\n",
    "\n",
    "# Filter to get only rows within the last six months\n",
    "df_last_six_months = df_group_copy.filter((pl.col('periodo') >= start_period) & (pl.col('periodo') <= end_period))\n",
    "\n",
    "# Group by product_id and customer_id and calculate the sum of tn\n",
    "df_summed_tn = df_last_six_months.group_by(['product_id', 'customer_id']).agg(pl.sum('tn').alias('tn_sum'))\n",
    "\n",
    "# Filter out combinations where the sum of tn is zero\n",
    "valid_combinations = df_summed_tn.filter(pl.col('tn_sum') > 0).select(['product_id', 'customer_id'])\n",
    "\n",
    "# Perform an inner join to filter the original dataframe\n",
    "df_filtered = df_complete.join(valid_combinations, on=['product_id', 'customer_id'], how='inner')\n",
    "\n",
    "# Display the result\n",
    "df_complete =df_filtered\n"
   ]
  },
  {
   "cell_type": "markdown",
   "id": "0a4a61d2-6001-47b2-a2aa-fc47511b160f",
   "metadata": {},
   "source": [
    "Testeo de agregado de ceros"
   ]
  },
  {
   "cell_type": "code",
   "execution_count": 16,
   "id": "a071b49a-fe03-4694-a2e4-4a39d29d1e78",
   "metadata": {},
   "outputs": [
    {
     "data": {
      "text/html": [
       "<div><style>\n",
       ".dataframe > thead > tr,\n",
       ".dataframe > tbody > tr {\n",
       "  text-align: right;\n",
       "  white-space: pre-wrap;\n",
       "}\n",
       "</style>\n",
       "<small>shape: (2, 7)</small><table border=\"1\" class=\"dataframe\"><thead><tr><th>periodo</th><th>customer_id</th><th>product_id</th><th>plan_precios_cuidados</th><th>cust_request_qty</th><th>cust_request_tn</th><th>tn</th></tr><tr><td>i64</td><td>i64</td><td>i64</td><td>i64</td><td>i64</td><td>f64</td><td>f64</td></tr></thead><tbody><tr><td>201909</td><td>10550</td><td>21276</td><td>0</td><td>1</td><td>0.00075</td><td>0.00075</td></tr><tr><td>201911</td><td>10550</td><td>21276</td><td>0</td><td>2</td><td>0.00371</td><td>0.00371</td></tr></tbody></table></div>"
      ],
      "text/plain": [
       "shape: (2, 7)\n",
       "┌─────────┬─────────────┬────────────┬─────────────────┬────────────────┬────────────────┬─────────┐\n",
       "│ periodo ┆ customer_id ┆ product_id ┆ plan_precios_cu ┆ cust_request_q ┆ cust_request_t ┆ tn      │\n",
       "│ ---     ┆ ---         ┆ ---        ┆ idados          ┆ ty             ┆ n              ┆ ---     │\n",
       "│ i64     ┆ i64         ┆ i64        ┆ ---             ┆ ---            ┆ ---            ┆ f64     │\n",
       "│         ┆             ┆            ┆ i64             ┆ i64            ┆ f64            ┆         │\n",
       "╞═════════╪═════════════╪════════════╪═════════════════╪════════════════╪════════════════╪═════════╡\n",
       "│ 201909  ┆ 10550       ┆ 21276      ┆ 0               ┆ 1              ┆ 0.00075        ┆ 0.00075 │\n",
       "│ 201911  ┆ 10550       ┆ 21276      ┆ 0               ┆ 2              ┆ 0.00371        ┆ 0.00371 │\n",
       "└─────────┴─────────────┴────────────┴─────────────────┴────────────────┴────────────────┴─────────┘"
      ]
     },
     "execution_count": 16,
     "metadata": {},
     "output_type": "execute_result"
    }
   ],
   "source": [
    "#Original\n",
    "df_sell.filter((pl.col(\"product_id\") == 21276) & (pl.col(\"customer_id\")==10550))"
   ]
  },
  {
   "cell_type": "code",
   "execution_count": 17,
   "id": "cbcce693-7286-4a5f-a0c0-d329a15e35b2",
   "metadata": {},
   "outputs": [
    {
     "data": {
      "text/html": [
       "<div><style>\n",
       ".dataframe > thead > tr,\n",
       ".dataframe > tbody > tr {\n",
       "  text-align: right;\n",
       "  white-space: pre-wrap;\n",
       "}\n",
       "</style>\n",
       "<small>shape: (11_952, 9)</small><table border=\"1\" class=\"dataframe\"><thead><tr><th>customer_id</th><th>product_id</th><th>periodo</th><th>periodo_min</th><th>periodo_max</th><th>cust_request_qty</th><th>cust_request_tn</th><th>tn</th><th>count</th></tr><tr><td>i64</td><td>i64</td><td>i64</td><td>i64</td><td>i64</td><td>i64</td><td>f64</td><td>f64</td><td>u32</td></tr></thead><tbody><tr><td>10234</td><td>20001</td><td>201701</td><td>201701</td><td>201912</td><td>1</td><td>0.33579</td><td>0.33579</td><td>12</td></tr><tr><td>10234</td><td>20001</td><td>201702</td><td>201701</td><td>201912</td><td>0</td><td>0.0</td><td>0.0</td><td>12</td></tr><tr><td>10234</td><td>20001</td><td>201703</td><td>201701</td><td>201912</td><td>0</td><td>0.0</td><td>0.0</td><td>12</td></tr><tr><td>10234</td><td>20001</td><td>201704</td><td>201701</td><td>201912</td><td>0</td><td>0.0</td><td>0.0</td><td>12</td></tr><tr><td>10234</td><td>20001</td><td>201705</td><td>201701</td><td>201912</td><td>2</td><td>0.27982</td><td>0.27982</td><td>12</td></tr><tr><td>&hellip;</td><td>&hellip;</td><td>&hellip;</td><td>&hellip;</td><td>&hellip;</td><td>&hellip;</td><td>&hellip;</td><td>&hellip;</td><td>&hellip;</td></tr><tr><td>10434</td><td>20001</td><td>201908</td><td>201701</td><td>201912</td><td>0</td><td>0.0</td><td>0.0</td><td>2</td></tr><tr><td>10434</td><td>20001</td><td>201909</td><td>201701</td><td>201912</td><td>0</td><td>0.0</td><td>0.0</td><td>2</td></tr><tr><td>10434</td><td>20001</td><td>201910</td><td>201701</td><td>201912</td><td>0</td><td>0.0</td><td>0.0</td><td>2</td></tr><tr><td>10434</td><td>20001</td><td>201911</td><td>201701</td><td>201912</td><td>0</td><td>0.0</td><td>0.0</td><td>2</td></tr><tr><td>10434</td><td>20001</td><td>201912</td><td>201701</td><td>201912</td><td>1</td><td>0.49289</td><td>0.49289</td><td>2</td></tr></tbody></table></div>"
      ],
      "text/plain": [
       "shape: (11_952, 9)\n",
       "┌─────────────┬────────────┬─────────┬─────────────┬───┬────────────┬────────────┬─────────┬───────┐\n",
       "│ customer_id ┆ product_id ┆ periodo ┆ periodo_min ┆ … ┆ cust_reque ┆ cust_reque ┆ tn      ┆ count │\n",
       "│ ---         ┆ ---        ┆ ---     ┆ ---         ┆   ┆ st_qty     ┆ st_tn      ┆ ---     ┆ ---   │\n",
       "│ i64         ┆ i64        ┆ i64     ┆ i64         ┆   ┆ ---        ┆ ---        ┆ f64     ┆ u32   │\n",
       "│             ┆            ┆         ┆             ┆   ┆ i64        ┆ f64        ┆         ┆       │\n",
       "╞═════════════╪════════════╪═════════╪═════════════╪═══╪════════════╪════════════╪═════════╪═══════╡\n",
       "│ 10234       ┆ 20001      ┆ 201701  ┆ 201701      ┆ … ┆ 1          ┆ 0.33579    ┆ 0.33579 ┆ 12    │\n",
       "│ 10234       ┆ 20001      ┆ 201702  ┆ 201701      ┆ … ┆ 0          ┆ 0.0        ┆ 0.0     ┆ 12    │\n",
       "│ 10234       ┆ 20001      ┆ 201703  ┆ 201701      ┆ … ┆ 0          ┆ 0.0        ┆ 0.0     ┆ 12    │\n",
       "│ 10234       ┆ 20001      ┆ 201704  ┆ 201701      ┆ … ┆ 0          ┆ 0.0        ┆ 0.0     ┆ 12    │\n",
       "│ 10234       ┆ 20001      ┆ 201705  ┆ 201701      ┆ … ┆ 2          ┆ 0.27982    ┆ 0.27982 ┆ 12    │\n",
       "│ …           ┆ …          ┆ …       ┆ …           ┆ … ┆ …          ┆ …          ┆ …       ┆ …     │\n",
       "│ 10434       ┆ 20001      ┆ 201908  ┆ 201701      ┆ … ┆ 0          ┆ 0.0        ┆ 0.0     ┆ 2     │\n",
       "│ 10434       ┆ 20001      ┆ 201909  ┆ 201701      ┆ … ┆ 0          ┆ 0.0        ┆ 0.0     ┆ 2     │\n",
       "│ 10434       ┆ 20001      ┆ 201910  ┆ 201701      ┆ … ┆ 0          ┆ 0.0        ┆ 0.0     ┆ 2     │\n",
       "│ 10434       ┆ 20001      ┆ 201911  ┆ 201701      ┆ … ┆ 0          ┆ 0.0        ┆ 0.0     ┆ 2     │\n",
       "│ 10434       ┆ 20001      ┆ 201912  ┆ 201701      ┆ … ┆ 1          ┆ 0.49289    ┆ 0.49289 ┆ 2     │\n",
       "└─────────────┴────────────┴─────────┴─────────────┴───┴────────────┴────────────┴─────────┴───────┘"
      ]
     },
     "execution_count": 17,
     "metadata": {},
     "output_type": "execute_result"
    }
   ],
   "source": [
    "#Modificado\n",
    "df_complete.filter((pl.col(\"product_id\") == 20001))"
   ]
  },
  {
   "cell_type": "code",
   "execution_count": 18,
   "id": "9f8901d9-5223-4d1b-9512-f342cfb991a1",
   "metadata": {},
   "outputs": [],
   "source": [
    "df_complete = df_complete.to_pandas()"
   ]
  },
  {
   "cell_type": "code",
   "execution_count": 19,
   "id": "a4704a16-bd8a-4f8b-bb34-81287071ec5f",
   "metadata": {},
   "outputs": [],
   "source": [
    "#Defino los formatos\n",
    "df_tb_stocks['periodo'] = pd.to_datetime(df_tb_stocks['periodo'], format='%Y%m')\n",
    "df_tb_stocks['periodo'] = df_tb_stocks['periodo'] - pd.DateOffset(months=1) #mes diferente en stock\n",
    "df_tb_stocks['product_id'] = df_tb_stocks['product_id'].astype(int)\n",
    "df_tb_stocks['stock_final'] = df_tb_stocks['stock_final'].astype(float)\n",
    "df_tb_productos['product_id'] = df_tb_productos['product_id'].astype(int)\n",
    "df_tb_productos['sku_size'] = df_tb_productos['sku_size'].astype(int)\n",
    "df_complete['periodo'] = pd.to_datetime(df_complete['periodo'], format='%Y%m')\n",
    "df_complete['product_id'] = df_complete['product_id'].astype(int)\n",
    "df_complete['customer_id'] = df_complete['customer_id'].astype(int)\n",
    "df_complete['cust_request_qty'] = df_complete['cust_request_qty'].astype(int)\n",
    "df_complete['cust_request_tn'] = df_complete['cust_request_tn'].astype(float)\n",
    "df_complete['tn'] = df_complete['tn'].astype(float)\n",
    "#df_complete['plan_precios_cuidados'] = df_complete['plan_precios_cuidados'].astype(bool)"
   ]
  },
  {
   "cell_type": "code",
   "execution_count": 20,
   "id": "82b067de-cae1-446c-8a61-b017e95fa01e",
   "metadata": {},
   "outputs": [],
   "source": [
    "df_sell_in = df_complete"
   ]
  },
  {
   "cell_type": "markdown",
   "id": "e8a06313",
   "metadata": {},
   "source": [
    "### Consolidar Datos"
   ]
  },
  {
   "cell_type": "code",
   "execution_count": 21,
   "id": "976db310",
   "metadata": {},
   "outputs": [],
   "source": [
    "#### Agrupar y escalar\n",
    "scalers = {}\n",
    "\n",
    "df_sell_in['weight'] = df_sell_in['tn'] #Variable Weight\n",
    "\n",
    "df_sell_in['tn'] = df_sell_in.groupby(['product_id','customer_id'])['tn'].transform(scale_group)\n",
    "\n",
    "#df_sell_in[(df_sell_in['product_id'] == 21276) & (df_sell_in['customer_id'] == 10029)][['periodo', 'tn', 'weight']]\n",
    "with open(DATOS_DIR+'/scalers.pkl', 'wb') as file:#\n",
    "     pickle.dump(scalers, file)\n"
   ]
  },
  {
   "cell_type": "markdown",
   "id": "a71ca9d7",
   "metadata": {},
   "source": [
    "O#### Outliers"
   ]
  },
  {
   "cell_type": "code",
   "execution_count": null,
   "id": "97788424",
   "metadata": {},
   "outputs": [],
   "source": [
    "def cap_outliers(df, column_name):\n",
    "    mean = df[column_name].mean()\n",
    "    std = df[column_name].std()\n",
    "    threshold = 3\n",
    "    df = df.with_columns(\n",
    "        ((pl.col(column_name) - mean) / std).alias('z_score')\n",
    "    )\n",
    "    df = df.with_columns(\n",
    "        pl.when(pl.col('z_score').abs() > threshold)\n",
    "        .then(mean + threshold * std * pl.col('z_score').sign())\n",
    "        .otherwise(pl.col(column_name))\n",
    "        .alias(f'capped_{column_name}')\n",
    "    )\n",
    "    df = df.drop('z_score')\n",
    "    return df\n",
    "\n",
    "# Group by product_id and customer_id and apply the function while preserving all columns\n",
    "df_sell_in = df_sell_in.groupby(['product_id', 'customer_id']).apply(\n",
    "    lambda df: cap_outliers(df, 'tn_2')\n",
    ")\n"
   ]
  },
  {
   "cell_type": "markdown",
   "id": "464b5dba-2f80-4cb4-9490-d6f09cdf54ff",
   "metadata": {},
   "source": [
    "#### Clase a evaluar"
   ]
  },
  {
   "cell_type": "code",
   "execution_count": 22,
   "id": "9bb2d205-27e0-483b-88db-a5225c2ce6ab",
   "metadata": {},
   "outputs": [],
   "source": [
    "df_sell_in['tn_2'] = df_sell_in.groupby(['product_id', 'customer_id'])['tn'].shift(-2) #METRICA A EVALUAR!\n",
    "df_sell_in['diff_tn_tn2'] =  df_sell_in['tn_2'] - df_sell_in['tn'] #NUEVA CLASE (NO LA UTILIZAMOS)"
   ]
  },
  {
   "cell_type": "code",
   "execution_count": 23,
   "id": "74b624eb",
   "metadata": {},
   "outputs": [],
   "source": [
    "df_sell_in['cust_request_qty'] = df_sell_in.groupby(['product_id','customer_id'])['cust_request_qty'].transform(scale_group) \n",
    "df_sell_in['cust_request_tn'] = df_sell_in.groupby(['product_id','customer_id'])['cust_request_tn'].transform(scale_group) \n",
    "df_sell_in['cust_request_qty'] = df_sell_in.groupby(['product_id','customer_id'])['cust_request_qty'].transform(scale_group)  \n",
    "#df_tb_stocks['stock_final'] = df_tb_stocks.groupby(['product_id','customer_id'])['stock_final'].transform(scale_group) "
   ]
  },
  {
   "cell_type": "code",
   "execution_count": 24,
   "id": "8f111859",
   "metadata": {},
   "outputs": [],
   "source": [
    "# Join tb_productos to sell_in on product_id\n",
    "df_sell_in_merged = pd.merge(df_sell_in, df_tb_productos, on='product_id', how='left')\n",
    "# Join tb_stocks to sell_in_merged on both product_id and periodo\n",
    "df_final = pd.merge(df_sell_in_merged, df_tb_stocks, on=['product_id', 'periodo'], how='left')\n",
    "\n",
    "#Convertir 'periodo' a formato de fecha y Calcular el trimestre desde 'periodo'\n",
    "df_final['fecha'] = pd.to_datetime(df_final['periodo'], format='%Y%m')\n",
    "df_final[\"trimestre\"] = df_final.periodo.dt.quarter\n",
    "\n",
    "#Establecer 'fecha' como índice y convertir a período mensual\n",
    "#################df_final.set_index('fecha', inplace=True)\n",
    "##################df_final.index = df_final.index.to_period('M')"
   ]
  },
  {
   "cell_type": "code",
   "execution_count": 25,
   "id": "d63c5f86",
   "metadata": {},
   "outputs": [],
   "source": [
    "df_final = df_final[df_final['product_id'].isin(df_predecir['product_id'])] #Filtrar solo los productos a predecir"
   ]
  },
  {
   "cell_type": "markdown",
   "id": "3b78673c",
   "metadata": {},
   "source": [
    "## FE"
   ]
  },
  {
   "cell_type": "markdown",
   "id": "a6c480ae",
   "metadata": {},
   "source": [
    "### Lags"
   ]
  },
  {
   "cell_type": "code",
   "execution_count": 26,
   "id": "4a51bb23",
   "metadata": {
    "scrolled": true
   },
   "outputs": [],
   "source": [
    "# Create lag variables for 'cust_request_qty', 'cust_request_tn', and 'tn'\n",
    "n_lags = 36\n",
    "for lag in range(1, n_lags + 1):\n",
    "    #df_final[f'cust_request_qty_lag_{lag}'] = df_final['cust_request_qty'].shift(lag)\n",
    "    \n",
    "    #df_final[f'cust_request_tn_lag_{lag}'] = df_final['cust_request_tn'].shift(lag)\n",
    "    \n",
    "    #df_final[f'stock_final_lag_{lag}'] = df_final['stock_final'].shift(lag)\n",
    "   \n",
    "    df_final[f'tn_lag_{lag}'] = df_final['tn'].shift(lag)"
   ]
  },
  {
   "cell_type": "code",
   "execution_count": 27,
   "id": "ace50b01-3709-4959-826a-4c6a5457510c",
   "metadata": {
    "scrolled": true
   },
   "outputs": [],
   "source": [
    "#DELTA DE LAGS 2 ANTERIORES\n",
    "\n",
    "for lag in range(1, n_lags-1):\n",
    "    #df_final[f'delta_cust_request_tn_{lag}_{lag+2}'] = (\n",
    "    #    df_final[f'cust_request_tn_lag_{lag+2}'] - df_final[f'cust_request_tn_lag_{lag}']\n",
    "    #)\n",
    "    #df_final[f'delta_stock_final_{lag}_{lag+2}'] = (\n",
    "    #    df_final[f'stock_final_lag_{lag+2}'] - df_final[f'stock_final_lag_{lag}']\n",
    "    #)\n",
    "    df_final[f'delta_tn_{lag}_{lag+2}'] = (\n",
    "        df_final[f'tn_lag_{lag+2}'] - df_final[f'tn_lag_{lag}']\n",
    "    )"
   ]
  },
  {
   "cell_type": "code",
   "execution_count": 28,
   "id": "3a0344e6-f9fa-44e8-afbb-078714138dd3",
   "metadata": {
    "scrolled": true
   },
   "outputs": [],
   "source": [
    "#DELTA DE LAGS 1 ANTERIOR\n",
    "\n",
    "for lag in range(1, n_lags):\n",
    "    #df_final[f'delta_cust_request_tn_{lag}_{lag+1}'] = (\n",
    "    #    df_final[f'cust_request_tn_lag_{lag+1}'] - df_final[f'cust_request_tn_lag_{lag}']\n",
    "    #)\n",
    "    #df_final[f'delta_stock_final_{lag}_{lag+1}'] = (\n",
    "    #    df_final[f'stock_final_lag_{lag+1}'] - df_final[f'stock_final_lag_{lag}']\n",
    "    #)\n",
    "    df_final[f'delta_tn_{lag}_{lag+1}'] = (\n",
    "        df_final[f'tn_lag_{lag+1}'] - df_final[f'tn_lag_{lag}']\n",
    "    )"
   ]
  },
  {
   "cell_type": "code",
   "execution_count": 29,
   "id": "ac8c6059-98cd-41a5-a091-00a9b002d748",
   "metadata": {
    "scrolled": true
   },
   "outputs": [],
   "source": [
    "#Mes actual / (lag 2 + lag 3) \n",
    "\n",
    "# Calcular el ratio del valor actual con respecto a la suma de los dos lags anteriores\n",
    "for lag in range(3, n_lags + 1):\n",
    "    \"\"\"df_final[f'ratio_cust_request_tn_{lag}'] = (\n",
    "        df_final[f'cust_request_tn_lag_{lag}'] / (\n",
    "            df_final[f'cust_request_tn_lag_{lag-1}'] + df_final[f'cust_request_tn_lag_{lag-2}']\n",
    "        )\n",
    "    )\n",
    "    df_final[f'ratio_stock_final_{lag}'] = (\n",
    "        df_final[f'stock_final_lag_{lag}'] / (\n",
    "            df_final[f'stock_final_lag_{lag-1}'] + df_final[f'stock_final_lag_{lag-2}']\n",
    "        )\n",
    "    )\"\"\"\n",
    "    df_final[f'ratio_tn_{lag}'] = (\n",
    "        df_final[f'tn_lag_{lag}'] / (\n",
    "            df_final[f'tn_lag_{lag-1}'] + df_final[f'tn_lag_{lag-2}']\n",
    "        )\n",
    "    )"
   ]
  },
  {
   "cell_type": "code",
   "execution_count": 30,
   "id": "58601c78-bf4b-4487-b213-5232aee182a3",
   "metadata": {
    "scrolled": true
   },
   "outputs": [],
   "source": [
    "#df_final.reset_index(inplace=True)"
   ]
  },
  {
   "cell_type": "markdown",
   "id": "7a8d80ab",
   "metadata": {},
   "source": [
    "### Medias Móviles"
   ]
  },
  {
   "cell_type": "code",
   "execution_count": 31,
   "id": "2f741da5-1bfb-4141-8cf0-f934b4f6de68",
   "metadata": {},
   "outputs": [],
   "source": [
    "#MEDIAS MOVILES\n",
    "rolling_windows = [3, 6, 9, 12, 24, 36]\n",
    "\n",
    "# Agrupamos por 'product_id' y calculamos las medias móviles para 'tn'\n",
    "for window in rolling_windows:\n",
    "    df_final[f'rolling_mean_tn_{window}'] = df_final.groupby('product_id')['tn'].transform(lambda x: x.rolling(window, min_periods=1).mean())"
   ]
  },
  {
   "cell_type": "markdown",
   "id": "38bbacef",
   "metadata": {},
   "source": [
    "### FE"
   ]
  },
  {
   "cell_type": "code",
   "execution_count": 32,
   "id": "0bcaaf0c",
   "metadata": {},
   "outputs": [],
   "source": [
    "# Datetime features\n",
    "df_final['year'] = df_final['periodo'].dt.year\n",
    "df_final['month'] = df_final['periodo'].dt.month\n",
    "df_final['quarter'] = df_final.periodo.dt.quarter"
   ]
  },
  {
   "cell_type": "code",
   "execution_count": 33,
   "id": "077969b2-c2e3-45f4-b0f9-e5938833f13f",
   "metadata": {
    "scrolled": true
   },
   "outputs": [],
   "source": [
    "#Variables Dummies si es el max o el min de cierta cantidad de meses\n",
    "months = [3, 6, 9, 12]\n",
    "\n",
    "# Agrupamos por 'product_id' y calculamos las medias móviles para 'tn'\n",
    "for i in months:\n",
    "    df_final[f'max_{i}m'] = df_final.groupby('product_id')['tn'].transform(lambda x: x.rolling(i, min_periods=1).max())\n",
    "    df_final[f'min_{i}m'] = df_final.groupby('product_id')['tn'].transform(lambda x: x.rolling(i, min_periods=1).min())\n",
    "    # Crear las dummies\n",
    "    df_final[f'dummy_max_{i}m'] = np.where(df_final['tn'] == df_final[f'max_{i}m'], 1, 0)\n",
    "    df_final[f'dummy_min_{i}m'] = np.where(df_final['tn'] == df_final[f'min_{i}m'], 1, 0)"
   ]
  },
  {
   "cell_type": "code",
   "execution_count": 34,
   "id": "216de0ec",
   "metadata": {},
   "outputs": [],
   "source": [
    "#Calcular ventas por trimestre\n",
    "df_final['tn_trimestre'] = df_final.groupby(['trimestre', 'product_id'])['tn'].transform('sum')\n",
    "#Calcular ventas por trimestre por cliente\n",
    "df_final['tn_trimestre_customer'] = df_final.groupby(['trimestre','customer_id', 'product_id'])['tn'].transform('sum')"
   ]
  },
  {
   "cell_type": "code",
   "execution_count": 35,
   "id": "2d8a0126-8b20-4739-b2ae-b62a335f8d62",
   "metadata": {},
   "outputs": [],
   "source": [
    "df_final['tn_product_id'] = df_final.groupby(['periodo', 'product_id'])['tn'].transform('sum')"
   ]
  },
  {
   "cell_type": "markdown",
   "id": "174f8e56",
   "metadata": {},
   "source": [
    "### FE variables externas"
   ]
  },
  {
   "cell_type": "code",
   "execution_count": 36,
   "id": "5796bb5d",
   "metadata": {},
   "outputs": [],
   "source": [
    "# Leer el archivo exportado\n",
    "df_exported = pd.read_excel(DATOS_DIR+'23variables_externas.xlsx')\n",
    "\n",
    "# Asegúrate de que las columnas de fecha estén en el formato datetime\n",
    "df_exported['fecha'] = pd.to_datetime(df_exported['fecha'])"
   ]
  },
  {
   "cell_type": "code",
   "execution_count": 37,
   "id": "efe7b392-3bb1-4993-ae65-8031f24ab3fb",
   "metadata": {},
   "outputs": [],
   "source": [
    "df_exported = pl.DataFrame(df_exported)"
   ]
  },
  {
   "cell_type": "code",
   "execution_count": 38,
   "id": "b45cb2d3-16f1-428d-99ab-c506c874a746",
   "metadata": {},
   "outputs": [
    {
     "data": {
      "text/plain": [
       "1604"
      ]
     },
     "execution_count": 38,
     "metadata": {},
     "output_type": "execute_result"
    }
   ],
   "source": [
    "import gc\n",
    "gc.collect()"
   ]
  },
  {
   "cell_type": "code",
   "execution_count": 39,
   "id": "f9cfff9e-3f8f-4fad-9f6c-34581e710f92",
   "metadata": {},
   "outputs": [],
   "source": [
    "#df_final = df_final.reset_index()"
   ]
  },
  {
   "cell_type": "code",
   "execution_count": 40,
   "id": "6dfc1caf-43da-4555-b82b-f67843c11c21",
   "metadata": {},
   "outputs": [],
   "source": [
    "df_final_copy = pl.DataFrame(df_final)"
   ]
  },
  {
   "cell_type": "code",
   "execution_count": 41,
   "id": "33955c81-8081-48fb-9a63-39299ec1032d",
   "metadata": {},
   "outputs": [],
   "source": [
    "df_final_copy = df_final_copy.join(df_exported, \n",
    "                 left_on=['fecha'],\n",
    "                 right_on=['fecha'],\n",
    "                 how='left'\n",
    "                )"
   ]
  },
  {
   "cell_type": "code",
   "execution_count": 42,
   "id": "b57fbb01-eeed-4567-9434-fb3ce50a72a9",
   "metadata": {},
   "outputs": [],
   "source": [
    "df_final = df_final_copy"
   ]
  },
  {
   "cell_type": "code",
   "execution_count": 43,
   "id": "ba335349-b121-4b0e-91b2-24965083ab36",
   "metadata": {},
   "outputs": [],
   "source": [
    "#df_final['plan_precios_cuidados'] =df_final['plan_precios_cuidados'].astype(bool)\n",
    "#df_final['dias_fin_trimestre'] = df_final['dias_fin_trimestre'].dt.days.astype(int) #TARDA!\n",
    "df_final = df_final.to_pandas()\n",
    "df_final = df_final.drop(columns=['fecha'])"
   ]
  },
  {
   "cell_type": "code",
   "execution_count": 44,
   "id": "0c75dca6-f165-42dc-8d2a-b2d6484d7cc9",
   "metadata": {
    "scrolled": true
   },
   "outputs": [],
   "source": [
    "# #Cambiar las variables categoricas y hacer one-hot encoding\n",
    "\n",
    "df_final[\"cat1\"] = df_final[\"cat1\"].astype(\"category\")\n",
    "df_final[\"cat2\"] = df_final[\"cat2\"].astype(\"category\")\n",
    "df_final[\"cat3\"] = df_final[\"cat3\"].astype(\"category\")\n",
    "df_final[\"brand\"] = df_final[\"brand\"].astype(\"category\")\n",
    "df_final[\"descripcion\"] = df_final[\"descripcion\"].astype(\"category\")\n",
    "\n",
    "# # Encode categorical variables explicitly. One-hot encoding\n",
    "#cat1_dummies = pd.get_dummies(df_final['cat1'], prefix='cat1', drop_first=True)\n",
    "#cat2_dummies = pd.get_dummies(df_final['cat2'], prefix='cat2', drop_first=True)\n",
    "#cat3_dummies = pd.get_dummies(df_final['cat3'], prefix='cat3', drop_first=True)\n",
    "#brand_dummies = pd.get_dummies(df_final['brand'], prefix='brand', drop_first=True)\n",
    "#descripcion_dummies = pd.get_dummies(df_final['descripcion'], prefix='descripcion', drop_first=True)\n",
    "\n",
    "# # Concatenate the dummy variables to the DataFrame and drop the original categorical columns\n",
    "#df_final= pd.concat([df_final, cat1_dummies, cat2_dummies, cat3_dummies, brand_dummies, descripcion_dummies], axis=1)\n",
    "#df_final.drop(columns=['cat1', 'cat2', 'cat3', 'brand'], inplace=True)\n",
    "\n",
    "df_final.set_index('periodo', inplace=True)\n",
    "df_final.index = df_final.index.to_period('M')\n",
    "df_final.sort_index(inplace=True)\n"
   ]
  },
  {
   "cell_type": "code",
   "execution_count": 45,
   "id": "997fd343",
   "metadata": {},
   "outputs": [],
   "source": [
    "import pickle\n",
    "\n",
    "# Assuming scalers_dict is the dictionary containing the scalers\n",
    "# Convert the scalers_dict to binary file\n",
    "#with open(DATOS_DIR+'/scalers.pkl', 'wb') as file:#\n",
    "#     pickle.dump(scalers, file)\n",
    "\n",
    "df_final.to_parquet(DATOS_DIR+'/FE_07_dataset.parquet', engine='pyarrow')  "
   ]
  }
 ],
 "metadata": {
  "kernelspec": {
   "display_name": "Python 3 (ipykernel)",
   "language": "python",
   "name": "python3"
  },
  "language_info": {
   "codemirror_mode": {
    "name": "ipython",
    "version": 3
   },
   "file_extension": ".py",
   "mimetype": "text/x-python",
   "name": "python",
   "nbconvert_exporter": "python",
   "pygments_lexer": "ipython3",
   "version": "3.10.11"
  }
 },
 "nbformat": 4,
 "nbformat_minor": 5
}
