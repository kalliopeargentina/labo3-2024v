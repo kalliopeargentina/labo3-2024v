{
 "cells": [
  {
   "cell_type": "markdown",
   "id": "77d162f9",
   "metadata": {},
   "source": [
    "### Imports"
   ]
  },
  {
   "cell_type": "code",
   "execution_count": null,
   "id": "3e936de2",
   "metadata": {},
   "outputs": [],
   "source": [
    "import pandas as pd\n",
    "import polars as pl\n",
    "import numpy as np\n",
    "#import matplotlib.pyplot as plt\n",
    "#from feature_baggingV2 import FeatureBaggingWithHyperparamTuning\n",
    "import statsmodels.api as sm\n",
    "from sklearn.model_selection import train_test_split\n",
    "#import lightgbm as lgb\n",
    "import datetime\n",
    "from sklearn.preprocessing import RobustScaler\n",
    "#from keras.models import Sequential\n",
    "#from keras.layers import LSTM, Dense\n",
    "import labolibrary as labo\n",
    "\n",
    "import os, sys, gc, time, warnings, pickle, psutil, random\n",
    "\n",
    "import warnings\n",
    "warnings.filterwarnings(\"ignore\")"
   ]
  },
  {
   "cell_type": "markdown",
   "id": "ab055280",
   "metadata": {},
   "source": [
    "### Función para escalar/desescalar y métrica"
   ]
  },
  {
   "cell_type": "code",
   "execution_count": null,
   "id": "2b5cf70e",
   "metadata": {},
   "outputs": [],
   "source": [
    "# Function to center, scale, and return a series\n",
    "def scale_group(group):\n",
    "    scaler = RobustScaler(with_centering=False)\n",
    "    scaled_values = scaler.fit_transform(group.values.reshape(-1, 1)).flatten()\n",
    "    scalers[group.name] = scaler  # Store the scaler for this group\n",
    "    return pd.Series(scaled_values, index=group.index, name=group.name)\n",
    "\n",
    "# Function to inverse transform (de-scale) and decenter, and return a series\n",
    "def inverse_scale_group(group):\n",
    "    group_name = group.name\n",
    "    scaler = scalers[group_name]\n",
    "    inversed_centered_values = scaler.inverse_transform(group.values.reshape(-1, 1)).flatten()\n",
    "    original_values = inversed_centered_values\n",
    "    return pd.Series(original_values, index=group.index, name=group_name)"
   ]
  },
  {
   "cell_type": "markdown",
   "id": "9d682256",
   "metadata": {},
   "source": [
    "### Archivos"
   ]
  },
  {
   "cell_type": "code",
   "execution_count": null,
   "id": "d1bb9988",
   "metadata": {},
   "outputs": [],
   "source": [
    "#DATOS_DIR = '~/buckets/b1/datasets/'\n",
    "DATOS_DIR = '../data/'\n",
    "df_sell_in = pd.read_csv(DATOS_DIR+'sell-in.txt', sep='\\t')\n",
    "df_predecir = pd.read_csv(DATOS_DIR+'productos_a_predecir.txt', sep='\\t')\n",
    "df_tb_stocks = pd.read_csv(DATOS_DIR+'tb_stocks.txt', sep='\\t')\n",
    "df_tb_productos = pd.read_csv(DATOS_DIR+'tb_productos_descripcion.txt', sep='\\t')"
   ]
  },
  {
   "cell_type": "markdown",
   "id": "a81dfad9",
   "metadata": {},
   "source": [
    "### Preprocesamiento"
   ]
  },
  {
   "cell_type": "code",
   "execution_count": null,
   "id": "5eeced7e-f3b8-4b67-8e9b-4d17e0f98c24",
   "metadata": {
    "scrolled": true
   },
   "outputs": [],
   "source": [
    "#AGREGAR VENTAS EN CERO\n",
    "\n",
    "df_group = pl.DataFrame(df_sell_in)\n",
    "df_group = df_group.group_by(['periodo','product_id','customer_id']).agg(pl.sum('tn').alias('tn_sum'))\n",
    "\n",
    "# Fechas de inicio y fin de cada producto\n",
    "df_fechas = df_group.group_by('product_id').agg([\n",
    "                                            pl.min('periodo').alias('periodo_min'),\n",
    "                                            pl.max('periodo').alias('periodo_max')])\n",
    "\n",
    "\n",
    "a = df_group.group_by(['product_id','customer_id']).agg(pl.count('periodo').alias('periodo_count'))\n",
    "a = a.filter(pl.col('periodo_count') >= 6)\n",
    "df_group = df_group.join(a, on=['product_id', 'customer_id'], how='inner')\n",
    "\n"
   ]
  },
  {
   "cell_type": "code",
   "execution_count": null,
   "id": "9b2a6f39",
   "metadata": {},
   "outputs": [],
   "source": [
    "\n",
    "\n",
    "\n",
    "df_group.group_by(['product_id','customer_id']).agg(pl.count('periodo').alias('periodo_count')).sort('periodo_count', descending=True)"
   ]
  },
  {
   "cell_type": "code",
   "execution_count": null,
   "id": "1f9a7b46-ead6-475d-bd70-bab95acc0167",
   "metadata": {},
   "outputs": [],
   "source": [
    "# Obtener valores únicos de customer_id, product_id y periodo\n",
    "unique_customer_ids = df_sell_in['customer_id'].unique()\n",
    "unique_product_ids = df_sell_in['product_id'].unique()\n",
    "unique_periodos = df_sell_in['periodo'].unique()\n",
    "\n",
    "df_customers = pl.DataFrame({'customer_id': unique_customer_ids})\n",
    "df_products = pl.DataFrame({'product_id': unique_product_ids})\n",
    "df_periods = pl.DataFrame({'periodo': unique_periodos})\n",
    "\n",
    "# Creo las combinaciones con cross join\n",
    "df_all_combinations = df_customers.join(df_products, how = 'cross').join(df_periods, how= 'cross')"
   ]
  },
  {
   "cell_type": "code",
   "execution_count": null,
   "id": "8adf0986-c368-4f3c-a28d-ac3b976d9e95",
   "metadata": {},
   "outputs": [],
   "source": [
    "#Lo uno con los inicios y fin de cada producto\n",
    "df_all_combinations_2 = df_all_combinations.join(df_fechas, on = 'product_id', how='left')\n",
    "df_all_combinations_2\n"
   ]
  },
  {
   "cell_type": "code",
   "execution_count": null,
   "id": "32ac8522-92f2-44b8-9057-8a79aa3177b2",
   "metadata": {},
   "outputs": [],
   "source": [
    "#filtro los que no estan dentro del rango de inicio y fin\n",
    "filtered_df = df_all_combinations_2.filter((df_all_combinations_2['periodo'] >= df_all_combinations_2['periodo_min']) & (df_all_combinations_2['periodo'] <= df_all_combinations_2['periodo_max']))\n",
    "filtered_df"
   ]
  },
  {
   "cell_type": "code",
   "execution_count": null,
   "id": "6d31781e-0474-473a-bc56-0a2f227b021a",
   "metadata": {},
   "outputs": [],
   "source": [
    "df_sell = pl.DataFrame(df_sell_in)\n"
   ]
  },
  {
   "cell_type": "code",
   "execution_count": null,
   "id": "29bed7ca-9039-4af4-9f09-b47a8c42a2f8",
   "metadata": {},
   "outputs": [],
   "source": [
    "# Calcular si cada combinación de product_id y customer_id ha comprado\n",
    "df_grouped_2 = df_sell.group_by([\"product_id\", \"customer_id\"]).agg(pl.count(\"periodo\").alias(\"count\"))"
   ]
  },
  {
   "cell_type": "code",
   "execution_count": null,
   "id": "8fa0cc4e-897f-4783-9316-f2932bcf759c",
   "metadata": {},
   "outputs": [],
   "source": [
    "#Join final con sell in\n",
    "df_complete = filtered_df.join(df_sell, \n",
    "                 left_on=['customer_id', 'product_id','periodo'],\n",
    "                 right_on=['customer_id', 'product_id','periodo'],\n",
    "                 how='left'\n",
    "                )\n",
    "df_complete = df_complete.drop(\"plan_precios_cuidados\") #Lo elimino porque sino con fill null se coloca en cero\n",
    "df_complete = df_complete.fill_null(0)\n",
    "\n"
   ]
  },
  {
   "cell_type": "code",
   "execution_count": null,
   "id": "d458a578-906f-49ca-893f-0b75570d062e",
   "metadata": {},
   "outputs": [],
   "source": [
    "df_complete = df_complete.join(df_grouped_2,left_on=['customer_id', 'product_id'],\n",
    "                 right_on=['customer_id', 'product_id'],                 how='left'\n",
    "                )"
   ]
  },
  {
   "cell_type": "code",
   "execution_count": null,
   "id": "600d403e",
   "metadata": {},
   "outputs": [],
   "source": [
    "df_complete.filter(pl.col(\"count\") >= 6 ) "
   ]
  },
  {
   "cell_type": "code",
   "execution_count": null,
   "id": "4ec4582c-b703-493f-a37e-b934e3570bd0",
   "metadata": {},
   "outputs": [],
   "source": [
    "df_complete = df_complete.filter(pl.col(\"count\") >= 2 ) \n",
    "df_complete "
   ]
  },
  {
   "cell_type": "code",
   "execution_count": null,
   "id": "fa9e1b89",
   "metadata": {},
   "outputs": [],
   "source": [
    "\n",
    "\n",
    "# Create a copy of the original dataframe to perform operations\n",
    "df_group_copy = df_complete.clone()\n",
    "\n",
    "# Ensure 'periodo' is treated as a string for filtering\n",
    "df_group_copy = df_group_copy.with_columns([\n",
    "    pl.col('periodo').cast(pl.Utf8)\n",
    "])\n",
    "\n",
    "# Define the date range\n",
    "start_period = \"201906\"\n",
    "end_period = \"201911\"\n",
    "\n",
    "# Filter to get only rows within the last six months\n",
    "df_last_six_months = df_group_copy.filter((pl.col('periodo') >= start_period) & (pl.col('periodo') <= end_period))\n",
    "\n",
    "# Group by product_id and customer_id and calculate the sum of tn\n",
    "df_summed_tn = df_last_six_months.group_by(['product_id', 'customer_id']).agg(pl.sum('tn').alias('tn_sum'))\n",
    "\n",
    "# Filter out combinations where the sum of tn is zero\n",
    "valid_combinations = df_summed_tn.filter(pl.col('tn_sum') > 0).select(['product_id', 'customer_id'])\n",
    "\n",
    "# Perform an inner join to filter the original dataframe\n",
    "df_filtered = df_complete.join(valid_combinations, on=['product_id', 'customer_id'], how='inner')\n",
    "\n",
    "# Display the result\n",
    "df_complete =df_filtered\n"
   ]
  },
  {
   "cell_type": "markdown",
   "id": "0a4a61d2-6001-47b2-a2aa-fc47511b160f",
   "metadata": {},
   "source": [
    "Testeo de agregado de ceros"
   ]
  },
  {
   "cell_type": "code",
   "execution_count": null,
   "id": "a071b49a-fe03-4694-a2e4-4a39d29d1e78",
   "metadata": {},
   "outputs": [],
   "source": [
    "#Original\n",
    "df_sell.filter((pl.col(\"product_id\") == 21276) & (pl.col(\"customer_id\")==10550))"
   ]
  },
  {
   "cell_type": "code",
   "execution_count": null,
   "id": "cbcce693-7286-4a5f-a0c0-d329a15e35b2",
   "metadata": {},
   "outputs": [],
   "source": [
    "#Modificado\n",
    "df_complete.filter((pl.col(\"product_id\") == 20001))"
   ]
  },
  {
   "cell_type": "code",
   "execution_count": null,
   "id": "9f8901d9-5223-4d1b-9512-f342cfb991a1",
   "metadata": {},
   "outputs": [],
   "source": [
    "df_complete = df_complete.to_pandas()"
   ]
  },
  {
   "cell_type": "code",
   "execution_count": null,
   "id": "a4704a16-bd8a-4f8b-bb34-81287071ec5f",
   "metadata": {},
   "outputs": [],
   "source": [
    "#Defino los formatos\n",
    "df_tb_stocks['periodo'] = pd.to_datetime(df_tb_stocks['periodo'], format='%Y%m')\n",
    "df_tb_stocks['periodo'] = df_tb_stocks['periodo'] - pd.DateOffset(months=1) #mes diferente en stock\n",
    "df_tb_stocks['product_id'] = df_tb_stocks['product_id'].astype(int)\n",
    "df_tb_stocks['stock_final'] = df_tb_stocks['stock_final'].astype(float)\n",
    "df_tb_productos['product_id'] = df_tb_productos['product_id'].astype(int)\n",
    "df_tb_productos['sku_size'] = df_tb_productos['sku_size'].astype(int)\n",
    "df_complete['periodo'] = pd.to_datetime(df_complete['periodo'], format='%Y%m')\n",
    "df_complete['product_id'] = df_complete['product_id'].astype(int)\n",
    "df_complete['customer_id'] = df_complete['customer_id'].astype(int)\n",
    "df_complete['cust_request_qty'] = df_complete['cust_request_qty'].astype(int)\n",
    "df_complete['cust_request_tn'] = df_complete['cust_request_tn'].astype(float)\n",
    "df_complete['tn'] = df_complete['tn'].astype(float)\n",
    "#df_complete['plan_precios_cuidados'] = df_complete['plan_precios_cuidados'].astype(bool)"
   ]
  },
  {
   "cell_type": "code",
   "execution_count": null,
   "id": "82b067de-cae1-446c-8a61-b017e95fa01e",
   "metadata": {},
   "outputs": [],
   "source": [
    "df_sell_in = df_complete"
   ]
  },
  {
   "cell_type": "markdown",
   "id": "e8a06313",
   "metadata": {},
   "source": [
    "### Consolidar Datos"
   ]
  },
  {
   "cell_type": "markdown",
   "id": "a71ca9d7",
   "metadata": {},
   "source": [
    "#### Outliers"
   ]
  },
  {
   "cell_type": "code",
   "execution_count": null,
   "id": "97788424",
   "metadata": {},
   "outputs": [],
   "source": [
    "# Define the function to calculate Z-score and cap the outliers\n",
    "def cap_outliers(df, column_name):\n",
    "    mean = df[column_name].mean()\n",
    "    std = df[column_name].std() \n",
    "    threshold = 2\n",
    "    z_scores = (df[column_name] - mean) / std\n",
    "    df[f'capped_{column_name}'] = np.where(z_scores.abs() > threshold,\n",
    "                                           mean + threshold * std * np.sign(z_scores),\n",
    "                                           df[column_name])\n",
    "    return df\n",
    "\n",
    "def handle_outliers(df, column_name):\n",
    "    rolling_median = df[column_name].rolling(window=3, center=True).median()\n",
    "    diff = np.abs(df[column_name] - rolling_median)\n",
    "    threshold = 3 * diff.median()\n",
    "    df[f'cleaned_{column_name}'] = np.where(diff > threshold, rolling_median, df[column_name])\n",
    "    return df\n",
    "\n",
    "# Group by product_id and customer_id and apply the function while preserving all columns\n",
    "df_sell_in = df_sell_in.groupby(['product_id', 'customer_id']).apply(lambda df: cap_outliers(df, 'tn')).reset_index(drop=True)\n",
    "\n"
   ]
  },
  {
   "cell_type": "code",
   "execution_count": null,
   "id": "add006e0",
   "metadata": {},
   "outputs": [],
   "source": [
    "df_sell_in[(df_sell_in['product_id'] == 20001) & (df_sell_in['customer_id'] == 10052) & (df_sell_in['periodo'] >= '2019-06-01')][['periodo', 'tn','capped_tn']]"
   ]
  },
  {
   "cell_type": "code",
   "execution_count": null,
   "id": "92a96a9d",
   "metadata": {},
   "outputs": [],
   "source": [
    "df_sell_in['tn'] =df_sell_in['capped_tn']"
   ]
  },
  {
   "cell_type": "markdown",
   "id": "464b5dba-2f80-4cb4-9490-d6f09cdf54ff",
   "metadata": {},
   "source": [
    "#### Clase a evaluar"
   ]
  },
  {
   "cell_type": "code",
   "execution_count": null,
   "id": "1f82214e",
   "metadata": {},
   "outputs": [],
   "source": [
    "#### Agrupar y escalar\n",
    "scalers = {}\n",
    "\n",
    "df_sell_in['weight'] = df_sell_in['tn'] #Variable Weight\n",
    "\n",
    "df_sell_in['tn'] = df_sell_in.groupby(['product_id','customer_id'])['tn'].transform(scale_group)\n",
    "\n",
    "#df_sell_in[(df_sell_in['product_id'] == 21276) & (df_sell_in['customer_id'] == 10029)][['periodo', 'tn', 'weight']]\n",
    "with open(DATOS_DIR+'/scalers.pkl', 'wb') as file:#\n",
    "     pickle.dump(scalers, file)"
   ]
  },
  {
   "cell_type": "code",
   "execution_count": null,
   "id": "9bb2d205-27e0-483b-88db-a5225c2ce6ab",
   "metadata": {},
   "outputs": [],
   "source": [
    "df_sell_in['tn_2'] = df_sell_in.groupby(['product_id', 'customer_id'])['tn'].shift(-2) #METRICA A EVALUAR!\n",
    "df_sell_in['diff_tn_tn2'] =  df_sell_in['tn_2'] - df_sell_in['tn'] #NUEVA CLASE (NO LA UTILIZAMOS)"
   ]
  },
  {
   "cell_type": "code",
   "execution_count": null,
   "id": "74b624eb",
   "metadata": {},
   "outputs": [],
   "source": [
    "df_sell_in['cust_request_qty'] = df_sell_in.groupby(['product_id','customer_id'])['cust_request_qty'].transform(scale_group) \n",
    "df_sell_in['cust_request_tn'] = df_sell_in.groupby(['product_id','customer_id'])['cust_request_tn'].transform(scale_group) \n",
    "df_sell_in['cust_request_qty'] = df_sell_in.groupby(['product_id','customer_id'])['cust_request_qty'].transform(scale_group)  \n",
    "#df_tb_stocks['stock_final'] = df_tb_stocks.groupby(['product_id','customer_id'])['stock_final'].transform(scale_group) "
   ]
  },
  {
   "cell_type": "code",
   "execution_count": null,
   "id": "a45fd21c",
   "metadata": {},
   "outputs": [],
   "source": [
    "df_tb_stocks['stock_final'] = df_tb_stocks.groupby(['product_id'])['stock_final'].transform(scale_group)"
   ]
  },
  {
   "cell_type": "code",
   "execution_count": null,
   "id": "8f111859",
   "metadata": {},
   "outputs": [],
   "source": [
    "# Join tb_productos to sell_in on product_id\n",
    "df_sell_in_merged = pd.merge(df_sell_in, df_tb_productos, on='product_id', how='left')\n",
    "# Join tb_stocks to sell_in_merged on both product_id and periodo\n",
    "df_final = pd.merge(df_sell_in_merged, df_tb_stocks, on=['product_id', 'periodo'], how='left')\n",
    "\n",
    "#Convertir 'periodo' a formato de fecha y Calcular el trimestre desde 'periodo'\n",
    "df_final['fecha'] = pd.to_datetime(df_final['periodo'], format='%Y%m')\n",
    "df_final[\"trimestre\"] = df_final.periodo.dt.quarter\n",
    "\n",
    "#Establecer 'fecha' como índice y convertir a período mensual\n",
    "#################df_final.set_index('fecha', inplace=True)\n",
    "##################df_final.index = df_final.index.to_period('M')"
   ]
  },
  {
   "cell_type": "code",
   "execution_count": null,
   "id": "d63c5f86",
   "metadata": {},
   "outputs": [],
   "source": [
    "df_final = df_final[df_final['product_id'].isin(df_predecir['product_id'])] #Filtrar solo los productos a predecir"
   ]
  },
  {
   "cell_type": "markdown",
   "id": "3b78673c",
   "metadata": {},
   "source": [
    "## FE"
   ]
  },
  {
   "cell_type": "markdown",
   "id": "a6c480ae",
   "metadata": {},
   "source": [
    "### Lags"
   ]
  },
  {
   "cell_type": "code",
   "execution_count": null,
   "id": "4a51bb23",
   "metadata": {
    "scrolled": true
   },
   "outputs": [],
   "source": [
    "# Create lag variables for 'cust_request_qty', 'cust_request_tn', and 'tn'\n",
    "n_lags = 36\n",
    "for lag in range(1, n_lags + 1):\n",
    "    #df_final[f'cust_request_qty_lag_{lag}'] = df_final['cust_request_qty'].shift(lag)\n",
    "    \n",
    "    #df_final[f'cust_request_tn_lag_{lag}'] = df_final['cust_request_tn'].shift(lag)\n",
    "    \n",
    "    #df_final[f'stock_final_lag_{lag}'] = df_final['stock_final'].shift(lag)\n",
    "   \n",
    "    df_final[f'tn_lag_{lag}'] = df_final['tn'].shift(lag)"
   ]
  },
  {
   "cell_type": "code",
   "execution_count": null,
   "id": "ace50b01-3709-4959-826a-4c6a5457510c",
   "metadata": {
    "scrolled": true
   },
   "outputs": [],
   "source": [
    "#DELTA DE LAGS 2 ANTERIORES\n",
    "\n",
    "for lag in range(1, n_lags-1):\n",
    "    #df_final[f'delta_cust_request_tn_{lag}_{lag+2}'] = (\n",
    "    #    df_final[f'cust_request_tn_lag_{lag+2}'] - df_final[f'cust_request_tn_lag_{lag}']\n",
    "    #)\n",
    "    #df_final[f'delta_stock_final_{lag}_{lag+2}'] = (\n",
    "    #    df_final[f'stock_final_lag_{lag+2}'] - df_final[f'stock_final_lag_{lag}']\n",
    "    #)\n",
    "    df_final[f'delta_tn_{lag}_{lag+2}'] = (\n",
    "        df_final[f'tn_lag_{lag+2}'] - df_final[f'tn_lag_{lag}']\n",
    "    )"
   ]
  },
  {
   "cell_type": "code",
   "execution_count": null,
   "id": "3a0344e6-f9fa-44e8-afbb-078714138dd3",
   "metadata": {
    "scrolled": true
   },
   "outputs": [],
   "source": [
    "#DELTA DE LAGS 1 ANTERIOR\n",
    "\n",
    "for lag in range(1, n_lags):\n",
    "    #df_final[f'delta_cust_request_tn_{lag}_{lag+1}'] = (\n",
    "    #    df_final[f'cust_request_tn_lag_{lag+1}'] - df_final[f'cust_request_tn_lag_{lag}']\n",
    "    #)\n",
    "    #df_final[f'delta_stock_final_{lag}_{lag+1}'] = (\n",
    "    #    df_final[f'stock_final_lag_{lag+1}'] - df_final[f'stock_final_lag_{lag}']\n",
    "    #)\n",
    "    df_final[f'delta_tn_{lag}_{lag+1}'] = (\n",
    "        df_final[f'tn_lag_{lag+1}'] - df_final[f'tn_lag_{lag}']\n",
    "    )"
   ]
  },
  {
   "cell_type": "code",
   "execution_count": null,
   "id": "ac8c6059-98cd-41a5-a091-00a9b002d748",
   "metadata": {
    "scrolled": true
   },
   "outputs": [],
   "source": [
    "#Mes actual / (lag 2 + lag 3) \n",
    "\n",
    "# Calcular el ratio del valor actual con respecto a la suma de los dos lags anteriores\n",
    "for lag in range(3, n_lags + 1):\n",
    "    \"\"\"df_final[f'ratio_cust_request_tn_{lag}'] = (\n",
    "        df_final[f'cust_request_tn_lag_{lag}'] / (\n",
    "            df_final[f'cust_request_tn_lag_{lag-1}'] + df_final[f'cust_request_tn_lag_{lag-2}']\n",
    "        )\n",
    "    )\n",
    "    df_final[f'ratio_stock_final_{lag}'] = (\n",
    "        df_final[f'stock_final_lag_{lag}'] / (\n",
    "            df_final[f'stock_final_lag_{lag-1}'] + df_final[f'stock_final_lag_{lag-2}']\n",
    "        )\n",
    "    )\"\"\"\n",
    "    df_final[f'ratio_tn_{lag}'] = (\n",
    "        df_final[f'tn_lag_{lag}'] / (\n",
    "            df_final[f'tn_lag_{lag-1}'] + df_final[f'tn_lag_{lag-2}']\n",
    "        )\n",
    "    )"
   ]
  },
  {
   "cell_type": "code",
   "execution_count": null,
   "id": "58601c78-bf4b-4487-b213-5232aee182a3",
   "metadata": {
    "scrolled": true
   },
   "outputs": [],
   "source": [
    "#df_final.reset_index(inplace=True)"
   ]
  },
  {
   "cell_type": "markdown",
   "id": "7a8d80ab",
   "metadata": {},
   "source": [
    "### Medias Móviles"
   ]
  },
  {
   "cell_type": "code",
   "execution_count": null,
   "id": "2f741da5-1bfb-4141-8cf0-f934b4f6de68",
   "metadata": {},
   "outputs": [],
   "source": [
    "#MEDIAS MOVILES\n",
    "rolling_windows = [3, 6, 9, 12, 24, 36]\n",
    "\n",
    "# Agrupamos por 'product_id' y calculamos las medias móviles para 'tn'\n",
    "for window in rolling_windows:\n",
    "    df_final[f'rolling_mean_tn_{window}'] = df_final.groupby('product_id')['tn'].transform(lambda x: x.rolling(window, min_periods=1).mean())"
   ]
  },
  {
   "cell_type": "markdown",
   "id": "38bbacef",
   "metadata": {},
   "source": [
    "### FE"
   ]
  },
  {
   "cell_type": "code",
   "execution_count": null,
   "id": "0bcaaf0c",
   "metadata": {},
   "outputs": [],
   "source": [
    "# Datetime features\n",
    "df_final['year'] = df_final['periodo'].dt.year\n",
    "df_final['month'] = df_final['periodo'].dt.month\n",
    "df_final['quarter'] = df_final.periodo.dt.quarter"
   ]
  },
  {
   "cell_type": "code",
   "execution_count": null,
   "id": "077969b2-c2e3-45f4-b0f9-e5938833f13f",
   "metadata": {
    "scrolled": true
   },
   "outputs": [],
   "source": [
    "#Variables Dummies si es el max o el min de cierta cantidad de meses\n",
    "months = [3, 6, 9, 12]\n",
    "\n",
    "# Agrupamos por 'product_id' y calculamos las medias móviles para 'tn'\n",
    "for i in months:\n",
    "    df_final[f'max_{i}m'] = df_final.groupby('product_id')['tn'].transform(lambda x: x.rolling(i, min_periods=1).max())\n",
    "    df_final[f'min_{i}m'] = df_final.groupby('product_id')['tn'].transform(lambda x: x.rolling(i, min_periods=1).min())\n",
    "    # Crear las dummies\n",
    "    df_final[f'dummy_max_{i}m'] = np.where(df_final['tn'] == df_final[f'max_{i}m'], 1, 0)\n",
    "    df_final[f'dummy_min_{i}m'] = np.where(df_final['tn'] == df_final[f'min_{i}m'], 1, 0)"
   ]
  },
  {
   "cell_type": "code",
   "execution_count": null,
   "id": "216de0ec",
   "metadata": {},
   "outputs": [],
   "source": [
    "#Calcular ventas por trimestre\n",
    "df_final['tn_trimestre'] = df_final.groupby(['trimestre', 'product_id'])['tn'].transform('sum')\n",
    "#Calcular ventas por trimestre por cliente\n",
    "df_final['tn_trimestre_customer'] = df_final.groupby(['trimestre','customer_id', 'product_id'])['tn'].transform('sum')"
   ]
  },
  {
   "cell_type": "code",
   "execution_count": null,
   "id": "2d8a0126-8b20-4739-b2ae-b62a335f8d62",
   "metadata": {},
   "outputs": [],
   "source": [
    "df_final['tn_product_id'] = df_final.groupby(['periodo', 'product_id'])['tn'].transform('sum')"
   ]
  },
  {
   "cell_type": "markdown",
   "id": "174f8e56",
   "metadata": {},
   "source": [
    "### FE variables externas"
   ]
  },
  {
   "cell_type": "code",
   "execution_count": null,
   "id": "5796bb5d",
   "metadata": {},
   "outputs": [],
   "source": [
    "# Leer el archivo exportado\n",
    "df_exported = pd.read_excel(DATOS_DIR+'23variables_externas.xlsx')\n",
    "\n",
    "# Asegúrate de que las columnas de fecha estén en el formato datetime\n",
    "df_exported['fecha'] = pd.to_datetime(df_exported['fecha'])"
   ]
  },
  {
   "cell_type": "code",
   "execution_count": null,
   "id": "efe7b392-3bb1-4993-ae65-8031f24ab3fb",
   "metadata": {},
   "outputs": [],
   "source": [
    "df_exported = pl.DataFrame(df_exported)"
   ]
  },
  {
   "cell_type": "code",
   "execution_count": null,
   "id": "b45cb2d3-16f1-428d-99ab-c506c874a746",
   "metadata": {},
   "outputs": [],
   "source": [
    "import gc\n",
    "gc.collect()"
   ]
  },
  {
   "cell_type": "code",
   "execution_count": null,
   "id": "f9cfff9e-3f8f-4fad-9f6c-34581e710f92",
   "metadata": {},
   "outputs": [],
   "source": [
    "#df_final = df_final.reset_index()"
   ]
  },
  {
   "cell_type": "code",
   "execution_count": null,
   "id": "6dfc1caf-43da-4555-b82b-f67843c11c21",
   "metadata": {},
   "outputs": [],
   "source": [
    "df_final_copy = pl.DataFrame(df_final)"
   ]
  },
  {
   "cell_type": "code",
   "execution_count": null,
   "id": "33955c81-8081-48fb-9a63-39299ec1032d",
   "metadata": {},
   "outputs": [],
   "source": [
    "df_final_copy = df_final_copy.join(df_exported, \n",
    "                 left_on=['fecha'],\n",
    "                 right_on=['fecha'],\n",
    "                 how='left'\n",
    "                )"
   ]
  },
  {
   "cell_type": "code",
   "execution_count": null,
   "id": "b57fbb01-eeed-4567-9434-fb3ce50a72a9",
   "metadata": {},
   "outputs": [],
   "source": [
    "df_final = df_final_copy"
   ]
  },
  {
   "cell_type": "code",
   "execution_count": null,
   "id": "ba335349-b121-4b0e-91b2-24965083ab36",
   "metadata": {},
   "outputs": [],
   "source": [
    "#df_final['plan_precios_cuidados'] =df_final['plan_precios_cuidados'].astype(bool)\n",
    "#df_final['dias_fin_trimestre'] = df_final['dias_fin_trimestre'].dt.days.astype(int) #TARDA!\n",
    "df_final = df_final.to_pandas()\n",
    "df_final = df_final.drop(columns=['fecha'])"
   ]
  },
  {
   "cell_type": "code",
   "execution_count": null,
   "id": "0c75dca6-f165-42dc-8d2a-b2d6484d7cc9",
   "metadata": {
    "scrolled": true
   },
   "outputs": [],
   "source": [
    "# #Cambiar las variables categoricas y hacer one-hot encoding\n",
    "\n",
    "df_final[\"cat1\"] = df_final[\"cat1\"].astype(\"category\")\n",
    "df_final[\"cat2\"] = df_final[\"cat2\"].astype(\"category\")\n",
    "df_final[\"cat3\"] = df_final[\"cat3\"].astype(\"category\")\n",
    "df_final[\"brand\"] = df_final[\"brand\"].astype(\"category\")\n",
    "df_final[\"descripcion\"] = df_final[\"descripcion\"].astype(\"category\")\n",
    "\n",
    "# # Encode categorical variables explicitly. One-hot encoding\n",
    "cat1_dummies = pd.get_dummies(df_final['cat1'], prefix='cat1', drop_first=True)\n",
    "cat2_dummies = pd.get_dummies(df_final['cat2'], prefix='cat2', drop_first=True)\n",
    "cat3_dummies = pd.get_dummies(df_final['cat3'], prefix='cat3', drop_first=True)\n",
    "brand_dummies = pd.get_dummies(df_final['brand'], prefix='brand', drop_first=True)\n",
    "#descripcion_dummies = pd.get_dummies(df_final['descripcion'], prefix='descripcion', drop_first=True)\n",
    "\n",
    "# # Concatenate the dummy variables to the DataFrame and drop the original categorical columns\n",
    "df_final= pd.concat([df_final, cat1_dummies, cat2_dummies, cat3_dummies, brand_dummies], axis=1)\n",
    "df_final.drop(columns=['cat1', 'cat2', 'cat3', 'brand'], inplace=True)\n",
    "\n",
    "df_final.set_index('periodo', inplace=True)\n",
    "df_final.index = df_final.index.to_period('M')\n",
    "df_final.sort_index(inplace=True)\n"
   ]
  },
  {
   "cell_type": "code",
   "execution_count": null,
   "id": "997fd343",
   "metadata": {},
   "outputs": [],
   "source": [
    "import pickle\n",
    "\n",
    "# Assuming scalers_dict is the dictionary containing the scalers\n",
    "# Convert the scalers_dict to binary file\n",
    "#with open(DATOS_DIR+'/scalers.pkl', 'wb') as file:#\n",
    "#     pickle.dump(scalers, file)\n",
    "\n",
    "df_final.to_parquet(DATOS_DIR+'/FE_07_dataset.parquet', engine='pyarrow')  "
   ]
  }
 ],
 "metadata": {
  "kernelspec": {
   "display_name": "Python 3 (ipykernel)",
   "language": "python",
   "name": "python3"
  },
  "language_info": {
   "codemirror_mode": {
    "name": "ipython",
    "version": 3
   },
   "file_extension": ".py",
   "mimetype": "text/x-python",
   "name": "python",
   "nbconvert_exporter": "python",
   "pygments_lexer": "ipython3",
   "version": "3.10.11"
  }
 },
 "nbformat": 4,
 "nbformat_minor": 5
}
